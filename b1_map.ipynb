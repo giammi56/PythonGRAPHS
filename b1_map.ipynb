{
 "cells": [
  {
   "cell_type": "code",
   "execution_count": null,
   "metadata": {
    "tags": []
   },
   "outputs": [],
   "source": [
    "import glob\n",
    "import math\n",
    "import uproot\n",
    "import numpy as np\n",
    "import pandas as pd\n",
    "import pkgutil\n",
    "import uproot_methods\n",
    "\n",
    "import matplotlib as mpl\n",
    "import matplotlib.pyplot as plt\n",
    "from matplotlib.colors import LightSource\n",
    "%matplotlib inline\n",
    "\n",
    "import re\n",
    "\n",
    "import mplhep as hep\n",
    "from mpl_toolkits.mplot3d import Axes3D\n",
    "from mpl_toolkits.mplot3d.art3d import Poly3DCollection\n",
    "\n",
    "plt.style.use(hep.style.ROOT) # For now ROOT defaults to CMS\n",
    "\n",
    "#to see which classes have been defined so far\n",
    "[modname for importer, modname, ispkg in pkgutil.walk_packages(uproot_methods.classes.__path__)]\n",
    "\n",
    "loc = \"angular_distr_el/CH9/ID_ALL_mol_e0_valid/EN_gate/MFPADs_multinew_std\"\n",
    "\n",
    "fileRCR = uproot.open(r\"D:\\UniFRK\\SEXTANT_sept2018\\R-C3H3F3O_550eV_CR_9600-3700ns_newEfield_multiCH9_MFPAD_30_t0.root\")\n",
    "fileRCL = uproot.open(r\"D:\\UniFRK\\SEXTANT_sept2018\\R-C3H3F3O_550eV_CL_9600-3700ns_newEfield_multiCH9_MFPAD_30_t0.root\")\n",
    "k=fileRCR[loc].keys()\n",
    "d=dict(fileRCR[loc].classes()) # shows the type of each item\n",
    "dict(fileRCR[loc]) # keys : values\n",
    "check = fileRCR[loc+\"/MFPAD3D_engate_costheta_-1.00_phi_-180\"]\n",
    "type(check)\n",
    "check._members()"
   ]
  },
  {
   "cell_type": "code",
   "execution_count": null,
   "metadata": {},
   "outputs": [],
   "source": [
    "b=check.numpy()\n",
    "type(b)\n",
    "b"
   ]
  },
  {
   "cell_type": "markdown",
   "metadata": {},
   "source": [
    "# Structure of values inside TH2D. MFPAD_xxx is a list\n",
    "\n",
    "r_norm_nhistRCR = nhistRCR[0] / nhistRCR[0].sum(axis=1)[:,np.newaxis] # r values normalise to 1\n",
    "\n",
    "phi_nhistRCR = nhistRCR[1][0][0] # phi\n",
    "\n",
    "costheta_nhistRCR = nhistRCR[1][0][1] # cos(theta)"
   ]
  },
  {
   "cell_type": "code",
   "execution_count": null,
   "metadata": {
    "tags": []
   },
   "outputs": [],
   "source": [
    "# initialize a nparray: best way is to know the size in advance\n",
    "# MFPAD_RCR=np.zeros((72,2))\n",
    "# ctetha_RCR=np.zeros((72,2))\n",
    "\n",
    "MFPAD_RCR=[] # initilialises a list\n",
    "ctetha_RCR=[]\n",
    "cosphi=[]\n",
    "MFPAD_xy=[]\n",
    "run_one=0\n",
    "for key, value in fileRCR[loc].items():\n",
    "        filename=loc+\"/\"+str(key).split(\";\")[0].replace(\"b'\",\"\")\n",
    "        if \"mfpad3d_engate_costheta\" in filename.lower():\n",
    "            # print(filename)\n",
    "            ctheta_nm=float((str(key).split(\"costheta_\")[1]).split(\"_phi\")[0])\n",
    "            phi_nm=float((str(key).split(\"phi_\")[1]).split(\";\")[0])\n",
    "            # phicos.append((ctheta_nm,phi_nm))\n",
    "            cosphi.append((ctheta_nm+0.1666,phi_nm+15)) # centered in the middle of the bins\n",
    "            #ctheta_n=re.search(\"costheta_(.*)_phi\", str(key)).group(1) #alternative with import re\n",
    "            temp=np.array(fileRCR[filename].numpy())\n",
    "            MFPAD_RCR.append(temp[0]) # it is a list!\n",
    "            if run_one == 0:\n",
    "                MFPAD_xy.append((temp[1][0][0] , temp[1][0][1])) # phi cos(theta) from 2D\n",
    "                run_one=1\n",
    "        elif \"cos(theta)\" in filename.lower():\n",
    "            ctheta_nc=float((str(key).split(\"costheta_\")[1]).split(\"_phi\")[0])\n",
    "            temp=np.array(fileRCR[filename].numpy())\n",
    "            ctetha_RCR.append(temp[0]) # it is a list!\n",
    "            ctheta_c = temp[1] # cos(theta) from 1D\n",
    "MFPAD_RCR=np.array(MFPAD_RCR)\n",
    "ctetha_RCR=np.array(ctetha_RCR) # it is a list!\n"
   ]
  },
  {
   "cell_type": "code",
   "execution_count": null,
   "metadata": {},
   "outputs": [],
   "source": [
    "MFPAD_RCL=[] # initilialises a list\n",
    "ctetha_RCL=[]\n",
    "cosphi=[]\n",
    "MFPAD_xy=[]\n",
    "run_one=0\n",
    "for key, value in fileRCL[loc].items():\n",
    "        filename=loc+\"/\"+str(key).split(\";\")[0].replace(\"b'\",\"\")\n",
    "        if \"mfpad3d_engate_costheta\" in filename.lower():\n",
    "            # print(filename)\n",
    "            ctheta_nm=float((str(key).split(\"costheta_\")[1]).split(\"_phi\")[0])\n",
    "            phi_nm=float((str(key).split(\"phi_\")[1]).split(\";\")[0])\n",
    "            # phicos.append((ctheta_nm,phi_nm)) #they are inverted\n",
    "            cosphi.append((ctheta_nm+0.1666,phi_nm+15))  # centered in the middle of the bins\n",
    "            #ctheta_n=re.search(\"costheta_(.*)_phi\", str(key)).group(1) #alternative with import re\n",
    "            temp=np.array(fileRCL[filename].numpy())\n",
    "            MFPAD_RCL.append(temp[0]) # it is a list!\n",
    "            if run_one == 0:\n",
    "                MFPAD_xy.append((temp[1][0][0] , temp[1][0][1])) # phi cos(theta) from 2D\n",
    "                run_one=1\n",
    "        elif \"cos(theta)\" in filename.lower():\n",
    "            ctheta_nc=float((str(key).split(\"costheta_\")[1]).split(\"_phi\")[0])\n",
    "            temp=np.array(fileRCL[filename].numpy())\n",
    "            ctetha_RCL.append(temp[0]) # it is a list!\n",
    "            ctheta_c = temp[1] # cos(theta) from 1D\n",
    "MFPAD_RCL=np.array(MFPAD_RCL)\n",
    "ctetha_RCL=np.array(ctetha_RCL) # it is a list!"
   ]
  },
  {
   "cell_type": "code",
   "execution_count": null,
   "metadata": {
    "tags": []
   },
   "outputs": [],
   "source": [
    "test=fileRCL[loc+\"/cos(theta)_e[0]_costheta_-1.00_phi_-180\"]\n",
    "# test.__dir__()\n",
    "# print(test._fTsumwx2)\n",
    "# print(test.variances)\n",
    "print(test.values)\n",
    "errc = np.sqrt(test.values)\n",
    "print(errc)"
   ]
  },
  {
   "cell_type": "code",
   "execution_count": null,
   "metadata": {},
   "outputs": [],
   "source": [
    "plt.scatter(range(len(test.values)),test.values,color='r')\n",
    "plt.errorbar(range(len(test.values)),test.values, yerr=errc, fmt=\"o\")"
   ]
  },
  {
   "cell_type": "code",
   "execution_count": null,
   "metadata": {
    "tags": []
   },
   "outputs": [],
   "source": [
    "print(MFPAD_xy[0][0].shape)\n",
    "MFPAD_xy[0][0] #to be reduced like ctheta_c_red"
   ]
  },
  {
   "cell_type": "code",
   "execution_count": null,
   "metadata": {
    "tags": []
   },
   "outputs": [],
   "source": [
    "print(ctetha_RCR[0].shape)\n",
    "ctetha_RCR[0]"
   ]
  },
  {
   "cell_type": "code",
   "execution_count": null,
   "metadata": {
    "tags": []
   },
   "outputs": [],
   "source": [
    "#need to take the centre\n",
    "print(ctheta_c.shape)\n",
    "ctheta_c"
   ]
  },
  {
   "cell_type": "code",
   "execution_count": null,
   "metadata": {
    "tags": []
   },
   "outputs": [],
   "source": [
    "ctheta_cred = (ctheta_c[1:] + ctheta_c[:-1])/2\n",
    "print(ctheta_cred.shape)"
   ]
  },
  {
   "cell_type": "code",
   "execution_count": null,
   "metadata": {
    "tags": []
   },
   "outputs": [],
   "source": [
    "print(type(temp[0]),temp[0].shape, len(MFPAD_RCR))\n",
    "temp[0]\n",
    "temp[1]"
   ]
  },
  {
   "cell_type": "code",
   "execution_count": null,
   "metadata": {},
   "outputs": [],
   "source": [
    "cPECD_norm =  np.divide(np.subtract(ctetha_RCR/ctetha_RCR.sum(axis=1)[:,np.newaxis],ctetha_RCL/ctetha_RCL.sum(axis=1)[:,np.newaxis]),np.add(ctetha_RCR/ctetha_RCR.sum(axis=1)[:,np.newaxis],ctetha_RCL/ctetha_RCL.sum(axis=1)[:,np.newaxis]))\n",
    "\n",
    "cPECD =  np.divide(np.subtract(ctetha_RCR,ctetha_RCL),np.add(ctetha_RCR,ctetha_RCL))\n",
    "\n",
    "# from the statistical book var = sqrt(1/Ntot)\n",
    "\n",
    "errPECD = np.sqrt(1/(ctetha_RCR+ctetha_RCL))\n",
    "\n",
    "cPECD.shape"
   ]
  },
  {
   "cell_type": "code",
   "execution_count": null,
   "metadata": {},
   "outputs": [],
   "source": [
    "plt.scatter(ctheta_cred,cPECD_norm[0])"
   ]
  },
  {
   "cell_type": "code",
   "execution_count": null,
   "metadata": {},
   "outputs": [],
   "source": [
    "# everything in iminuit is done through the Minuit object, so we import it\n",
    "from iminuit import Minuit\n",
    "# we also need a cost function to fit and import the LeastSquares function\n",
    "from iminuit.cost import LeastSquares\n",
    "from iminuit.util import describe, make_func_code\n",
    "import traceback\n",
    "\n",
    "class LeastSquares:\n",
    "    \"\"\"\n",
    "    Generic least-squares cost function.\n",
    "    \"\"\"\n",
    "    def __init__(self, model, x, y):\n",
    "        self.model = model  # model predicts y for given x\n",
    "        self.x = np.array(x)\n",
    "        self.y = np.array(y)\n",
    "\n",
    "    def __call__(self, *par):  # we accept a variable number of model parameters\n",
    "        ym = self.model(self.x, *par)\n",
    "        chi2 = np.sum((self.y - ym)**2)\n",
    "        return chi2\n",
    "\n",
    "# does this inherits from LeastSquare?\n",
    "class BetterLeastSquares(LeastSquares):\n",
    "    def __init__(self, model, x, y):\n",
    "        super().__init__(model, x, y)\n",
    "        self.func_code = make_func_code(describe(model)[1:])\n",
    "\n",
    "#NOTE +1 IS NOT NECESSARY!!!\n",
    "def PECD6(x, b1, b2, b3, b4, b5, b6):\n",
    "    return ((b1*x + 0.5*b3*(5*x**3-3*x) +0.125*b5*(63*x**5-70*x**3+15*x)) / (1 + 0.5*b2*(3*x**2-1) + 0.125*b4*(35*x**4-30**2+3) + 0.0625*b6*(231*x**6-315*x**4+105*x**2-5)))\n",
    "\n",
    "x_data = ctheta_cred\n",
    "y_data = cPECD_norm[0]\n",
    "\n",
    "# class iminuit.cost.LeastSquares(x, y, yerror, model, loss='linear', verbose=0)\n",
    "# Use this if you have data of the form (x, y +/- yerror).\n",
    "lsq = BetterLeastSquares(PECD6, x_data, y_data,)\n",
    "\n",
    "m = Minuit(lsq, errordef=Minuit.LEAST_SQUARES, limit_b1=(-1, 1), limit_b2=(-1, 1), limit_b3=(-1, 1), limit_b4=(-1, 1), limit_b5=(-1, 1), limit_b6=(-1, 1)) # initial values are 0 by default\n",
    "# m = Minuit(lsq, error_b1=0.01, error_b2=0.01, limit=((-1, 1), (-1, 1)), name=(\"b1\", \"b2\"), pedantic=False)\n",
    "m.migrad()\n",
    "# print(m.params)"
   ]
  },
  {
   "cell_type": "code",
   "execution_count": null,
   "metadata": {
    "tags": []
   },
   "outputs": [],
   "source": [
    "# modified with error\n",
    "# everything in iminuit is done through the Minuit object, so we import it\n",
    "from iminuit import Minuit\n",
    "# we also need a cost function to fit and import the LeastSquares function\n",
    "from iminuit.cost import LeastSquares\n",
    "from iminuit.util import describe, make_func_code\n",
    "import traceback\n",
    "\n",
    "class LeastSquares:\n",
    "    \"\"\"\n",
    "    Generic least-squares cost function with error.\n",
    "    \"\"\"\n",
    "    def __init__(self, model, x, y, err):\n",
    "        self.model = model  # model predicts y for given x\n",
    "        self.x = np.array(x)\n",
    "        self.y = np.array(y)\n",
    "        self.err = np.array(err)\n",
    "        # self.err = err\n",
    "\n",
    "    def __call__(self, *par):  # we accept a variable number of model parameters\n",
    "        ym = self.model(self.x, *par)\n",
    "        chi2 = np.sum((self.y - ym)**2/(self.err**2))\n",
    "        return chi2\n",
    "\n",
    "# does this inherits from LeastSquare?\n",
    "class BetterLeastSquares(LeastSquares):\n",
    "    def __init__(self, model, x, y, err):\n",
    "        super().__init__(model, x, y, err)\n",
    "        self.func_code = make_func_code(describe(model)[1:])\n",
    "\n",
    "#NOTE +1 IS NOT NECESSARY!!!\n",
    "def PECD6(x, b1, b2, b3, b4, b5, b6):\n",
    "    return ((b1*x + 0.5*b3*(5*x**3-3*x) +0.125*b5*(63*x**5-70*x**3+15*x)) / (1 + 0.5*b2*(3*x**2-1) + 0.125*b4*(35*x**4-30**2+3) + 0.0625*b6*(231*x**6-315*x**4+105*x**2-5)))\n",
    "\n",
    "x_data = ctheta_cred\n",
    "y_data = cPECD_norm[0]\n",
    "y_err = errPECD[0]\n",
    "\n",
    "# class iminuit.cost.LeastSquares(x, y, yerror, model, loss='linear', verbose=0)\n",
    "# Use this if you have data of the form (x, y +/- yerror).\n",
    "lsq = BetterLeastSquares(PECD6, x_data, y_data, y_err)\n",
    "\n",
    "# m = Minuit(lsq, errordef=Minuit.LEAST_SQUARES,limit_b1=(-1, 1), limit_b2=(-1, 1), limit_b3=(-1, 1), limit_b4=(-1, 1), limit_b5=(-1, 1), limit_b6=(-1, 1)) # initial values are 0 by default\n",
    "m = Minuit(lsq, errordef=Minuit.LEAST_SQUARES, limit_b1=(-1, 1), limit_b2=(-1, 1))\n",
    "m.migrad()\n",
    "m.hesse() # run covariance estimator\n",
    "# print(m.params)"
   ]
  },
  {
   "cell_type": "code",
   "execution_count": null,
   "metadata": {
    "tags": []
   },
   "outputs": [],
   "source": [
    "from scipy.interpolate import make_interp_spline, BSpline\n",
    "x_data_new = np.linspace(x_data.min(), x_data.max(), 300)\n",
    "bspl = make_interp_spline(x_data, PECD6(x_data, *m.values.values()), k=5)\n",
    "plt.plot(x_data_new, bspl(x_data_new))\n",
    "plt.scatter(ctheta_cred,cPECD_norm[0],color='r')\n",
    "plt.errorbar(ctheta_cred,cPECD_norm[0], yerr=errPECD[0], fmt=\"o\")\n",
    "plt.show()\n",
    "for p in m.parameters:\n",
    "    print(\"{} = {:2.3e} +/- {:2.3e}\".format(p, m.values[p], m.errors[p]))"
   ]
  },
  {
   "cell_type": "code",
   "execution_count": null,
   "metadata": {
    "tags": []
   },
   "outputs": [],
   "source": [
    "# modified with error\n",
    "# everything in iminuit is done through the Minuit object, so we import it\n",
    "from iminuit import Minuit\n",
    "# we also need a cost function to fit and import the LeastSquares function\n",
    "from iminuit.cost import LeastSquares\n",
    "from iminuit.util import describe, make_func_code\n",
    "import traceback\n",
    "\n",
    "class LeastSquares:\n",
    "    \"\"\"\n",
    "    Generic least-squares cost function with error.\n",
    "    \"\"\"\n",
    "    def __init__(self, model, x, y, err):\n",
    "        self.model = model  # model predicts y for given x\n",
    "        self.x = np.array(x)\n",
    "        self.y = np.array(y)\n",
    "        self.err = np.array(err)\n",
    "        # self.err = err\n",
    "\n",
    "    def __call__(self, *par):  # we accept a variable number of model parameters\n",
    "        ym = self.model(self.x, *par)\n",
    "        chi2 = np.sum((self.y - ym)**2/(self.err**2))\n",
    "        return chi2\n",
    "\n",
    "# does this inherits from LeastSquare?\n",
    "class BetterLeastSquares(LeastSquares):\n",
    "    def __init__(self, model, x, y, err):\n",
    "        super().__init__(model, x, y, err)\n",
    "        self.func_code = make_func_code(describe(model)[1:])\n",
    "\n",
    "# param_matrix=np.zeros((6,72)) #nparray initialization\n",
    "param_matrix = [[0 for i in range(72)] for j in range(6)] #i col, j row\n",
    "\n",
    "fig, axes = plt.subplots(6,12, figsize=(50, 24), sharex=True , sharey=True)\n",
    "fig.subplots_adjust(hspace = .5, wspace=.5)\n",
    "custom_xlim = (-1, 1)\n",
    "custom_ylim = (-0.2,0.2)\n",
    "\n",
    "for i in range(len(cosphi)): # len = 72\n",
    "    #print(i)\n",
    "    x_data = ctheta_cred\n",
    "    y_data = cPECD_norm[i]\n",
    "    y_err = errPECD[i]\n",
    "\n",
    "    lsq = BetterLeastSquares(PECD6, x_data, y_data, y_err)\n",
    "\n",
    "    m = Minuit(lsq, errordef=Minuit.LEAST_SQUARES, limit_b1=(-1, 1), limit_b2=(-1, 1), limit_b3=(-1, 1), limit_b4=(-1, 1), limit_b5=(-1, 1), limit_b6=(-1, 1)) # initial values are 0 by default\n",
    "    # m = Minuit(lsq, error_b1=0.01, error_b2=0.01, limit=((-1, 1), (-1, 1)), name=(\"b1\", \"b2\"), pedantic=False)\n",
    "    m.migrad() # run optimiser\n",
    "    m.hesse() # run covariance estimator\n",
    "    # print(m.params)\n",
    "    x_data_new = np.linspace(x_data.min(), x_data.max(), 300)\n",
    "    bspl = make_interp_spline(x_data, PECD6(x_data, *m.values.values()), k=5)\n",
    "    \n",
    "    ax = fig.add_subplot(6, 12, i+1)\n",
    "    ax.plot(x_data_new, bspl(x_data_new))\n",
    "    ax.scatter(ctheta_cred,y_data,color='r')\n",
    "    ax.set_xlim(custom_xlim)\n",
    "    ax.set_ylim(custom_ylim)\n",
    "    ax.errorbar(ctheta_cred,y_data, yerr=y_err, fmt=\"o\")\n",
    "    # ax.axis('off')\n",
    "    for j,p in zip(range(len(m.parameters)),m.parameters): # len = 6\n",
    "        param_matrix[j][i] = ((m.values[p], m.errors[p]))\n",
    "        # param_matrix[i][j] = (m.values[p], m.errors[p])\n",
    "\n",
    "fig.tight_layout()\n",
    "plt.show()\n",
    "    # for p in m.parameters:\n",
    "    #     print(\"{} = {:2.3e} +/- {:2.3e}\".format(p, m.values[p], m.errors[p]))"
   ]
  },
  {
   "cell_type": "code",
   "execution_count": null,
   "metadata": {
    "tags": []
   },
   "outputs": [],
   "source": [
    "import pprint\n",
    "pprint.pprint(param_matrix)"
   ]
  },
  {
   "cell_type": "code",
   "execution_count": null,
   "metadata": {},
   "outputs": [],
   "source": [
    "len(m.parameters)"
   ]
  },
  {
   "cell_type": "code",
   "execution_count": null,
   "metadata": {},
   "outputs": [],
   "source": [
    "test2=[col[0] for col in param_matrix] #list\n",
    "b1=[col[0] for col in test2]"
   ]
  },
  {
   "cell_type": "code",
   "execution_count": null,
   "metadata": {},
   "outputs": [],
   "source": [
    "test=np.array(param_matrix) #numpy\n",
    "b1 = test[0,:,0]\n",
    "b2 = test[1,:,0]"
   ]
  },
  {
   "cell_type": "code",
   "execution_count": null,
   "metadata": {},
   "outputs": [],
   "source": [
    "b1[1]"
   ]
  },
  {
   "cell_type": "code",
   "execution_count": null,
   "metadata": {
    "tags": []
   },
   "outputs": [],
   "source": [
    "fig,axes = plt.subplots(1,6, figsize=(50, 7.5))\n",
    "cosphi=np.array(cosphi)\n",
    "for i in range(6):\n",
    "    # ax[0,1] = fig.add_subplot(1, 2, 1)\n",
    "    axes[i].contourf(cosphi[:,1].reshape(12,6),cosphi[:,0].reshape(12,6),test[i,:,0].reshape(12,6), np.arange(-1., 1., .005), extend='both', cmap='seismic')\n",
    "    # axes[i].contourf(cosphi[:,0].reshape(12,6),cosphi[:,1].reshape(12,6),test[i,:,0].reshape(6,12).T)\n",
    "plt.show()"
   ]
  },
  {
   "cell_type": "code",
   "execution_count": null,
   "metadata": {},
   "outputs": [],
   "source": [
    "import matplotlib as mpl\n",
    "from matplotlib import cm\n",
    "\n",
    "magma_cmap = mpl.cm.get_cmap('magma')\n",
    "seismic_cmap = mpl.cm.get_cmap('seismic')\n",
    "\n",
    "magma_rgb = []\n",
    "seismic_rgb = []\n",
    "norm = mpl.colors.Normalize(vmin=0, vmax=255)\n",
    "\n",
    "for i in range(0, 255):\n",
    "       k = mpl.colors.colorConverter.to_rgb(magma_cmap(norm(i)))\n",
    "       magma_rgb.append(k)\n",
    "\n",
    "for i in range(0, 255):\n",
    "       k = mpl.colors.colorConverter.to_rgb(seismic_cmap(norm(i)))\n",
    "       seismic_rgb.append(k)\n",
    "\n",
    "def matplotlib_to_plotly(cmap, pl_entries):\n",
    "    h = 1.0/(pl_entries-1)\n",
    "    pl_colorscale = []\n",
    "\n",
    "    for k in range(pl_entries):\n",
    "        C = list(map(np.uint8, np.array(cmap(k*h)[:3])*255))\n",
    "        pl_colorscale.append([k*h, 'rgb'+str((C[0], C[1], C[2]))])\n",
    "\n",
    "    return pl_colorscale\n",
    "\n",
    "Magma_r = matplotlib_to_plotly(magma_cmap, 255)\n",
    "Seismic_r = matplotlib_to_plotly(seismic_cmap, 255)"
   ]
  },
  {
   "cell_type": "code",
   "execution_count": null,
   "metadata": {},
   "outputs": [],
   "source": [
    "import plotly.graph_objects as go\n",
    "from plotly.subplots import make_subplots\n",
    "\n",
    "fig = make_subplots(rows=1, cols=2,\n",
    "                    subplot_titles=('Without Smoothing', 'With Smoothing'))\n",
    "\n",
    "fig.add_trace(go.Contour(z=test[0,:,0], x=cosphi[:,1], y=cosphi[:,0], line_smoothing=0, colorscale=Seismic_r, contours=dict(start=-0.2, end=0.2, size=0.04)), 1, 1)\n",
    "fig.add_trace(go.Contour(z=test[0,:,0], x=cosphi[:,1], y=cosphi[:,0], line_smoothing=0.75, colorscale=Seismic_r,contours=dict(start=-0.2, end=0.2, size=0.04)), 1, 2)\n",
    "\n",
    "\n",
    "fig.show()"
   ]
  },
  {
   "cell_type": "code",
   "execution_count": null,
   "metadata": {},
   "outputs": [],
   "source": [
    "len(test)"
   ]
  },
  {
   "cell_type": "code",
   "execution_count": null,
   "metadata": {},
   "outputs": [],
   "source": [
    "#NOTE: THE SCALE IS FAKE FOR PLOT 2 AND 6\n",
    "\n",
    "import plotly.graph_objects as go\n",
    "from plotly.subplots import make_subplots\n",
    "\n",
    "fig = go.Figure()\n",
    "\n",
    "fig = make_subplots(rows=6, cols=2, vertical_spacing=0.015,\n",
    "                    subplot_titles=('Without Smoothing', 'With Smoothing'))\n",
    "\n",
    "for i in range(len(test)):\n",
    "    if i==1 or i==5:\n",
    "        fig.add_trace(go.Contour(z=test[i,:,0], x=cosphi[:,1], y=cosphi[:,0], line_smoothing=0, colorscale=Seismic_r, legendgroup=\"no\", showscale=False, showlegend=False, contours=dict(start=-1, end=1, size=0.5)), i+1, 1)\n",
    "        fig.add_trace(go.Contour(z=test[i,:,0], x=cosphi[:,1], y=cosphi[:,0], line_smoothing=0.85, colorscale=Seismic_r, legendgroup=\"no\", showscale=False, showlegend=False, contours=dict(start=-1, end=1, size=0.5)), i+1, 2)\n",
    "    else:\n",
    "        fig.add_trace(go.Contour(z=test[i,:,0], x=cosphi[:,1], y=cosphi[:,0], line_smoothing=0, colorscale=Seismic_r, legendgroup=\"yes\", contours=dict(start=-0.2, end=0.2, size=0.04)), i+1, 1)\n",
    "        fig.add_trace(go.Contour(z=test[i,:,0], x=cosphi[:,1], y=cosphi[:,0], line_smoothing=0.85, colorscale=Seismic_r, legendgroup=\"yes\", contours=dict(start=-0.2, end=0.2, size=0.04)), i+1, 2)\n",
    "\n",
    "fig.update_layout(\n",
    "    # coloraxis=dict(colorscale=Seismic_r),\n",
    "    # showlegend=False,\n",
    "    autosize=False,\n",
    "    # width=800,\n",
    "    height=1500,\n",
    "    margin=dict(l=0,r=0,b=25,t=25)\n",
    "    )\n",
    "\n",
    "fig.show()"
   ]
  },
  {
   "cell_type": "code",
   "execution_count": null,
   "metadata": {},
   "outputs": [],
   "source": []
  }
 ],
 "metadata": {
  "kernelspec": {
   "display_name": "Python 3.8.5 64-bit ('base': conda)",
   "metadata": {
    "interpreter": {
     "hash": "14199186261275788dfea1c403a51d6f79ce13d90df2e64b59dbb79af406f697"
    }
   },
   "name": "Python 3.8.5 64-bit ('base': conda)"
  },
  "language_info": {
   "codemirror_mode": {
    "name": "ipython",
    "version": 3
   },
   "file_extension": ".py",
   "mimetype": "text/x-python",
   "name": "python",
   "nbconvert_exporter": "python",
   "pygments_lexer": "ipython3",
   "version": "3.8.5-final"
  }
 },
 "nbformat": 4,
 "nbformat_minor": 2
}
