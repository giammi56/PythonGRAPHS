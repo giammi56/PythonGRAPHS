{
 "cells": [
  {
   "cell_type": "code",
   "execution_count": null,
   "metadata": {},
   "outputs": [],
   "source": [
    "import glob\r\n",
    "import math\r\n",
    "import uproot\r\n",
    "import numpy as np\r\n",
    "import pandas as pd\r\n",
    "import pkgutil\r\n",
    "import uproot_methods\r\n",
    "\r\n",
    "import matplotlib as mpl\r\n",
    "import matplotlib.pyplot as plt\r\n",
    "from matplotlib.colors import LightSource\r\n",
    "%matplotlib inline\r\n",
    "\r\n",
    "import mplhep as hep\r\n",
    "from mpl_toolkits.mplot3d import Axes3D\r\n",
    "from mpl_toolkits.mplot3d.art3d import Poly3DCollection\r\n",
    "\r\n",
    "import plotly.graph_objects as go\r\n",
    "\r\n",
    "plt.style.use(hep.style.ROOT) # For now ROOT defaults to CMS\r\n",
    "\r\n",
    "path = r'D:\\UniFRK\\SEXTANT_sept2018\\S-TFMoX\\enant=S_hel=+1_KE=3.0eV' # use your path\r\n",
    "all_files = glob.glob(path + \"/*.dat\")\r\n",
    "\r\n",
    "li = []\r\n",
    "colnames=[\"phi\",\"cos(theta)\",\"value\"] \r\n",
    "\r\n",
    "# how to load multiple files http://jonathansoma.com/lede/foundations-2017/classes/working-with-many-files/class/\r\n",
    "for filename in all_files:\r\n",
    "    df = pd.read_csv(filename, delimiter=r\"\\s+\", names=colnames, header=None) \r\n",
    "    # or delim_whitespace=True, it is faste\r\n",
    "    # r\"\\s+\" is a regex (regular expression)\r\n",
    "    df[\"filename\"]=filename.split(\"\\\\\")[-1].split(\".\")[0] # adding a column with the file name\r\n",
    "    df[\"filename\"]=df[\"filename\"].str.replace(\" \",\"\") # corrects for spaces\r\n",
    "    df[\"filename\"]=df[\"filename\"].astype(\"category\")\r\n",
    "    li.append(df) # a unique DataFrame\r\n",
    "\r\n",
    "frame = pd.concat(li, axis=0)\r\n",
    "frame_srt=frame.groupby(\"filename\")\r\n",
    "frame.loc[frame[\"filename\"] == \"1_1\"] # first way of selecting the right file\r\n",
    "frame_set = frame.set_index(\"filename\") # build a multiindex using the categories of filename\r\n",
    "phi = frame.loc[frame[\"filename\"] == \"1_1\"].iloc[:,0].to_numpy() # phi\r\n",
    "ctheta = frame.loc[frame[\"filename\"] == \"1_1\"].iloc[:,1].to_numpy() # cos(theta)\r\n",
    "counts = frame.loc[frame[\"filename\"] == \"1_1\"].iloc[:,2].to_numpy() # counts\r\n",
    "\r\n",
    "theta_rad = np.arccos(ctheta)\r\n",
    "phi_rad = phi * np.pi/180.\r\n",
    "\r\n",
    "# convertion to spherical coordinates 1D vectors of shape (2000,1)\r\n",
    "x = counts * np.sin(theta_rad) * np.cos(phi_rad)\r\n",
    "X = x.reshape(100,200)\r\n",
    "y = counts * np.sin(theta_rad) * np.sin(phi_rad)\r\n",
    "Y = y.reshape(100,200)\r\n",
    "z = counts * ctheta\r\n",
    "Z = z.reshape(100,200)\r\n",
    "\r\n",
    "d = np.sqrt(x**2+y**2+z**2)\r\n",
    "d_matrix = np.sqrt(X**2+Y**2+Z**2)"
   ]
  },
  {
   "cell_type": "code",
   "execution_count": null,
   "metadata": {},
   "outputs": [],
   "source": [
    "fig = go.Figure(data=[go.Mesh3d(x=x, y=y, z=z,\r\n",
    "                    width=500, height=500,\r\n",
    "                    opacity=0.5,\r\n",
    "                    color='rgba(244,22,100,0.6)'\r\n",
    "                  )])\r\n",
    "fig.update_layout(title='TFMeOx MFPADs theory triangulated',margin=dict(l=65, r=50, b=65, t=90))\r\n",
    "fig.show()"
   ]
  },
  {
   "cell_type": "code",
   "execution_count": null,
   "metadata": {},
   "outputs": [],
   "source": [
    "# Go scatters do not provide a legend\r\n",
    "fig = go.Figure(data=[go.Scatter3d(x=x, y=y, z=z,\r\n",
    "                    mode='markers',\r\n",
    "                    marker=dict(\r\n",
    "                        size=5,\r\n",
    "                        color=d,            # set color to an array/list of desired values\r\n",
    "                        colorscale='Viridis',   # choose a colorscale\r\n",
    "                        opacity=1.,\r\n",
    "                        showscale=True          # to show the legend according to the color\r\n",
    "                   )\r\n",
    "                )])\r\n",
    "fig.update_layout(title='TFMeOx MFPADs theory scattered',margin=dict(l=0, r=0, b=0, t=0))\r\n",
    "fig.show()"
   ]
  },
  {
   "cell_type": "code",
   "execution_count": null,
   "metadata": {},
   "outputs": [],
   "source": [
    "fig = go.Figure(data=[go.Surface(z=Z, x=X, y=Y, surfacecolor=d_matrix)])\r\n",
    "fig.update_layout(title='TFMeOx MFPADs theor surfy', autosize=False,\r\n",
    "                #   width=500, height=500,\r\n",
    "                #   margin=dict(l=65, r=50, b=65, t=90))\r\n",
    "                  margin=dict(l=0, r=0, b=0, t=0))\r\n",
    "fig.show()"
   ]
  },
  {
   "cell_type": "code",
   "execution_count": null,
   "metadata": {},
   "outputs": [],
   "source": []
  }
 ],
 "metadata": {
  "kernelspec": {
   "display_name": "Python 3.8.5 64-bit ('base': conda)",
   "metadata": {
    "interpreter": {
     "hash": "14199186261275788dfea1c403a51d6f79ce13d90df2e64b59dbb79af406f697"
    }
   },
   "name": "Python 3.8.5 64-bit ('base': conda)"
  },
  "language_info": {
   "codemirror_mode": {
    "name": "ipython",
    "version": 3
   },
   "file_extension": ".py",
   "mimetype": "text/x-python",
   "name": "python",
   "nbconvert_exporter": "python",
   "pygments_lexer": "ipython3",
   "version": "3.8.5-final"
  }
 },
 "nbformat": 4,
 "nbformat_minor": 2
}
