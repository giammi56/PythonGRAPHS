{
 "cells": [
  {
   "cell_type": "code",
   "execution_count": null,
   "metadata": {},
   "outputs": [],
   "source": [
    "import glob\r\n",
    "import math\r\n",
    "import uproot\r\n",
    "import numpy as np\r\n",
    "import pandas as pd\r\n",
    "import pkgutil\r\n",
    "import uproot_methods\r\n",
    "\r\n",
    "import matplotlib as mpl\r\n",
    "import matplotlib.pyplot as plt\r\n",
    "from matplotlib.colors import LightSource\r\n",
    "%matplotlib inline\r\n",
    "\r\n",
    "import mplhep as hep\r\n",
    "from mpl_toolkits.mplot3d import Axes3D\r\n",
    "from mpl_toolkits.mplot3d.art3d import Poly3DCollection\r\n",
    "\r\n",
    "import plotly.graph_objects as go\r\n",
    "\r\n",
    "plt.style.use(hep.style.ROOT) # For now ROOT defaults to CMS\r\n",
    "\r\n",
    "path = r'D:\\UniFRK\\SEXTANT_sept2018\\S-TFMoX\\enant=S_hel=+1_KE=3.0eV' # use your path\r\n",
    "all_files = glob.glob(pat\n",
    "cosphi_th = []h + \"/*.dat\")\r\n",
    "\r\n",
    "li = []\r\n",
    "colnames=[\"phi\",\"cos(theta)\",\"value\"] \r\n",
    "\r\n",
    "# how to load multiple files http://jonathansoma.com/lede/foundations-2017/classes/working-with-many-files/class/\r\n",
    "for filename in all_files:\r\n",
    "    df = pd.read_csv(filename, delimiter=r\"\\s+\", names=colnames, header=None) \r\n",
    "    # or delim_whitespace=True, it is faste\r\n",
    "    # r\"\\s+\" is a regex (regular expression)\r\n",
    "    df[\"filename\"]=filename.split(\"\\\\\")[-1].split(\".\")[0] # adding a column with the file name\r\n",
    "    df[\"filename\"]=df[\"filename\"].str.repl\n",
    "    cosphi_th.append((int(df[\"filename\"].str.split(\"_\")[0][0]),int(df[\"filename\"].str.split(\"_\")[0][1])))ace(\" \",\"\") # corrects for spaces\r\n",
    "    df[\"filename\"]=df[\"filename\"].astype(\"category\")\r\n",
    "    \n",
    "cosphi_th=np.array(cosphi_th)li.append(df) # a unique DataFrame\r\n",
    "\r\n",
    "frame = pd.concat(li, axis=0)\r\n",
    "frame_srt=frame.groupby(\"filename\")\r\n",
    "frame.loc[frame[\"filename\"] == \"1_1\"] # first way of selecting the right file\r\n",
    "frame_set = frame.set_index(\"filename\") # build a multiindex using the categories of filename\r\n",
    "phi = frame.loc[frame[\"filename\"] == \"1_1\"].iloc[:,0].to_numpy() # phi\r\n",
    "ctheta = frame.loc[frame[\"filename\"] == \"1_1\"].iloc[:,1].to_numpy() # cos(theta)\r\n",
    "counts = frame.loc[frame[\"filename\"] == \"1_1\"].iloc[:,2].to_numpy() # counts\r\n",
    "\r\n",
    "#Forcing the values at the edges of +-phi to be the same avg\r\n",
    "test11=frame.loc[frame[\"filename\"] == \"1_1\"]\r\n",
    "a1=test11.loc[test11[\"phi\"] == np.min(phi)][\"value\"].to_numpy()\r\n",
    "b1=test11.loc[test11[\"phi\"] == np.max(phi)][\"value\"].to_numpy()\r\n",
    "avgphi=np.divide(a1+b1,2)\r\n",
    "avgphi=np.pad(avgphi, (0,len(phi)-len(avgphi)), 'constant', constant_values=0)\r\n",
    "# avgphipd = pd.Series(avgphi)\r\n",
    "test11[\"value\"].mask(test11[\"phi\"] == np.min(phi), avgphi, inplace=True)\r\n",
    "test11[\"value\"].mask(test11[\"phi\"] == np.max(phi), avgphi, inplace=True)\r\n",
    "\r\n",
    "#Forcing the values at the edges of +-ctheta to be the same avg\r\n",
    "a2=test11.loc[test11[\"cos(theta)\"] == np.min(ctheta)][\"value\"].to_numpy()\r\n",
    "b2=test11.loc[test11[\"cos(theta)\"] == np.max(ctheta)][\"value\"].to_numpy()\r\n",
    "avgcos=np.divide(a2+b2,2)\r\n",
    "avgcos=np.pad(avgcos, (0,len(ctheta)-len(avgcos)), 'constant', constant_values=0)\r\n",
    "# avgcospd = pd.Series(avgcos)\r\n",
    "# test11[\"value\"].mask(test11[\"cos(theta)\"] == np.min(ctheta), avgcos, inplace=True)\r\n",
    "# test11[\"value\"].mask(test11[\"cos(theta)\"] == np.max(ctheta), avgcos, inplace=True)\r\n",
    "\r\n",
    "counts_fixed = test11.iloc[:,2].to_numpy()\r\n",
    "phi_fixed = np.where(phi==np.min(phi), -180., phi) #the last is an else\r\n",
    "phi_fixed = np.where(phi==np.max(phi), 180., phi_fixed)\r\n",
    "ctheta_fixed = np.where(ctheta==np.min(ctheta), -1., ctheta)\r\n",
    "ctheta_fixed = np.where(ctheta==np.max(ctheta), 1., ctheta_fixed)\r\n",
    "# print(np.unique(phi_fixed))\r\n",
    "\r\n",
    "theta_rad = np.arccos(ctheta)\r\n",
    "# theta_rad = np.arccos(ctheta_fixed)\r\n",
    "phi_rad = phi * np.pi/180.\r\n",
    "# phi_rad = phi_fixed * np.pi/180.\r\n",
    "countsn = counts\r\n",
    "# countsn = counts_fixed\r\n",
    "\r\n",
    "# convertion to spherical coordinates 1D vectors of shape (20000,1)\r\n",
    "x = countsn * np.sin(theta_rad) * np.cos(phi_rad)\r\n",
    "X = x.reshape(200,100)\r\n",
    "y = countsn * np.sin(theta_rad) * np.sin(phi_rad)\r\n",
    "Y = y.reshape(200,100)\r\n",
    "z = countsn * np.cos(theta_rad)\r\n",
    "Z = z.reshape(200,100)\r\n",
    "\r\n",
    "d = np.sqrt(x**2+y**2+z**2)\r\n",
    "d_matrix = np.sqrt(X**2+Y**2+Z**2)"
   ]
  },
  {
   "cell_type": "code",
   "execution_count": null,
   "metadata": {},
   "outputs": [],
   "source": [
    "fig=plt.figure()\r\n",
    "fig.show()\r\n",
    "ax=fig.add_subplot(111)\r\n",
    "\r\n",
    "# ax.plot(counts_fixed[0:200]-counts[0:200],c=\"b\",label='diff_counts[0:200]')\r\n",
    "ax.plot(counts_fixed-counts,c=\"b\",label='diff_counts')\r\n",
    "ax.plot(a1-b1,c=\"g\",label='diff_+phi_-phi')\r\n",
    "ax.plot(a2-b2,c=\"y\",label='diff_+ctheta_-ctheta')\r\n",
    "# ax.plot(avgcos[0:200]-counts[0:200],c=\"r\",label='diff_+avgcos_-counts[0:200]')\r\n",
    "# ax.plot(avgphi[0:200]-counts[0:200],c=\"m\",label='diff_+avgphi_-counts[0:200]')\r\n",
    "# ax.set_yscale('log')\r\n",
    "plt.legend(loc=\"best\")\r\n",
    "print(np.min(phi_fixed),np.max(phi_fixed),np.min(ctheta_fixed),np.max(ctheta_fixed))"
   ]
  },
  {
   "cell_type": "code",
   "execution_count": null,
   "metadata": {},
   "outputs": [],
   "source": [
    "fig = go.Figure(data=[go.Mesh3d(x=x, y=y, z=z,\r\n",
    "                      opacity=0.5,\r\n",
    "                      color=\"rgba(244,22,100,06)\"\r\n",
    "                 \r\n",
    " )])\r\n",
    "fig.update_layout(title=\"TFMeOx MFPADs theory triangulated\",\r\n",
    "                  width=500,\r\n",
    "                  height=500,\r\n",
    "                  margin=dict(l=65, r=50, b=65, t=90))\r\n",
    "fig.show()"
   ]
  },
  {
   "cell_type": "code",
   "execution_count": null,
   "metadata": {},
   "outputs": [],
   "source": [
    "# Go scatters do not provide a legend\r\n",
    "fig = go.Figure(data=[go.Scatter3d(x=ctheta, y=phi, z=counts,\r\n",
    "                    mode='markers',\r\n",
    "                    # mode='lines',\r\n",
    "                    marker=dict(\r\n",
    "                    size=1.5,\r\n",
    "                    colorscale='Viridis',   # choose a colorscale\r\n",
    "                    opacity=0.85,\r\n",
    "                    showscale=True          # to show the legend according to the color\r\n",
    "                   )\r\n",
    "                )])\r\n",
    "\r\n",
    "fig.update_layout(title=\"TFMeOx MFPADs spherical coordinates\",\r\n",
    "                  width=500,\r\n",
    "                  height=500,\r\n",
    "                  margin=dict(l=65, r=50, b=65, t=90))\r\n",
    "                #   margin=dict(l=0, r=0, b=0, t=0))\r\n",
    "fig.show()"
   ]
  },
  {
   "cell_type": "code",
   "execution_count": null,
   "metadata": {},
   "outputs": [],
   "source": [
    "# Go scatters do not provide a legend\r\n",
    "fig = go.Figure(data=[go.Scatter3d(x=x, y=y, z=z,\r\n",
    "                    mode='markers',\r\n",
    "                    marker=dict(\r\n",
    "                        size=5,\r\n",
    "                        color=d,            # set color to an array/list of desired values\r\n",
    "                        colorscale='Viridis',   # choose a colorscale\r\n",
    "                        opacity=1.,\r\n",
    "                        showscale=True          # to show the legend according to the color\r\n",
    "                   )\r\n",
    "                )])\r\n",
    "\r\n",
    "fig.update_layout(title=\"TFMeOx MFPADs theory scattered\",\r\n",
    "                  width=500,\r\n",
    "                  height=500,\r\n",
    "                  margin=dict(l=65, r=50, b=65, t=90))\r\n",
    "                #   margin=dict(l=0, r=0, b=0, t=0))\r\n",
    "fig.show()"
   ]
  },
  {
   "cell_type": "markdown",
   "metadata": {},
   "source": [
    "the Z distribution has the ending and the starting data that aren't matching. This is regardless the reshaping"
   ]
  },
  {
   "cell_type": "code",
   "execution_count": null,
   "metadata": {},
   "outputs": [],
   "source": [
    "fig = go.Figure(data=[go.Surface(z=Z[0:200,0:100], x=X[0:200,0:100], y=Y[0:200,0:100], surfacecolor=d_matrix, connectgaps=True)])\r\n",
    "fig.update_layout(title='TFMeOx MFPADs theory surf', autosize=False,\r\n",
    "                # width=500,\r\n",
    "                # height=500,\r\n",
    "                # margin=dict(l=65, r=50, b=65, t=90))\r\n",
    "                  margin=dict(l=0, r=0, b=0, t=0))\r\n",
    "fig.show()"
   ]
  },
  {
   "cell_type": "markdown",
   "metadata": {},
   "source": [
    "It is possible to force the equality and therefore bridging the gap"
   ]
  },
  {
   "cell_type": "code",
   "execution_count": null,
   "metadata": {},
   "outputs": [],
   "source": [
    "#fixing the stripe\r\n",
    "Y[-1,0:100]=Y[0,0:100]\r\n",
    "X[-1,0:100]=X[0,0:100]\r\n",
    "Z[-1,0:100]=Z[0,0:100]"
   ]
  },
  {
   "cell_type": "code",
   "execution_count": null,
   "metadata": {},
   "outputs": [],
   "source": [
    "fig = go.Figure(data=[go.Surface(z=Z[0:200,0:100], x=X[0:200,0:100], y=Y[0:200,0:100], surfacecolor=d_matrix, connectgaps=True)])\r\n",
    "fig.update_layout(title='TFMeOx MFPADs theory surf', autosize=False,\r\n",
    "                # width=500,\r\n",
    "                # height=500,\r\n",
    "                # margin=dict(l=65, r=50, b=65, t=90))\r\n",
    "                  margin=dict(l=0, r=0, b=0, t=0))\r\n",
    "fig.show()"
   ]
  },
  {
   "cell_type": "code",
   "execution_count": null,
   "metadata": {},
   "outputs": [],
   "source": [
    "fig = go.Figure(data=[go.Surface(z=Z[0:200,0:100], surfacecolor=d_matrix, connectgaps=True)])\r\n",
    "fig.update_layout(title='TFMeOx MFPADs theory surf', autosize=False,\r\n",
    "                #   width=500, height=500,\r\n",
    "                #   margin=dict(l=65, r=50, b=65, t=90))\r\n",
    "                  margin=dict(l=0, r=0, b=0, t=0))\r\n",
    "fig.show()"
   ]
  },
  {
   "cell_type": "code",
   "execution_count": null,
   "metadata": {},
   "outputs": [],
   "source": []
  }
 ],
 "metadata": {
  "kernelspec": {
   "display_name": "Python 3.8.5 64-bit ('base': conda)",
   "metadata": {
    "interpreter": {
     "hash": "14199186261275788dfea1c403a51d6f79ce13d90df2e64b59dbb79af406f697"
    }
   },
   "name": "Python 3.8.5 64-bit ('base': conda)"
  },
  "language_info": {
   "codemirror_mode": {
    "name": "ipython",
    "version": 3
   },
   "file_extension": ".py",
   "mimetype": "text/x-python",
   "name": "python",
   "nbconvert_exporter": "python",
   "pygments_lexer": "ipython3",
   "version": "3.8.5-final"
  }
 },
 "nbformat": 4,
 "nbformat_minor": 2
}
