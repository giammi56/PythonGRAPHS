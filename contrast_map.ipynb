{
 "cells": [
  {
   "cell_type": "code",
   "execution_count": null,
   "metadata": {},
   "outputs": [],
   "source": [
    "import uproot\n",
    "import numpy as np\n",
    "import pkgutil\n",
    "import uproot_methods\n",
    "import matplotlib as mpl\n",
    "import matplotlib.pyplot as plt\n",
    "import max_functions as mf\n",
    "%matplotlib inline\n",
    "import mplhep as hep\n",
    "plt.style.use(hep.style.ROOT) # For now ROOT defaults to CMS\n",
    "import seaborn as sns\n",
    "from scipy.interpolate import griddata\n",
    "\n",
    "#to see which classes have been defined so far\n",
    "[modname for importer, modname, ispkg in pkgutil.walk_packages(uproot_methods.classes.__path__)]\n",
    "\n",
    "fileRCR = uproot.open(r\"D:\\UniFRK\\SEXTANT_sept2018\\R-C3H3F3O_550eV_CR_newEfield_ALLCH_MFPAD_30_t0.root\")\n",
    "fileRCR[\"angular_distr_el/ALL_CH/test/MFPADs_e_multinew_check\"].keys()\n",
    "dict(fileRCR[\"angular_distr_el/ALL_CH/test/MFPADs_e_multinew_check\"].classes())\n",
    "histRCR = fileRCR[\"angular_distr_el/ALL_CH/test/MFPADs_e_multinew_check/MFPAD3D_ALLdir_usr_gated\"]\n",
    "\n",
    "fileRCR = uproot.open(r\"D:\\UniFRK\\SEXTANT_sept2018\\S-C3H3F3O_550eV_CR_newEfield_ALLCH_MFPAD_30_t0.root\")\n",
    "fileRCR[\"angular_distr_el/ALL_CH/test/MFPADs_e_multinew_check\"].keys()\n",
    "dict(fileRCR[\"angular_distr_el/ALL_CH/test/MFPADs_e_multinew_check\"].classes())\n",
    "histRCR = fileRCR[\"angular_distr_el/ALL_CH/test/MFPADs_e_multinew_check/MFPAD3D_ALLdir_usr_gated\"]\n",
    "\n",
    "fileRCL = uproot.open(r\"D:\\UniFRK\\SEXTANT_sept2018\\R-C3H3F3O_550eV_CL_newEfield_ALLCH_MFPAD_30_t0.root\")\n",
    "fileRCL[\"angular_distr_el/ALL_CH/test/MFPADs_e_multinew_check\"].keys()\n",
    "dict(fileRCL[\"angular_distr_el/ALL_CH/test/MFPADs_e_multinew_check\"].classes())\n",
    "histRCL = fileRCL[\"angular_distr_el/ALL_CH/test/MFPADs_e_multinew_check/MFPAD3D_ALLdir_usr_gated\"]\n",
    "\n",
    "fileSCL = uproot.open(r\"D:\\UniFRK\\SEXTANT_sept2018\\S-C3H3F3O_550eV_CL_newEfield_ALLCH_MFPAD_30_t0.root\")\n",
    "fileSCL[\"angular_distr_el/ALL_CH/test/MFPADs_e_multinew_check\"].keys()\n",
    "dict(fileSCL[\"angular_distr_el/ALL_CH/test/MFPADs_e_multinew_check\"].classes())\n",
    "histSCL = fileSCL[\"angular_distr_el/ALL_CH/test/MFPADs_e_multinew_check/MFPAD3D_ALLdir_usr_gated\"]"
   ]
  },
  {
   "cell_type": "code",
   "execution_count": null,
   "metadata": {},
   "outputs": [],
   "source": []
  },
  {
   "cell_type": "code",
   "execution_count": null,
   "metadata": {},
   "outputs": [],
   "source": [
    "phistRCR = histRCR.pandas()\n",
    "nhistRCR = histRCR.numpy()\n",
    "r_norm_nhistRCR = nhistRCR[0] / nhistRCR[0].sum(axis=1)[:,np.newaxis] # r values normalise to 1\n",
    "phi_nhistRCR = nhistRCR[1][0][0] # phi\n",
    "costheta_nhistRCR = nhistRCR[1][0][1] # cos(theta)\n",
    "\n",
    "phistRCL = histRCL.pandas()\n",
    "nhistRCL = histRCL.numpy()\n",
    "r_norm_nhistRCL = nhistRCL[0] / nhistRCL[0].sum(axis=1)[:,np.newaxis] # z values normalise to 1\n",
    "phi_nhistRCL = nhistRCL[1][0][0] # phi\n",
    "costheta_nhistRCL = nhistRCL[1][0][1] # cos(theta)\n",
    "\n",
    "phistSCR = histRCR.pandas()\n",
    "nhistSCR = histRCR.numpy()\n",
    "r_norm_nhistSCR = nhistSCR[0] / nhistRCR[0].sum(axis=1)[:,np.newaxis] # z values normalise to 1\n",
    "phi_nhistSCR = nhistSCR[1][0][0] # phi\n",
    "costheta_nhistSCR = nhistSCR[1][0][1] # cos(theta)\n",
    "\n",
    "phistSCL = histSCL.pandas()\n",
    "nhistSCL = histSCL.numpy()\n",
    "r_norm_nhistSCL = nhistSCL[0] / nhistSCL[0].sum(axis=1)[:,np.newaxis] # z values normalise to 1\n",
    "phi_nhistSCL = nhistSCL[1][0][0] # phi\n",
    "costheta_nhistSCL = nhistSCL[1][0][1] # cos(theta)\n",
    "\n",
    "totR = np.add(r_norm_nhistRCL,r_norm_nhistRCR)\n",
    "totS = np.add(r_norm_nhistSCL,r_norm_nhistSCR)\n",
    "\n",
    "PECD =  np.divide(np.subtract(totR,totS),np.add(totR,totS))"
   ]
  },
  {
   "cell_type": "code",
   "execution_count": null,
   "metadata": {},
   "outputs": [],
   "source": [
    "nhistRCL[0].shape"
   ]
  },
  {
   "cell_type": "code",
   "execution_count": null,
   "metadata": {},
   "outputs": [],
   "source": [
    "(nhistRCL[0]/nhistRCL[0].sum(axis=1)[:,np.newaxis]).shape"
   ]
  },
  {
   "cell_type": "code",
   "execution_count": null,
   "metadata": {
    "tags": []
   },
   "outputs": [],
   "source": [
    "print(r_norm_nhistRCR.shape)\n",
    "print(nhistRCR[0].shape)\n",
    "print(phi_nhistRCR.shape)\n",
    "print(costheta_nhistRCR.shape)\n",
    "# x=r_norm_nhistRCL*np.sin(np.arccos(costheta_nhistRCL))*np.cos(phi_nhistRCL)\n",
    "# y=r_norm_nhistRCL*np.sin(np.arccos(costheta_nhistRCL))*np.sin(phi_nhistRCL)\n",
    "# z=r_norm_nhistRCL*costheta_nhistRCL"
   ]
  },
  {
   "cell_type": "code",
   "execution_count": null,
   "metadata": {},
   "outputs": [],
   "source": [
    "cs = plt.contourf(PECD.T, 10, extent= [costheta_nhistSCL[0],costheta_nhistSCL[-1],phi_nhistSCL[0],phi_nhistSCL[-1]], aspect=\"auto\", cmap='seismic') # first option with increasing number of levels = 10\n",
    "cbar = plt.colorbar(cs)\n",
    "plt.title(\"Contrast map with the right axis, 10 levels\")\n",
    "plt.show()\n",
    "\n",
    "cs1 = plt.contourf(PECD.T, 8, extent= [costheta_nhistSCL[0],costheta_nhistSCL[-1],phi_nhistSCL[0],phi_nhistSCL[-1]], aspect=\"equal\",cmap='seismic') # first option with increasing number of levels\n",
    "cbar = plt.colorbar(cs1)\n",
    "plt.title(\"Contrast map with the right axis, 8 levels\")\n",
    "plt.show()"
   ]
  },
  {
   "cell_type": "code",
   "execution_count": null,
   "metadata": {},
   "outputs": [],
   "source": [
    "plt.imshow(PECD.T, extent= [costheta_nhistSCL[0],costheta_nhistSCL[-1],phi_nhistSCL[0],phi_nhistSCL[-1]], interpolation='quadric', cmap='seismic', aspect=\"auto\")\n",
    "# interpolation: [bicubic, quadric, spline16]\n",
    "plt.colorbar()\n",
    "# plt.axis(aspect='image');"
   ]
  },
  {
   "cell_type": "code",
   "execution_count": null,
   "metadata": {},
   "outputs": [],
   "source": [
    "import matplotlib as mpl\n",
    "from matplotlib import cm\n",
    "\n",
    "magma_cmap = mpl.cm.get_cmap('magma')\n",
    "seismic_cmap = mpl.cm.get_cmap('seismic')\n",
    "\n",
    "magma_rgb = []\n",
    "seismic_rgb = []\n",
    "norm = mpl.colors.Normalize(vmin=0, vmax=255)\n",
    "\n",
    "for i in range(0, 255):\n",
    "       k = mpl.colors.colorConverter.to_rgb(magma_cmap(norm(i)))\n",
    "       magma_rgb.append(k)\n",
    "\n",
    "for i in range(0, 255):\n",
    "       k = mpl.colors.colorConverter.to_rgb(seismic_cmap(norm(i)))\n",
    "       seismic_rgb.append(k)\n",
    "\n",
    "def matplotlib_to_plotly(cmap, pl_entries):\n",
    "    h = 1.0/(pl_entries-1)\n",
    "    pl_colorscale = []\n",
    "\n",
    "    for k in range(pl_entries):\n",
    "        C = list(map(np.uint8, np.array(cmap(k*h)[:3])*255))\n",
    "        pl_colorscale.append([k*h, 'rgb'+str((C[0], C[1], C[2]))])\n",
    "\n",
    "    return pl_colorscale\n",
    "\n",
    "Magma_r = matplotlib_to_plotly(magma_cmap, 255)\n",
    "Seismic_r = matplotlib_to_plotly(seismic_cmap, 255)"
   ]
  },
  {
   "cell_type": "code",
   "execution_count": null,
   "metadata": {},
   "outputs": [],
   "source": [
    "import plotly.graph_objects as go\n",
    "from plotly.subplots import make_subplots\n",
    "\n",
    "fig = go.Figure(data=go.Contour(z=PECD.T, x=costheta_nhistSCL, y=phi_nhistSCL, line_smoothing=0.85, colorscale=Seismic_r, contours=dict(start=-1, end=1, size=0.5) ))\n",
    "\n",
    "fig.show()"
   ]
  }
 ],
 "metadata": {
  "kernelspec": {
   "display_name": "Python 3.8.5 64-bit ('base': conda)",
   "metadata": {
    "interpreter": {
     "hash": "14199186261275788dfea1c403a51d6f79ce13d90df2e64b59dbb79af406f697"
    }
   },
   "name": "Python 3.8.5 64-bit ('base': conda)"
  },
  "language_info": {
   "codemirror_mode": {
    "name": "ipython",
    "version": 3
   },
   "file_extension": ".py",
   "mimetype": "text/x-python",
   "name": "python",
   "nbconvert_exporter": "python",
   "pygments_lexer": "ipython3",
   "version": "3.8.5-final"
  }
 },
 "nbformat": 4,
 "nbformat_minor": 2
}
