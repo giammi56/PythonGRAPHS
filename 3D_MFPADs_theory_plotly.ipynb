{
 "cells": [
  {
   "cell_type": "code",
   "execution_count": null,
   "metadata": {},
   "outputs": [],
   "source": [
    "import glob\n",
    "import math\n",
    "import uproot\n",
    "import numpy as np\n",
    "from numpy.lib.function_base import meshgrid\n",
    "import pandas as pd\n",
    "import pkgutil\n",
    "import uproot_methods\n",
    "\n",
    "import functions_giammi as fugi\n",
    "\n",
    "import matplotlib as mpl\n",
    "import matplotlib.pyplot as plt\n",
    "from matplotlib.colors import LightSource\n",
    "%matplotlib inline\n",
    "%config InlineBackend.figure_formats=[\"svg\"]\n",
    "\n",
    "import mplhep as hep\n",
    "from mpl_toolkits.mplot3d import Axes3D\n",
    "from mpl_toolkits.mplot3d.art3d import Poly3DCollection\n",
    "\n",
    "import plotly\n",
    "import plotly.graph_objects as go\n",
    "from plotly.subplots import make_subplots\n",
    "#just a fix for a bug\n",
    "import plotly.io as pio\n",
    "pio.renderers.default = 'iframe_connected'\n",
    "\n",
    "plt.style.use(hep.style.ROOT)  # For now ROOT defaults to CMS\n",
    "\n",
    "path1 = r'../PYTHON_graphs/DATA/Theory/TFMox-S/enant=S_hel=+1_KE=3.0eV'\n",
    "path2 = r'../PYTHON_graphs/DATA/Theory/TFMox-S/enant=S_hel=+1_KE=4.0eV'\n",
    "path3 = r'../PYTHON_graphs/DATA/Theory/TFMox-S/enant=S_hel=+1_KE=6.1eV'\n",
    "path4 = r'../PYTHON_graphs/DATA/Theory/TFMox-S/enant=S_hel=+1_KE=8.2eV'\n",
    "path = r'../PYTHON_graphs/DATA/Theory/TFMox-S/enant=S_hel=+1_KE=11.5eV'\n",
    "\n",
    "# glob has to be sorted (both in unix and windows)\n",
    "all_files = sorted(glob.glob(path + \"/**.dat\"))\n",
    "\n",
    "li = []\n",
    "cosphi_th = []\n",
    "test_opening = []\n",
    "allnames=[]\n",
    "colnames = [\"phi\", \"cos(theta)\", \"value\"]\n",
    "\n",
    "# how to load multiple files http://jonathansoma.com/lede/foundations-2017/classes/working-with-many-files/class/,\n",
    "for filename in all_files:\n",
    "    df = pd.read_csv(filename, delimiter=r\"\\s+\", names=colnames, header=None)  # r\"\\s+\" is a regex (regular expression)\n",
    "    # or delim_whitespace=True, it is faste\n",
    "    temp_name=(filename.replace(\" \",\"\")).split(\"/\")[-1].split(\".\")[0] # adding a column to df with the file name with no spaces and extension\n",
    "    cosphi_th.append((int(temp_name.split(\"_\")[0]), int(temp_name.split(\"_\")[1])))\n",
    "    df[\"filename\"]=temp_name\n",
    "    df[\"filename\"]=df[\"filename\"].astype(\"category\")\n",
    "    li.append(df) # a unique DataFrame\n",
    "\n",
    "cosphi_th = np.array(cosphi_th)\n",
    "frame = pd.concat(li, axis=0)\n",
    "#this commmand avoids 1_1 followed by 1_10\n",
    "frame_srt = frame.groupby(\"filename\",sort=False)\n",
    "\n",
    "for key, item in frame_srt:\n",
    "    allnames.append(key)\n",
    "\n",
    "frame_set = frame.set_index(\"filename\") # build a multiindex using the categories of filename"
   ]
  },
  {
   "cell_type": "code",
   "execution_count": null,
   "metadata": {},
   "outputs": [],
   "source": [
    "#look to the values in b1 map and found the MFPAD\n",
    "#accordinf to automatic_72_CPR.f90 from philipp [1,6] is from [cos(0), cos(pi)] = [1,-1]\n",
    "cosphi_adj=list(fugi.remap(cosphi_th,0.835,-0.835,-165,165))\n",
    "# cosphi_adj=list(remap(cosphi_th,-1.,1.,-180,180))\n",
    "cosphi_adj=np.around(cosphi_adj,3)\n",
    "\n",
    "dfind=pd.DataFrame(cosphi_adj, columns=[\"ctheta\",\"phi\"])\n",
    "dfind[\"item\"]=allnames\n",
    "dfind.loc[dfind[\"phi\"] == -105.]"
   ]
  },
  {
   "cell_type": "code",
   "execution_count": null,
   "metadata": {},
   "outputs": [],
   "source": [
    "#selecting the rght file according to the needs [\"filename\"] == \"x_x\"]\n",
    "nitem=\"1_3\"\n",
    "frame.loc[frame[\"filename\"] == nitem]  # first way of selecting the right file\n",
    "frame_set = frame.set_index(\"filename\")  # build a mul\n",
    "\n",
    "# converting to numpy arrays to plot: here full, in 72 MFPADs .unique()tiindex using the categories of filename\n",
    "phi = frame.loc[frame[\"filename\"] == nitem].iloc[:, 0].to_numpy()  # phi\n",
    "ctheta = frame.loc[frame[\"filename\"] == nitem].iloc[:, 1].to_numpy()  # cos(theta)\n",
    "counts = frame.loc[frame[\"filename\"] == nitem].iloc[:, 2].to_numpy()  # counts"
   ]
  },
  {
   "cell_type": "code",
   "execution_count": null,
   "metadata": {},
   "outputs": [],
   "source": [
    "fig,ax=plt.subplots()\n",
    "titel_fig=\"MFPAD el \"+str(nitem)\n",
    "ax.contourf(np.unique(phi),np.unique(ctheta),counts.reshape(200,100).T, cmap=\"viridis\")\n",
    "# plt.imshow(mPECD_cos_sum, vmin=-0.3, vmax=0.3, extent=[phiM[0],phiM[-1],cosM[0],cosM[-1]], interpolation='none', cmap=cmap_temp, aspect=\"auto\")\n",
    "ax.set_title(titel_fig)\n",
    "ax.set_xlabel('phi [DEG]')\n",
    "ax.set_ylabel('cos(theta) [adm]')\n",
    "fig.show()\n",
    "fig.savefig('OUTPUTS/MFPAD_th_el_1_3.png')"
   ]
  },
  {
   "cell_type": "code",
   "execution_count": null,
   "metadata": {},
   "outputs": [],
   "source": [
    "#convertion to cartesian coordinate in MF\n",
    "theta_rad = np.arccos(ctheta)\n",
    "# theta_rad = np.arccos(ctheta_fixed)\n",
    "phi_rad = phi * np.pi/180.\n",
    "# phi_rad = phi_fixed * np.pi/180.\n",
    "countsn = counts\n",
    "# countsn = counts_fixed\n",
    "\n",
    "# convertion to spherical coordinates 1D vectors of shape (20000,1)\n",
    "x = countsn * np.sin(theta_rad) * np.cos(phi_rad)\n",
    "X = x.reshape(200,100)\n",
    "y = countsn * np.sin(theta_rad) * np.sin(phi_rad)\n",
    "Y = y.reshape(200,100)\n",
    "z = countsn * np.cos(theta_rad)\n",
    "Z = z.reshape(200,100)\n",
    "\n",
    "d = np.sqrt(x**2+y**2+z**2)\n",
    "d_matrix = np.sqrt(X**2+Y**2+Z**2)"
   ]
  },
  {
   "cell_type": "markdown",
   "metadata": {},
   "source": [
    "fig=plt.figure()\n",
    "fig.show()\n",
    "ax=fig.add_subplot(111)\n",
    "\n",
    "# ax.plot(counts_fixed[0:200]-counts[0:200],c=\"b\",label='diff_counts[0:200]')\n",
    "ax.plot(counts_fixed-counts,c=\"b\",label='diff_counts')\n",
    "ax.plot(a1-b1,c=\"g\",label='diff_+phi_-phi')\n",
    "ax.plot(a2-b2,c=\"y\",label='diff_+ctheta_-ctheta')\n",
    "# ax.plot(avgcos[0:200]-counts[0:200],c=\"r\",label='diff_+avgcos_-counts[0:200]')\n",
    "# ax.plot(avgphi[0:200]-counts[0:200],c=\"m\",label='diff_+avgphi_-counts[0:200]')\n",
    "# ax.set_yscale('log')\n",
    "plt.legend(loc=\"best\")\n",
    "print(np.min(phi_fixed),np.max(phi_fixed),np.min(ctheta_fixed),np.max(ctheta_fixed))"
   ]
  },
  {
   "cell_type": "code",
   "execution_count": null,
   "metadata": {},
   "outputs": [],
   "source": [
    "fig = go.Figure(data=[go.Mesh3d(x=x, y=y, z=z,\n",
    "                      opacity=0.5,\n",
    "                      color=\"rgba(244,22,100,06)\"\n",
    "                 \n",
    " )])\n",
    "fig.update_layout(title=\"TFMeOx MFPADs theory triangulated\",\n",
    "                  width=500,\n",
    "                  height=500,\n",
    "                  margin=dict(l=65, r=50, b=65, t=90))\n",
    "fig.show()"
   ]
  },
  {
   "cell_type": "code",
   "execution_count": null,
   "metadata": {},
   "outputs": [],
   "source": [
    "# Go scatters do not provide a legend\n",
    "fig = go.Figure(data=[go.Scatter3d(x=ctheta, y=phi, z=counts,\n",
    "                    mode='markers',\n",
    "                    # mode='lines',\n",
    "                    marker=dict(\n",
    "                    size=1.5,\n",
    "                    colorscale='Viridis',   # choose a colorscale\n",
    "                    opacity=0.85,\n",
    "                    showscale=True          # to show the legend according to the color\n",
    "                   )\n",
    "                )])\n",
    "\n",
    "fig.update_layout(title=\"TFMeOx MFPADs spherical coordinates\",\n",
    "                  width=500,\n",
    "                  height=500,\n",
    "                  margin=dict(l=65, r=50, b=65, t=90))\n",
    "                #   margin=dict(l=0, r=0, b=0, t=0))\n",
    "fig.show()"
   ]
  },
  {
   "cell_type": "code",
   "execution_count": null,
   "metadata": {},
   "outputs": [],
   "source": [
    "# Go scatters do not provide a legend\n",
    "fig = go.Figure(data=[go.Scatter3d(x=x, y=y, z=z,\n",
    "                    mode='markers',\n",
    "                    marker=dict(\n",
    "                        size=5,\n",
    "                        color=d,            # set color to an array/list of desired values\n",
    "                        colorscale='Viridis',   # choose a colorscale\n",
    "                        opacity=1.,\n",
    "                        showscale=True          # to show the legend according to the color\n",
    "                   )\n",
    "                )])\n",
    "\n",
    "fig.update_layout(title=\"TFMeOx MFPADs theory scattered\",\n",
    "                  width=500,\n",
    "                  height=500,\n",
    "                  margin=dict(l=65, r=50, b=65, t=90))\n",
    "                #   margin=dict(l=0, r=0, b=0, t=0))\n",
    "fig.show()"
   ]
  },
  {
   "cell_type": "markdown",
   "metadata": {},
   "source": [
    "the Z distribution has the ending and the starting data that aren't matching. This is regardless the reshaping"
   ]
  },
  {
   "cell_type": "code",
   "execution_count": null,
   "metadata": {},
   "outputs": [],
   "source": [
    "fig = go.Figure(data=[go.Surface(z=Z[0:200,0:100], x=X[0:200,0:100], y=Y[0:200,0:100], surfacecolor=d_matrix, colorscale='Viridis', connectgaps=True)])\n",
    "fig.update_layout(title='TFMeOx MFPADs theory sur NO FIXf', autosize=False,\n",
    "                # width=500,\n",
    "                # height=500,\n",
    "                # margin=dict(l=65, r=50, b=65, t=90))\n",
    "                  margin=dict(l=0, r=0, b=0, t=0))\n",
    "fig.show()"
   ]
  },
  {
   "cell_type": "markdown",
   "metadata": {},
   "source": [
    "It is possible to force the equality and therefore bridging the gap"
   ]
  },
  {
   "cell_type": "code",
   "execution_count": null,
   "metadata": {},
   "outputs": [],
   "source": [
    "#fixing the stripe\n",
    "Y[-1,0:100]=Y[0,0:100]\n",
    "X[-1,0:100]=X[0,0:100]\n",
    "Z[-1,0:100]=Z[0,0:100]\n",
    "\n",
    "#to share these variables to other notebooks\n",
    "%store X\n",
    "%store Y\n",
    "%store Z\n",
    "%store d_matrix"
   ]
  },
  {
   "cell_type": "code",
   "execution_count": null,
   "metadata": {},
   "outputs": [],
   "source": [
    "#fixed stripe\n",
    "fig = go.Figure(data=[go.Surface(z=Z[0:200,0:100], x=X[0:200,0:100], y=Y[0:200,0:100], surfacecolor=d_matrix, connectgaps=True)])\n",
    "fig.update_layout(title='TFMeOx MFPADs theory surf', autosize=False,\n",
    "                # width=500,\n",
    "                # height=500,\n",
    "                # margin=dict(l=65, r=50, b=65, t=90))\n",
    "                  margin=dict(l=0, r=0, b=0, t=0))\n",
    "fig.show()"
   ]
  },
  {
   "cell_type": "code",
   "execution_count": null,
   "metadata": {},
   "outputs": [],
   "source": [
    "fig = go.Figure(data=[go.Surface(z=Z[0:200,0:100], surfacecolor=d_matrix, connectgaps=True)])\n",
    "fig.update_layout(title='TFMeOx MFPADs theory surf', autosize=False,\n",
    "                #   width=500, height=500,\n",
    "                #   margin=dict(l=65, r=50, b=65, t=90))\n",
    "                  margin=dict(l=0, r=0, b=0, t=0))\n",
    "fig.show()"
   ]
  },
  {
   "cell_type": "code",
   "execution_count": null,
   "metadata": {},
   "outputs": [],
   "source": [
    "plotly.__version__"
   ]
  },
  {
   "cell_type": "code",
   "execution_count": null,
   "metadata": {},
   "outputs": [],
   "source": []
  }
 ],
 "metadata": {
  "kernelspec": {
   "display_name": "Python 3",
   "language": "python",
   "name": "python3"
  },
  "language_info": {
   "codemirror_mode": {
    "name": "ipython",
    "version": 3
   },
   "file_extension": ".py",
   "mimetype": "text/x-python",
   "name": "python",
   "nbconvert_exporter": "python",
   "pygments_lexer": "ipython3",
   "version": "3.8.5-final"
  }
 },
 "nbformat": 4,
 "nbformat_minor": 2
}
