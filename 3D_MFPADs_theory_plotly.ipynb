{
 "cells": [
  {
   "cell_type": "code",
   "execution_count": null,
   "metadata": {},
   "outputs": [],
   "source": [
    "import glob\n",
    "import math\n",
    "import uproot\n",
    "import numpy as np\n",
    "import pandas as pd\n",
    "import pkgutil\n",
    "import uproot_methods\n",
    "\n",
    "import matplotlib as mpl\n",
    "import matplotlib.pyplot as plt\n",
    "from matplotlib.colors import LightSource\n",
    "%matplotlib inline\n",
    "%config InlineBackend.figure_formats=[\"svg\"]\n",
    "\n",
    "import mplhep as hep\n",
    "from mpl_toolkits.mplot3d import Axes3D\n",
    "from mpl_toolkits.mplot3d.art3d import Poly3DCollection\n",
    "\n",
    "import plotly\n",
    "import plotly.graph_objects as go\n",
    "\n",
    "plt.style.use(hep.style.ROOT)  # For now ROOT defaults to CMS\n",
    "\n",
    "path1 = r'C:\\Users\\Giammarco\\Desktop\\PYTHON_graphs\\DATA\\Theory\\TFMox-S\\enant=S_hel=+1_KE=3.0eV'  # use your path\n",
    "path2 = r'C:\\Users\\Giammarco\\Desktop\\PYTHON_graphs\\DATA\\Theory\\TFMox-S\\enant=S_hel=+1_KE=4.0eV'  # use your path\n",
    "path3 = r'C:\\Users\\Giammarco\\Desktop\\PYTHON_graphs\\DATA\\Theory\\TFMox-S\\enant=S_hel=+1_KE=6.1eV'  # use your path\n",
    "path4 = r'C:\\Users\\Giammarco\\Desktop\\PYTHON_graphs\\DATA\\Theory\\TFMox-S\\enant=S_hel=+1_KE=8.2eV'  # use your path\n",
    "path = r'C:\\Users\\Giammarco\\Desktop\\PYTHON_graphs\\DATA\\Theory\\TFMox-S\\enant=S_hel=+1_KE=11.5eV'  # use your path\n",
    "all_files = glob.glob(path + \"/*.dat\")\n",
    "\n",
    "li = []\n",
    "cosphi_th = []\n",
    "test_opening = []\n",
    "allnames=[]\n",
    "colnames = [\"phi\", \"cos(theta)\", \"value\"]\n",
    "\n",
    "# how to load multiple files http://jonathansoma.com/lede/foundations-2017/classes/working-with-many-files/class/,\n",
    "for filename in all_files:\n",
    "    test_opening.append(filename) #to verify the semantic order 1_1 -> 1_2 and not 1_10\n",
    "    df = pd.read_csv(filename, delimiter=r\"\\s+\", names=colnames, header=None) \n",
    "    # or delim_whitespace=True, it is faste\n",
    "    # r\"\\s+\" is a regex (regular expression)\n",
    "    df[\"filename\"]=filename.split(\"\\\\\")[-1].split(\".\")[0] # adding a column with the file name\n",
    "    df[\"filename\"]=df[\"filename\"].str.replace(\" \",\"\") # corrects for spaces\n",
    "    cosphi_th.append((int(df[\"filename\"].str.split(\"_\")[0][0]), int(df[\"filename\"].str.split(\"_\")[0][1])))\n",
    "    df[\"filename\"]=df[\"filename\"].astype(\"category\")\n",
    "    li.append(df) # a unique DataFrame\n",
    "\n",
    "cosphi_th = np.array(cosphi_th)\n",
    "frame = pd.concat(li, axis=0)\n",
    "frame_srt = frame.groupby(\"filename\",sort=False)\n",
    "\n",
    "for key, item in frame_srt:\n",
    "    allnames.append(key)"
   ]
  },
  {
   "cell_type": "code",
   "execution_count": null,
   "metadata": {},
   "outputs": [],
   "source": [
    "def remap(b,lim1_low,lim1_high,lim2_low,lim2_high):\n",
    "    \"\"\"\n",
    "    Remaps the np array b to the new interval [lim_low,lim_high]\n",
    "    \"\"\"\n",
    "    col1=np.array([col[0] for col in b])\n",
    "    col2=np.array([col[1] for col in b])\n",
    "    col1 = lim1_low + np.divide(lim1_high-lim1_low , np.amax(col1)-np.amin(col1)) * (col1-np.amin(col1))\n",
    "    col2 = lim2_low + np.divide(lim2_high-lim2_low , np.amax(col2)-np.amin(col2)) * (col2-np.amin(col2))\n",
    "    b=zip(col1,col2)\n",
    "    # b=np.around(b,3)\n",
    "    return b"
   ]
  },
  {
   "cell_type": "code",
   "execution_count": null,
   "metadata": {},
   "outputs": [],
   "source": [
    "#look to the values in b1 map and found the MFPAD\n",
    "cosphi_adj=list(remap(cosphi_th,-0.835,0.835,-165,165))\n",
    "cosphi_adj=np.around(cosphi_adj,3)\n",
    "\n",
    "dfind=pd.DataFrame(cosphi_adj, columns=[\"ctheta\",\"phi\"])\n",
    "dfind[\"item\"]=allnames\n",
    "dfind.loc[dfind[\"phi\"] == -15]\n",
    "\n"
   ]
  },
  {
   "cell_type": "code",
   "execution_count": null,
   "metadata": {},
   "outputs": [],
   "source": [
    "#selecting the rght file according to the needs [\"filename\"] == \"x_x\"]\n",
    "nitem=\"2_6\"\n",
    "frame.loc[frame[\"filename\"] == nitem]  # first way of selecting the right file\n",
    "frame_set = frame.set_index(\"filename\")  # build a mul\n",
    "\n",
    "# converting to numpy arrays to plot: here full, in 72 MFPADs .unique()tiindex using the categories of filename\n",
    "phi = frame.loc[frame[\"filename\"] == nitem].iloc[:, 0].to_numpy()  # phi\n",
    "ctheta = frame.loc[frame[\"filename\"] == nitem].iloc[:, 1].to_numpy()  # cos(theta)\n",
    "counts = frame.loc[frame[\"filename\"] == nitem].iloc[:, 2].to_numpy()  # counts"
   ]
  },
  {
   "cell_type": "markdown",
   "metadata": {},
   "source": [
    "#first attempt to fix the stripe: NOT WORKING\n",
    "#Forcing the values at the edges of +-phi to be the same avg\n",
    "test11=frame.loc[frame[\"filename\"] == \"1_1\"]\n",
    "a1=test11.loc[test11[\"phi\"] == np.min(phi)][\"value\"].to_numpy()\n",
    "b1=test11.loc[test11[\"phi\"] == np.max(phi)][\"value\"].to_numpy()\n",
    "avgphi=np.divide(a1+b1,2)\n",
    "avgphi=np.pad(avgphi, (0,len(phi)-len(avgphi)), 'constant', constant_values=0)\n",
    "# avgphipd = pd.Series(avgphi)\n",
    "test11[\"value\"].mask(test11[\"phi\"] == np.min(phi), avgphi, inplace=True)\n",
    "test11[\"value\"].mask(test11[\"phi\"] == np.max(phi), avgphi, inplace=True)\n",
    "\n",
    "#Forcing the values at the edges of +-ctheta to be the same avg\n",
    "a2=test11.loc[test11[\"cos(theta)\"] == np.min(ctheta)][\"value\"].to_numpy()\n",
    "b2=test11.loc[test11[\"cos(theta)\"] == np.max(ctheta)][\"value\"].to_numpy()\n",
    "avgcos=np.divide(a2+b2,2)\n",
    "avgcos=np.pad(avgcos, (0,len(ctheta)-len(avgcos)), 'constant', constant_values=0)\n",
    "# avgcospd = pd.Series(avgcos)\n",
    "# test11[\"value\"].mask(test11[\"cos(theta)\"] == np.min(ctheta), avgcos, inplace=True)\n",
    "# test11[\"value\"].mask(test11[\"cos(theta)\"] == np.max(ctheta), avgcos, inplace=True)\n",
    "\n",
    "counts_fixed = test11.iloc[:,2].to_numpy()\n",
    "phi_fixed = np.where(phi==np.min(phi), -180., phi) #the last is an else\n",
    "phi_fixed = np.where(phi==np.max(phi), 180., phi_fixed)\n",
    "ctheta_fixed = np.where(ctheta==np.min(ctheta), -1., ctheta)\n",
    "ctheta_fixed = np.where(ctheta==np.max(ctheta), 1., ctheta_fixed)\n",
    "# print(np.unique(phi_fixed))"
   ]
  },
  {
   "cell_type": "code",
   "execution_count": null,
   "metadata": {},
   "outputs": [],
   "source": [
    "#convertion to cartesian coordinate\n",
    "theta_rad = np.arccos(ctheta)\n",
    "# theta_rad = np.arccos(ctheta_fixed)\n",
    "phi_rad = phi * np.pi/180.\n",
    "# phi_rad = phi_fixed * np.pi/180.\n",
    "countsn = counts\n",
    "# countsn = counts_fixed\n",
    "\n",
    "# convertion to spherical coordinates 1D vectors of shape (20000,1)\n",
    "x = countsn * np.sin(theta_rad) * np.cos(phi_rad)\n",
    "X = x.reshape(200,100)\n",
    "y = countsn * np.sin(theta_rad) * np.sin(phi_rad)\n",
    "Y = y.reshape(200,100)\n",
    "z = countsn * np.cos(theta_rad)\n",
    "Z = z.reshape(200,100)\n",
    "\n",
    "d = np.sqrt(x**2+y**2+z**2)\n",
    "d_matrix = np.sqrt(X**2+Y**2+Z**2)"
   ]
  },
  {
   "cell_type": "markdown",
   "metadata": {},
   "source": [
    "fig=plt.figure()\n",
    "fig.show()\n",
    "ax=fig.add_subplot(111)\n",
    "\n",
    "# ax.plot(counts_fixed[0:200]-counts[0:200],c=\"b\",label='diff_counts[0:200]')\n",
    "ax.plot(counts_fixed-counts,c=\"b\",label='diff_counts')\n",
    "ax.plot(a1-b1,c=\"g\",label='diff_+phi_-phi')\n",
    "ax.plot(a2-b2,c=\"y\",label='diff_+ctheta_-ctheta')\n",
    "# ax.plot(avgcos[0:200]-counts[0:200],c=\"r\",label='diff_+avgcos_-counts[0:200]')\n",
    "# ax.plot(avgphi[0:200]-counts[0:200],c=\"m\",label='diff_+avgphi_-counts[0:200]')\n",
    "# ax.set_yscale('log')\n",
    "plt.legend(loc=\"best\")\n",
    "print(np.min(phi_fixed),np.max(phi_fixed),np.min(ctheta_fixed),np.max(ctheta_fixed))"
   ]
  },
  {
   "cell_type": "code",
   "execution_count": null,
   "metadata": {},
   "outputs": [],
   "source": [
    "fig = go.Figure(data=[go.Mesh3d(x=x, y=y, z=z,\n",
    "                      opacity=0.5,\n",
    "                      color=\"rgba(244,22,100,06)\"\n",
    "                 \n",
    " )])\n",
    "fig.update_layout(title=\"TFMeOx MFPADs theory triangulated\",\n",
    "                  width=500,\n",
    "                  height=500,\n",
    "                  margin=dict(l=65, r=50, b=65, t=90))\n",
    "fig.show()"
   ]
  },
  {
   "cell_type": "code",
   "execution_count": null,
   "metadata": {},
   "outputs": [],
   "source": [
    "# Go scatters do not provide a legend\n",
    "fig = go.Figure(data=[go.Scatter3d(x=ctheta, y=phi, z=counts,\n",
    "                    mode='markers',\n",
    "                    # mode='lines',\n",
    "                    marker=dict(\n",
    "                    size=1.5,\n",
    "                    colorscale='Viridis',   # choose a colorscale\n",
    "                    opacity=0.85,\n",
    "                    showscale=True          # to show the legend according to the color\n",
    "                   )\n",
    "                )])\n",
    "\n",
    "fig.update_layout(title=\"TFMeOx MFPADs spherical coordinates\",\n",
    "                  width=500,\n",
    "                  height=500,\n",
    "                  margin=dict(l=65, r=50, b=65, t=90))\n",
    "                #   margin=dict(l=0, r=0, b=0, t=0))\n",
    "fig.show()"
   ]
  },
  {
   "cell_type": "code",
   "execution_count": null,
   "metadata": {},
   "outputs": [],
   "source": [
    "# Go scatters do not provide a legend\n",
    "fig = go.Figure(data=[go.Scatter3d(x=x, y=y, z=z,\n",
    "                    mode='markers',\n",
    "                    marker=dict(\n",
    "                        size=5,\n",
    "                        color=d,            # set color to an array/list of desired values\n",
    "                        colorscale='Viridis',   # choose a colorscale\n",
    "                        opacity=1.,\n",
    "                        showscale=True          # to show the legend according to the color\n",
    "                   )\n",
    "                )])\n",
    "\n",
    "fig.update_layout(title=\"TFMeOx MFPADs theory scattered\",\n",
    "                  width=500,\n",
    "                  height=500,\n",
    "                  margin=dict(l=65, r=50, b=65, t=90))\n",
    "                #   margin=dict(l=0, r=0, b=0, t=0))\n",
    "fig.show()"
   ]
  },
  {
   "cell_type": "markdown",
   "metadata": {},
   "source": [
    "the Z distribution has the ending and the starting data that aren't matching. This is regardless the reshaping"
   ]
  },
  {
   "cell_type": "code",
   "execution_count": null,
   "metadata": {},
   "outputs": [],
   "source": [
    "fig = go.Figure(data=[go.Surface(z=Z[0:200,0:100], x=X[0:200,0:100], y=Y[0:200,0:100], surfacecolor=d_matrix, colorscale='Viridis', connectgaps=True)])\n",
    "fig.update_layout(title='TFMeOx MFPADs theory sur NO FIXf', autosize=False,\n",
    "                # width=500,\n",
    "                # height=500,\n",
    "                # margin=dict(l=65, r=50, b=65, t=90))\n",
    "                  margin=dict(l=0, r=0, b=0, t=0))\n",
    "fig.show()"
   ]
  },
  {
   "cell_type": "markdown",
   "metadata": {},
   "source": [
    "It is possible to force the equality and therefore bridging the gap"
   ]
  },
  {
   "cell_type": "code",
   "execution_count": null,
   "metadata": {},
   "outputs": [],
   "source": [
    "#fixing the stripe\n",
    "Y[-1,0:100]=Y[0,0:100]\n",
    "X[-1,0:100]=X[0,0:100]\n",
    "Z[-1,0:100]=Z[0,0:100]\n",
    "\n",
    "%store X\n",
    "%store Y\n",
    "%store Z\n",
    "%store d_matrix"
   ]
  },
  {
   "cell_type": "code",
   "execution_count": null,
   "metadata": {},
   "outputs": [],
   "source": [
    "#fixed stripe\n",
    "fig = go.Figure(data=[go.Surface(z=Z[0:200,0:100], x=X[0:200,0:100], y=Y[0:200,0:100], surfacecolor=d_matrix, connectgaps=True)])\n",
    "fig.update_layout(title='TFMeOx MFPADs theory surf', autosize=False,\n",
    "                # width=500,\n",
    "                # height=500,\n",
    "                # margin=dict(l=65, r=50, b=65, t=90))\n",
    "                  margin=dict(l=0, r=0, b=0, t=0))\n",
    "fig.show()"
   ]
  },
  {
   "cell_type": "code",
   "execution_count": null,
   "metadata": {},
   "outputs": [],
   "source": [
    "fig = go.Figure(data=[go.Surface(z=Z[0:200,0:100], surfacecolor=d_matrix, connectgaps=True)])\n",
    "fig.update_layout(title='TFMeOx MFPADs theory surf', autosize=False,\n",
    "                #   width=500, height=500,\n",
    "                #   margin=dict(l=65, r=50, b=65, t=90))\n",
    "                  margin=dict(l=0, r=0, b=0, t=0))\n",
    "fig.show()"
   ]
  },
  {
   "cell_type": "code",
   "execution_count": null,
   "metadata": {},
   "outputs": [],
   "source": [
    "plotly.__version__"
   ]
  },
  {
   "cell_type": "code",
   "execution_count": null,
   "metadata": {},
   "outputs": [],
   "source": []
  }
 ],
 "metadata": {
  "kernelspec": {
   "display_name": "Python 3",
   "language": "python",
   "name": "python3"
  },
  "language_info": {
   "codemirror_mode": {
    "name": "ipython",
    "version": 3
   },
   "file_extension": ".py",
   "mimetype": "text/x-python",
   "name": "python",
   "nbconvert_exporter": "python",
   "pygments_lexer": "ipython3",
   "version": "3.8.6-final"
  }
 },
 "nbformat": 4,
 "nbformat_minor": 2
}
