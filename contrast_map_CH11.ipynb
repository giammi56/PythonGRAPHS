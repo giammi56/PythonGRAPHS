{
 "cells": [
  {
   "cell_type": "code",
   "execution_count": null,
   "metadata": {},
   "outputs": [],
   "source": [
    "import uproot\n",
    "import numpy as np\n",
    "import pkgutil\n",
    "import uproot_methods\n",
    "import matplotlib as mpl\n",
    "import matplotlib.pyplot as plt\n",
    "import max_functions as mf\n",
    "%matplotlib inline\n",
    "\n",
    "#to smooth the MFPADs\n",
    "import scipy as sp\n",
    "import scipy.ndimage\n",
    "\n",
    "import mplhep as hep\n",
    "plt.style.use(hep.style.ROOT) # For now ROOT defaults to CMS\n",
    "import seaborn as sns\n",
    "from scipy.interpolate import griddata\n",
    "\n",
    "#to see which classes have been defined so far\n",
    "[modname for importer, modname, ispkg in pkgutil.walk_packages(uproot_methods.classes.__path__)]\n",
    "\n",
    "path = \"angular_distr_el/ALL_CH/test/MFPADs_e_multinew_check/MFPAD3D_ALLdir_usr_gated\""
   ]
  },
  {
   "cell_type": "code",
   "execution_count": null,
   "metadata": {},
   "outputs": [],
   "source": [
    "#low binning\n",
    "# fileRCR = uproot.open(r\"D:\\UniFRK\\SEXTANT_sept2018\\R-C3H3F3O_550eV_CR_newEfield_ALLCH_MFPAD_30_t0.root\")\n",
    "# # fileRCR[\"angular_distr_el/ALL_CH/test/MFPADs_e_multinew_check\"].keys()\n",
    "# # dict(fileRCR[\"angular_distr_el/ALL_CH/test/MFPADs_e_multinew_check\"].classes())\n",
    "# fileSCR = uproot.open(r\"D:\\UniFRK\\SEXTANT_sept2018\\S-C3H3F3O_550eV_CR_newEfield_ALLCH_MFPAD_30_t0.root\")\n",
    "# fileRCL = uproot.open(r\"D:\\UniFRK\\SEXTANT_sept2018\\R-C3H3F3O_550eV_CL_newEfield_ALLCH_MFPAD_30_t0.root\")\n",
    "# fileSCL = uproot.open(r\"D:\\UniFRK\\SEXTANT_sept2018\\S-C3H3F3O_550eV_CL_newEfield_ALLCH_MFPAD_30_t0.root\")"
   ]
  },
  {
   "cell_type": "code",
   "execution_count": null,
   "metadata": {},
   "outputs": [],
   "source": [
    "#high binning\n",
    "fileRCR = uproot.open(r\"C:\\Users\\Giammarco\\Desktop\\PYTHON_graphs\\DATA\\Experiments\\R-C3H3F3O_550eV_CR_newEfield_ALLCH_MFPAD_30_t0_higherbins.root\")\n",
    "fileSCR = uproot.open(r\"C:\\Users\\Giammarco\\Desktop\\PYTHON_graphs\\DATA\\Experiments\\S-C3H3F3O_550eV_CR_newEfield_ALLCH_MFPAD_30_t0_higherbins.root\")\n",
    "fileRCL = uproot.open(r\"C:\\Users\\Giammarco\\Desktop\\PYTHON_graphs\\DATA\\Experiments\\R-C3H3F3O_550eV_CL_newEfield_ALLCH_MFPAD_30_t0_higherbins.root\")\n",
    "fileSCL = uproot.open(r\"C:\\Users\\Giammarco\\Desktop\\PYTHON_graphs\\DATA\\Experiments\\S-C3H3F3O_550eV_CL_newEfield_ALLCH_MFPAD_30_t0_higherbins.root\")"
   ]
  },
  {
   "cell_type": "markdown",
   "metadata": {},
   "source": [
    "#low fixed binning\n",
    "fileRCR = uproot.open(r\"C:\\Users\\Giammarco\\Desktop\\PYTHON_graphs\\DATA\\Experiments\\R-C3H3F3O_550eV_CR_newEfield_ALLCH_MFPAD_30_t0.root\")\n",
    "fileSCR = uproot.open(r\"C:\\Users\\Giammarco\\Desktop\\PYTHON_graphs\\DATA\\Experiments\\S-C3H3F3O_550eV_CR_newEfield_ALLCH_MFPAD_30_t0.root\")\n",
    "fileRCL = uproot.open(r\"C:\\Users\\Giammarco\\Desktop\\PYTHON_graphs\\DATA\\Experiments\\R-C3H3F3O_550eV_CL_newEfield_ALLCH_MFPAD_30_t0.root\")\n",
    "fileSCL = uproot.open(r\"C:\\Users\\Giammarco\\Desktop\\PYTHON_graphs\\DATA\\Experiments\\S-C3H3F3O_550eV_CL_newEfield_ALLCH_MFPAD_30_t0.root\")"
   ]
  },
  {
   "cell_type": "code",
   "execution_count": null,
   "metadata": {},
   "outputs": [],
   "source": [
    "def smoothgauss(MFPAD, sigmax, sigmay):\n",
    "    \"\"\"\n",
    "    Fucntion the smooths with a 2D gaussian function 2D matrixes. For the experiments\n",
    "    x = cos(theta), y = phi. Phi is twice ctheta and sigma should be the same.\n",
    "    \"\"\"\n",
    "    # NOTE: the right order is y,x (from stackoverflow)\n",
    "    sigma = [sigmay,sigmax] \n",
    "    Y = sp.ndimage.filters.gaussian_filter(MFPAD, sigma, mode=\"constant\")\n",
    "    return Y"
   ]
  },
  {
   "cell_type": "code",
   "execution_count": null,
   "metadata": {},
   "outputs": [],
   "source": [
    "histRCR = fileRCR[path]\n",
    "histSCR = fileSCR[path]\n",
    "histRCL = fileRCL[path]\n",
    "histSCL = fileSCL[path]"
   ]
  },
  {
   "cell_type": "code",
   "execution_count": null,
   "metadata": {},
   "outputs": [],
   "source": [
    "phistRCR = histRCR.pandas()\n",
    "nhistRCR = histRCR.numpy()\n",
    "r_norm_nhistRCR = nhistRCR[0] / nhistRCR[0].sum(axis=1)[:,np.newaxis] # r values normalise to 1\n",
    "phi_nhistRCR = nhistRCR[1][0][0] # phi\n",
    "costheta_nhistRCR = nhistRCR[1][0][1] # cos(theta)\n",
    "\n",
    "phistRCL = histRCL.pandas()\n",
    "nhistRCL = histRCL.numpy()\n",
    "r_norm_nhistRCL = nhistRCL[0] / nhistRCL[0].sum(axis=1)[:,np.newaxis] # z values normalise to 1\n",
    "phi_nhistRCL = nhistRCL[1][0][0] # phi\n",
    "costheta_nhistRCL = nhistRCL[1][0][1] # cos(theta)\n",
    "\n",
    "phistSCR = histSCR.pandas()\n",
    "nhistSCR = histSCR.numpy()\n",
    "r_norm_nhistSCR = nhistSCR[0] / nhistSCR[0].sum(axis=1)[:,np.newaxis] # z values normalise to 1\n",
    "phi_nhistSCR = nhistSCR[1][0][0] # phi\n",
    "costheta_nhistSCR = nhistSCR[1][0][1] # cos(theta)\n",
    "\n",
    "phistSCL = histSCL.pandas()\n",
    "nhistSCL = histSCL.numpy()\n",
    "r_norm_nhistSCL = nhistSCL[0] / nhistSCL[0].sum(axis=1)[:,np.newaxis] # z values normalise to 1\n",
    "phi_nhistSCL = nhistSCL[1][0][0] # phi\n",
    "costheta_nhistSCL = nhistSCL[1][0][1] # cos(theta)\n",
    "\n",
    "totR = np.add(r_norm_nhistRCL,r_norm_nhistRCR)\n",
    "totS = np.add(r_norm_nhistSCL,r_norm_nhistSCR)\n",
    "\n",
    "totR_sm = smoothgauss(totR,0.3,0.6)\n",
    "totS_sm = smoothgauss(totS,0.3,0.6)\n",
    "\n",
    "PECD =  np.divide(np.subtract(totR,totS),np.add(totR,totS))\n",
    "PECD_smooth = np.divide(np.subtract(totR_sm,totS_sm),np.add(totR_sm,totS_sm))\n",
    "\n",
    "cosM = (costheta_nhistSCL[1:] + costheta_nhistSCL[:-1])/2\n",
    "phiM = (phi_nhistSCL[1:] + phi_nhistSCL[:-1])/2"
   ]
  },
  {
   "cell_type": "code",
   "execution_count": null,
   "metadata": {},
   "outputs": [],
   "source": [
    "nhistRCL[0].shape"
   ]
  },
  {
   "cell_type": "code",
   "execution_count": null,
   "metadata": {},
   "outputs": [],
   "source": [
    "(nhistRCL[0]/nhistRCL[0].sum(axis=1)[:,np.newaxis]).shape"
   ]
  },
  {
   "cell_type": "code",
   "execution_count": null,
   "metadata": {
    "tags": []
   },
   "outputs": [],
   "source": [
    "print(r_norm_nhistRCR.shape)\n",
    "print(nhistRCR[0].shape)\n",
    "print(phi_nhistRCR.shape)\n",
    "print(costheta_nhistRCR.shape)\n",
    "# x=r_norm_nhistRCL*np.sin(np.arccos(costheta_nhistRCL))*np.cos(phi_nhistRCL)\n",
    "# y=r_norm_nhistRCL*np.sin(np.arccos(costheta_nhistRCL))*np.sin(phi_nhistRCL)\n",
    "# z=r_norm_nhistRCL*costheta_nhistRCL"
   ]
  },
  {
   "cell_type": "code",
   "execution_count": null,
   "metadata": {},
   "outputs": [],
   "source": [
    "clev = np.arange(PECD.min(),PECD.max(),.01)\n",
    "clev_mod = np.arange(-0.15,0.15,.01)\n",
    "\n",
    "cs = plt.contourf(phiM, cosM, PECD.T, 10, extent=\"both\", aspect=\"auto\", cmap='seismic') # first option with increasing number of levels = 10\n",
    "cbar = plt.colorbar(cs)\n",
    "plt.title(\"Contrast map 10 levels\")\n",
    "plt.show()\n",
    "\n",
    "#better appearance, but probaly not accurate because runs till the end of the scale\n",
    "# extent= [phi_nhistSCL[0],phi_nhistSCL[-1],costheta_nhistSCL[0],costheta_nhistSCL[-1]]\n",
    "\n",
    "cs1 = plt.contourf(PECD.T, clev, extent= [phi_nhistSCL[0],phi_nhistSCL[-1],costheta_nhistSCL[0],costheta_nhistSCL[-1]], aspect=\"equal\",cmap='seismic') # first option with increasing number of levels\n",
    "cbar = plt.colorbar(cs1)\n",
    "plt.title(\"Contrast map thin levels\")\n",
    "plt.show()\n",
    "\n",
    "cs2 = plt.contourf(PECD_smooth.T, clev, extent= [phi_nhistSCL[0],phi_nhistSCL[-1],costheta_nhistSCL[0],costheta_nhistSCL[-1]], aspect=\"equal\",cmap='seismic') # first option with increasing number of levels\n",
    "cbar = plt.colorbar(cs2)\n",
    "plt.title(\"Contrast map thin levels smoothed\")\n",
    "plt.show()"
   ]
  },
  {
   "cell_type": "code",
   "execution_count": null,
   "metadata": {},
   "outputs": [],
   "source": [
    "# interpolation: [ 'none', 'nearest', 'bilinear', 'bicubic', 'spline16', 'spline36', 'hanning', 'hamming', 'hermite', 'kaiser', 'quadric', 'catrom', 'gaussian', 'bessel', 'mitchell', 'sinc', 'lanczos'.]\n",
    "\n",
    "fig=plt.figure()\n",
    "plt.imshow(PECD.T, vmin=-0.15, vmax=0.15, extent= [phi_nhistSCL[0],phi_nhistSCL[-1],costheta_nhistSCL[0],costheta_nhistSCL[-1]], interpolation='quadric', cmap='seismic', aspect=\"auto\")\n",
    "plt.title(\"Contrast map quadratic interpolation\")\n",
    "plt.colorbar()\n",
    "# plt.axis(aspect='image');\n",
    "\n",
    "fig1=plt.figure()\n",
    "plt.imshow(PECD_smooth.T, vmin=-0.10, vmax=0.10, extent= [phi_nhistSCL[0],phi_nhistSCL[-1],costheta_nhistSCL[0],costheta_nhistSCL[-1]], interpolation='quadric', cmap='seismic', aspect=\"auto\")\n",
    "# interpolation: [bicubic, quadric, spline16]\n",
    "plt.title(\"Contrast map smoothed quadratic interpolation\")\n",
    "\n",
    "#modifies just the colobar\n",
    "# plt.colorbar(boundaries=np.linspace(-.05, .05, 5, endpoint=True))\n",
    "# plt.axis(aspect='image');\n",
    "plt.colorbar()"
   ]
  },
  {
   "cell_type": "code",
   "execution_count": null,
   "metadata": {},
   "outputs": [],
   "source": [
    "import matplotlib as mpl\n",
    "from matplotlib import cm\n",
    "\n",
    "magma_cmap = mpl.cm.get_cmap('magma')\n",
    "seismic_cmap = mpl.cm.get_cmap('seismic')\n",
    "\n",
    "magma_rgb = []\n",
    "seismic_rgb = []\n",
    "norm = mpl.colors.Normalize(vmin=0, vmax=255)\n",
    "\n",
    "for i in range(0, 255):\n",
    "       k = mpl.colors.colorConverter.to_rgb(magma_cmap(norm(i)))\n",
    "       magma_rgb.append(k)\n",
    "\n",
    "for i in range(0, 255):\n",
    "       k = mpl.colors.colorConverter.to_rgb(seismic_cmap(norm(i)))\n",
    "       seismic_rgb.append(k)\n",
    "\n",
    "def matplotlib_to_plotly(cmap, pl_entries):\n",
    "    h = 1.0/(pl_entries-1)\n",
    "    pl_colorscale = []\n",
    "\n",
    "    for k in range(pl_entries):\n",
    "        C = list(map(np.uint8, np.array(cmap(k*h)[:3])*255))\n",
    "        pl_colorscale.append([k*h, 'rgb'+str((C[0], C[1], C[2]))])\n",
    "\n",
    "    return pl_colorscale\n",
    "\n",
    "Magma_r = matplotlib_to_plotly(magma_cmap, 255)\n",
    "Seismic_r = matplotlib_to_plotly(seismic_cmap, 255)"
   ]
  },
  {
   "cell_type": "code",
   "execution_count": null,
   "metadata": {},
   "outputs": [],
   "source": [
    "import plotly.graph_objects as go\n",
    "from plotly.subplots import make_subplots\n",
    "\n",
    "fig = go.Figure(data=go.Contour(x=phiM, y=cosM, z=PECD_smooth.T, line_smoothing=0.85, colorscale=Seismic_r,\n",
    "contours=dict(start=-0.12, end=0.12, size=0.015) \n",
    "))\n",
    "\n",
    "fig.update_layout(\n",
    "    # coloraxis=dict(colorscale=Seismic_r),\n",
    "    # showlegend=False,\n",
    "    autosize=False,\n",
    "    width=500,\n",
    "    height=450,\n",
    "    margin=dict(l=5,r=5,b=25,t=25)\n",
    "    )\n",
    "\n",
    "fig.show()"
   ]
  },
  {
   "cell_type": "code",
   "execution_count": null,
   "metadata": {},
   "outputs": [],
   "source": []
  }
 ],
 "metadata": {
  "kernelspec": {
   "display_name": "Python 3.8.6 64-bit ('anaconda3': conda)",
   "metadata": {
    "interpreter": {
     "hash": "14199186261275788dfea1c403a51d6f79ce13d90df2e64b59dbb79af406f697"
    }
   },
   "name": "Python 3.8.6 64-bit ('anaconda3': conda)"
  },
  "language_info": {
   "codemirror_mode": {
    "name": "ipython",
    "version": 3
   },
   "file_extension": ".py",
   "mimetype": "text/x-python",
   "name": "python",
   "nbconvert_exporter": "python",
   "pygments_lexer": "ipython3",
   "version": "3.8.6-final"
  }
 },
 "nbformat": 4,
 "nbformat_minor": 2
}
