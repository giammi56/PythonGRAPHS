{
 "cells": [
  {
   "cell_type": "code",
   "execution_count": null,
   "metadata": {},
   "outputs": [],
   "source": [
    "import pandas as pd\n",
    "import matplotlib.pyplot as plt\n",
    "%matplotlib inline\n",
    "\n",
    "headers = ['Time', 'current', 'gap', 'col4']\n",
    "dtypes = {'col1': 'str', 'col2': 'str', 'col3': 'str', 'col4': 'float'}\n",
    "parse_dates = ['col1', 'col2']\n",
    "\n",
    "df = pd.read_csv('/home/giammi56/Documents/PYTHON_graphs/SOLEIL_Auger_2017/8bunchs_history_coltrims_mod.csv', parse_dates=[\"Time\"] ,delimiter = \"\\t\")\n",
    "df.replace('*','0',inplace=True)\n",
    "\n",
    "df = df.astype({\"MACHINESTATUS\": \"float64\", \"HU80gap\" : \"float64\", \"HU80phase\" : \"float64\", \"exitSlitAperture\" : \"float64\", \"resolvingPower\" : \"float64\"})\n",
    "df = df.astype({\"Time\": \"datetime64[ns, US/Eastern]\"})\n",
    "df.info()"
   ]
  },
  {
   "cell_type": "code",
   "execution_count": null,
   "metadata": {},
   "outputs": [],
   "source": [
    "df.plot()"
   ]
  },
  {
   "cell_type": "code",
   "execution_count": null,
   "metadata": {},
   "outputs": [],
   "source": [
    "df_en=df[df[\"HU80gap\"]>0]\n",
    "# plt.plot(s[s>0])\n"
   ]
  },
  {
   "cell_type": "code",
   "execution_count": null,
   "metadata": {},
   "outputs": [],
   "source": [
    "df_en.plot.scatter(x=\"Time\",y=\"HU80gap\")"
   ]
  },
  {
   "cell_type": "code",
   "execution_count": null,
   "metadata": {},
   "outputs": [],
   "source": [
    "df.to_numpy()"
   ]
  }
 ],
 "metadata": {
  "kernelspec": {
   "display_name": "Python 3.8.8 64-bit ('base': conda)",
   "metadata": {
    "interpreter": {
     "hash": "0314860021bfd1d6d5065173ecf1d472a069bf5b92310f1daa2ee9c3af705d8c"
    }
   },
   "name": "python3"
  },
  "language_info": {
   "codemirror_mode": {
    "name": "ipython",
    "version": 3
   },
   "file_extension": ".py",
   "mimetype": "text/x-python",
   "name": "python",
   "nbconvert_exporter": "python",
   "pygments_lexer": "ipython3",
   "version": "3.8.8"
  }
 },
 "nbformat": 4,
 "nbformat_minor": 2
}
