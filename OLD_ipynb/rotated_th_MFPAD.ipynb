{
 "cells": [
  {
   "cell_type": "code",
   "execution_count": null,
   "metadata": {},
   "outputs": [],
   "source": [
    "#The rotated MFPAD according to the light propagation shouldn´t be exported because don´t make any sense. The rotation an the integration along the photon propagation direction."
   ]
  },
  {
   "cell_type": "code",
   "execution_count": null,
   "metadata": {},
   "outputs": [],
   "source": [
    "if MFPAD == True:\n",
    "    # all the 72 plots S ENANTIOMER MOLECULAR FRAME\n",
    "    # fugi = reload(fugi)\n",
    "    #the theoretical MFPAD has the form 1_1 ... 1_12, 2_1 ... 2_12 therefore it is ok the (6,12) subplot\n",
    "    \n",
    "    #fig2a, axes = plt.subplots(6,12, figsize=(50, 24), sharex='col', sharey='row')\n",
    "    fig2a, axes = plt.subplots(6,12, figsize=(25, 12), dpi=40, sharex='col', sharey='row')\n",
    "    \n",
    "    for i,ax in zip(range(72),axes.ravel()) :\n",
    "        # ax.tricontourf(phi_S_cos_LF[i].reshape(-1),cos_S_cos_LF[i].reshape(-1),tMFPAD_S_cos_LF[i].reshape(-1))\n",
    "        # ax.contourf(phi_full.reshape(200,100),ctheta_full.reshape(200,100),MFPAD_S_cos[i].reshape(200,100), levels=20, vmin=0.0001)\n",
    "        # ax.contourf(phiMM,cosMM,MFPAD_S_cos[i].T,cmap=cmap_temp)\n",
    "        cs, ax=fugi.plot_interpolation(phiM,cosM,MFPAD_S_cos_LF[i].T,ax=ax,ystep=0.01,cmap=cmap_temp)\n",
    "\n",
    "        ax.tick_params(labelsize=12)\n",
    "        # ax.text(0, 0, \"S_en \"+str(cosphi_th_cos[i]), ha=\"center\", va=\"center\", color=\"red\",fontsize=18)\n",
    "        # ax.text(0, 0, str(cosphi_adj_cos[i]), ha=\"center\", va=\"center\", color=\"red\",fontsize=12)\n",
    "    \n",
    "    fugi.overlaygraph(fig2a)\n",
    "    fig2a.savefig(\"../PYTHON_graphs/OUTPUTS/Theory/72MFPAD_S_cos_LF_\"+en+\".png\", dpi=300, transparent=False)"
   ]
  },
  {
   "cell_type": "code",
   "execution_count": null,
   "metadata": {},
   "outputs": [],
   "source": [
    "if MFPAD == True:\n",
    "    #fig2a, axes = plt.subplots(6,12, figsize=(50, 24), sharex='col', sharey='row')\n",
    "    fig2a, axes = plt.subplots(6,12, figsize=(25, 12), dpi=40, sharex='col', sharey='row')\n",
    "    \n",
    "    for i,ax in zip(range(72),axes.ravel()) :\n",
    "        # ax.tricontourf(phi_S_cos_LF[i].reshape(-1),cos_S_cos_LF[i].reshape(-1),tMFPAD_S_cos_LF[i].reshape(-1))\n",
    "        # ax.contourf(phiMM,cosMM,MFPAD_S_cos_LF[i].T)\n",
    "        cs, ax=fugi.plot_interpolation(phiM,cosM,MFPAD_S_cos_LF[i].T,ax=ax,ystep=0.01)\n",
    "        ax.tick_params(labelsize=12)\n",
    "        # ax.text(0, 0, \"S_en \"+str(cosphi_th_cos[i]), ha=\"center\", va=\"center\", color=\"red\",fontsize=18)\n",
    "        ax.text(0, 0, str(cosphi_adj_cos[i]), ha=\"center\", va=\"center\", color=\"red\",fontsize=12)\n",
    "    \n",
    "    fugi.overlaygraph(fig2a)\n",
    "    fig2a.savefig(\"../PYTHON_graphs/OUTPUTS/Theory/72MFPAD_S_cos_LF_with_axis_\"+en+\".png\", dpi=300, transparent=False)\n",
    "    plt.show()    "
   ]
  },
  {
   "cell_type": "code",
   "execution_count": null,
   "metadata": {},
   "outputs": [],
   "source": [
    "if MFPAD == True:\n",
    "    #fig2a, axes = plt.subplots(6,12, figsize=(50, 24), sharex='col', sharey='row')\n",
    "    fig2a, axes = plt.subplots(6,12, figsize=(25, 12), dpi=40, sharex='col', sharey='row')\n",
    "    \n",
    "    for i,ax in zip(range(72),axes.ravel()) :\n",
    "        # ax.tricontourf(phi_S_phi_LF[i].reshape(-1),cos_S_phi_LF[i].reshape(-1),tMFPAD_S_phi_LF[i].reshape(-1))\n",
    "        # ax.contourf(phiMM,cosMM,MFPAD_S_cos_LF[i].T,cmap=cmap_temp)\n",
    "        cs, ax=fugi.plot_interpolation(phiM,cosM,MFPAD_S_cos_LF[i].T,ax=ax, ystep=0.01,cmap=cmap_temp)\n",
    "        ax.tick_params(labelsize=12)\n",
    "        # ax.text(0, 0, \"S_en \"+str(cosphi_th_cos[i]), ha=\"center\", va=\"center\", color=\"red\",fontsize=18)\n",
    "        # ax.text(0, 0, str(cosphi_adj_cos[i]), ha=\"center\", va=\"center\", color=\"red\",fontsize=12)\n",
    "    \n",
    "    fugi.overlaygraph(fig2a)\n",
    "    fig2a.savefig(\"../PYTHON_graphs/OUTPUTS/Theory/72MFPAD_S_cos_LF_with_axis_\"+en+\"_cmaptemp.png\", dpi=300, transparent=False)"
   ]
  },
  {
   "cell_type": "code",
   "execution_count": null,
   "metadata": {},
   "outputs": [],
   "source": [
    "if MFPAD == True:\n",
    "#if MFPAD == False:\n",
    "    #NOTE the MFPAD is described by Philipp witch cos(theta)=[1,-1], phi=[-180,180]\n",
    "    #imshow doesn´t have the x and y grid who inverts the cos(theta), therefore extent is reversed!\n",
    "    #fig2a, axes = plt.subplots(6,12, figsize=(50, 24), sharex='col', sharey='row')\n",
    "    fig2a, axes = plt.subplots(6,12, figsize=(25, 12), dpi=40, sharex='col', sharey='row')\n",
    "    \n",
    "    for i,ax in zip(range(72),axes.ravel()) :\n",
    "        #ax.tricontourf(phi_S_phi_LF[i].reshape(-1),cos_S_phi_LF[i].reshape(-1),tMFPAD_S_phi_LF[i].reshape(-1))\n",
    "        #ax.contourf(phiMM,cosMM,MFPAD_S_cos_LF[i].T)\n",
    "        ax.imshow(MFPAD_S_cos_LF[i].T, extent=(-180,180,1,-1), aspect = 180, origin='lower')\n",
    "        ax.tick_params(labelsize=12)\n",
    "        #ax.text(0, 0, \"S_en \"+str(cosphi_th_cos[i]), ha=\"center\", va=\"center\", color=\"red\",fontsize=18)\n",
    "        ax.text(0, 0, str(cosphi_adj_cos[i]), ha=\"center\", va=\"center\", color=\"red\",fontsize=12)\n",
    "    \n",
    "    fugi.overlaygraph(fig2a)\n",
    "    fig2a.savefig(\"../PYTHON_graphs/OUTPUTS/Theory/72MFPAD_S_cos_LF_imshow_\"+en+\".png\", dpi=300, transparent=False)\n",
    "    plt.show()    "
   ]
  },
  {
   "cell_type": "code",
   "execution_count": null,
   "metadata": {},
   "outputs": [],
   "source": [
    "if MFPAD == True:\n",
    "    # all the 72 plots S ENANTIOMER LABORATORY FRAME 2D ROTATED\n",
    "    #the theoretical MFPAD has the form 1_1 ... 1_12, 2_1 ... 2_12 therefore it is ok the (6,12) subplot\n",
    "    #6 levels of cos(theta) (y), 12 levels of phi (x)\n",
    "    \n",
    "    #fig2a, axes = plt.subplots(6,12, figsize=(50, 24), sharex='col', sharey='row')\n",
    "    fig2a, axes = plt.subplots(6,12, figsize=(25, 12), dpi=40, sharex='col', sharey='row')\n",
    "    \n",
    "    for i,ax in zip(range(72),axes.ravel()) :\n",
    "        # ax.contourf(phiMM,cosMM,MFPAD_R_cos_LF[i].T)\n",
    "        cs, ax=fugi.plot_interpolation(phiM,cosM,MFPAD_R_cos_LF[i].T,ax=ax,ystep=0.01)\n",
    "        ax.tick_params(labelsize=12)\n",
    "        # ax.text(0, 0, \"R_en \"+str(cosphi_th_cos[i]), ha=\"center\", va=\"center\", color=\"red\",fontsize=18)\n",
    "        ax.text(0, 0, str(cosphi_adj_cos[i]), ha=\"center\", va=\"center\", color=\"red\",fontsize=12)\n",
    "    \n",
    "    fugi.overlaygraph(fig2a)\n",
    "    fig2a.savefig(\"../PYTHON_graphs/OUTPUTS/Theory/72MFPAD_R_cos_LF_with axes_\"+en+\".png\", dpi=300, transparent=False)\n",
    "    plt.show()    "
   ]
  }
 ],
 "metadata": {
  "language_info": {
   "codemirror_mode": {
    "name": "ipython",
    "version": 3
   },
   "file_extension": ".py",
   "mimetype": "text/x-python",
   "name": "python",
   "nbconvert_exporter": "python",
   "pygments_lexer": "ipython3",
   "version": 3
  }
 },
 "nbformat": 4,
 "nbformat_minor": 2
}
