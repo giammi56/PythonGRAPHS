{
 "cells": [
  {
   "cell_type": "code",
   "execution_count": null,
   "metadata": {},
   "outputs": [],
   "source": [
    "import pandas as pd\n",
    "import matplotlib as mpl\n",
    "import matplotlib.pyplot as plt\n",
    "from matplotlib.colors import LightSource\n",
    "%matplotlib inline\n",
    "import mplhep as hep\n",
    "from mpl_toolkits.mplot3d import Axes3D\n",
    "from mpl_toolkits.mplot3d.art3d import Poly3DCollection\n",
    "plt.style.use(hep.style.ROOT) # For now ROOT defaults to CMS\n",
    "\n",
    "import functions_giammi as fugi\n",
    "cmap_temp, cmap_temp_go, Magma_r, Seismic_r = fugi.customcmaps()\n",
    "\n",
    "\n",
    "table = pd.read_excel('DATA/stregth_of_lenses_energy_el.xlsx',\n",
    "                  sheet_name = 'Momentum_360NoEL',\n",
    "                  header = 11,\n",
    "                  usecols = \"B, C, G, J, Q, T\",\n",
    "                  convert_float = True)\n",
    "                #   dtype={\"B\" : float, 'tof_rand': float, 'z_rand': float, 'mom_mag_rand': float,'cos(theta)_tof_rand': float})\n",
    "table.dropna(inplace=True);"
   ]
  },
  {
   "cell_type": "code",
   "execution_count": null,
   "metadata": {},
   "outputs": [],
   "source": [
    "\n",
    "plt.scatter(table[\"KE\"].values, table[\"TOF\"].values)\n",
    "plt.xlim([324, 328])"
   ]
  },
  {
   "cell_type": "code",
   "execution_count": null,
   "metadata": {},
   "outputs": [],
   "source": [
    "#filter the data acccording to KE of the electrons\n",
    "#() & () multiple conditions\n",
    "first = table[\"KE\"].values < 324\n",
    "second = (table[\"KE\"].values > 324) & (table[\"KE\"].values < 328)\n",
    "third = (table[\"KE\"].values > 328) & (table[\"KE\"].values < 332)\n",
    "fourth = table[\"KE\"].values > 332"
   ]
  },
  {
   "cell_type": "code",
   "execution_count": null,
   "metadata": {},
   "outputs": [],
   "source": [
    "second_1 = (table[\"KE\"].values > 324.5) & (table[\"KE\"].values < 325)\n",
    "second_2 = (table[\"KE\"].values > 326) & (table[\"KE\"].values < 326.5)\n",
    "second_3 = (table[\"KE\"].values > 327) & (table[\"KE\"].values < 327.5)"
   ]
  },
  {
   "cell_type": "code",
   "execution_count": null,
   "metadata": {},
   "outputs": [],
   "source": [
    "fig,ax= plt.subplots(1,figsize=(15, 10))\n",
    "# plt.suptitle(\"fish\")\n",
    "ax.scatter(table.loc[first, \"TOF_200ps\"]*10**3, table.loc[first,\"Z\"], alpha=0.6)\n",
    "ax.scatter(table.loc[second, \"TOF_200ps\"]*10**3, table.loc[second,\"Z\"], alpha=0.6)\n",
    "ax.scatter(table.loc[third, \"TOF_200ps\"]*10**3, table.loc[third,\"Z\"], alpha=0.6)\n",
    "ax.scatter(table.loc[fourth, \"TOF_200ps\"]*10**3, table.loc[fourth,\"Z\"], alpha=0.6)\n",
    "ax.axhline(y=0, color='black', linestyle='--', alpha=0.5)\n",
    "ax.set_xlabel('tof [ns]')\n",
    "ax.set_ylabel('y axis [mm]')\n",
    "fig.savefig(\"../PYTHON_graphs/OUTPUTS/lens_effect_fish.svg\", dpi=144, transparent=False)\n",
    "fig.savefig(\"../PYTHON_graphs/OUTPUTS/lens_effect_fish.png\", dpi=144, transparent=False)"
   ]
  },
  {
   "cell_type": "code",
   "execution_count": null,
   "metadata": {},
   "outputs": [],
   "source": [
    "fig,ax= plt.subplots(1,figsize=(15, 10))\n",
    "# plt.suptitle(\"fish\")\n",
    "ax.scatter(table.loc[second_1, \"TOF\"]*10**3, table.loc[second_1,\"Z\"], alpha=0.6)\n",
    "ax.scatter(table.loc[second_2, \"TOF\"]*10**3, table.loc[second_2,\"Z\"], alpha=0.6)\n",
    "ax.scatter(table.loc[second_3, \"TOF\"]*10**3, table.loc[second_3,\"Z\"], alpha=0.6)\n",
    "ax.axhline(y=0, color='black', linestyle='--', alpha=0.5)\n",
    "ax.set_xlabel('tof [ns]')\n",
    "ax.set_ylabel('y axis [mm]')\n",
    "# fig.savefig(\"../PYTHON_graphs/OUTPUTS/lens_effect_fish.svg\", dpi=144, transparent=False)\n",
    "# fig.savefig(\"../PYTHON_graphs/OUTPUTS/lens_effect_fish.png\", dpi=144, transparent=False)"
   ]
  },
  {
   "cell_type": "code",
   "execution_count": null,
   "metadata": {},
   "outputs": [],
   "source": [
    "fig,ax= plt.subplots(1,figsize=(10, 10))\n",
    "# plt.suptitle(\"fish\")\n",
    "# ax.scatter(table.loc[second_1,\"cos(theta)_tof.1\"], table.loc[second_1,\"mom.mag.1\"],alpha=0.6)\n",
    "# ax.scatter(table.loc[second_2,\"cos(theta)_tof.1\"], table.loc[second_2,\"mom.mag.1\"],alpha=0.6)\n",
    "ax.scatter(table.loc[second_3,\"cos(theta)_tof.1\"], table.loc[second_3,\"mom.mag.1\"],alpha=0.6)\n",
    "\n",
    "ax.set_xlabel('cos(theta) [adm]')\n",
    "ax.set_xlim(-1.,1.)\n",
    "ax.set_ylabel('monetum magnitude [arb]')\n",
    "# fig.savefig(\"../PYTHON_graphs/OUTPUTS/lens_effect_cos(theta).svg\", dpi=144, transparent=False)\n",
    "# fig.savefig(\"../PYTHON_graphs/OUTPUTS/lens_effect_cos(theta).png\", dpi=144, transparent=False)"
   ]
  },
  {
   "cell_type": "code",
   "execution_count": null,
   "metadata": {},
   "outputs": [],
   "source": [
    "fig,ax= plt.subplots(1,figsize=(10, 10))\n",
    "# plt.suptitle(\"fish\")\n",
    "ax.scatter(table.loc[first, \"cos(theta)_tof.1\"], table.loc[first,\"mom.mag.1\"],alpha=0.6)\n",
    "ax.scatter(table.loc[second, \"cos(theta)_tof.1\"], table.loc[second,\"mom.mag.1\"],alpha=0.6)\n",
    "ax.scatter(table.loc[third, \"cos(theta)_tof.1\"], table.loc[third,\"mom.mag.1\"],alpha=0.6)\n",
    "ax.scatter(table.loc[fourth, \"cos(theta)_tof.1\"], table.loc[fourth,\"mom.mag.1\"],alpha=0.6)\n",
    "ax.set_xlabel('cos(theta) [adm]')\n",
    "ax.set_xlim(-1.,1.)\n",
    "ax.set_ylabel('monetum magnitude [arb]')\n",
    "fig.savefig(\"../PYTHON_graphs/OUTPUTS/lens_effect_cos(theta).svg\", dpi=144, transparent=False)\n",
    "fig.savefig(\"../PYTHON_graphs/OUTPUTS/lens_effect_cos(theta).png\", dpi=144, transparent=False)"
   ]
  }
 ],
 "metadata": {
  "kernelspec": {
   "display_name": "Python 3.8.8 64-bit ('base': conda)",
   "name": "python388jvsc74a57bd00314860021bfd1d6d5065173ecf1d472a069bf5b92310f1daa2ee9c3af705d8c"
  },
  "language_info": {
   "codemirror_mode": {
    "name": "ipython",
    "version": 3
   },
   "file_extension": ".py",
   "mimetype": "text/x-python",
   "name": "python",
   "nbconvert_exporter": "python",
   "pygments_lexer": "ipython3",
   "version": "3.8.8"
  }
 },
 "nbformat": 4,
 "nbformat_minor": 2
}
