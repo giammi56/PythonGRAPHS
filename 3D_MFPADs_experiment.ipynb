{
 "cells": [
  {
   "cell_type": "code",
   "execution_count": null,
   "metadata": {},
   "outputs": [],
   "source": [
    "import glob\n",
    "import math\n",
    "import uproot\n",
    "import numpy as np\n",
    "import pandas as pd\n",
    "import pkgutil\n",
    "import uproot_methods\n",
    "\n",
    "import matplotlib as mpl\n",
    "import matplotlib.pyplot as plt\n",
    "from matplotlib.colors import LightSource\n",
    "%matplotlib inline\n",
    "\n",
    "import re\n",
    "\n",
    "import mplhep as hep\n",
    "from mpl_toolkits.mplot3d import Axes3D\n",
    "from mpl_toolkits.mplot3d.art3d import Poly3DCollection\n",
    "\n",
    "plt.style.use(hep.style.ROOT) # For now ROOT defaults to CMS\n",
    "\n",
    "#to see which classes have been defined so far\n",
    "[modname for importer, modname, ispkg in pkgutil.walk_packages(uproot_methods.classes.__path__)]\n",
    "\n",
    "loc = \"angular_distr_el/CH9/ID_ALL_mol_e0_valid/EN_gate/MFPADs_multinew_std\"\n",
    "\n",
    "fileRCR = uproot.open(r\"D:\\UniFRK\\SEXTANT_sept2018\\R-C3H3F3O_550eV_CR_9600-3700ns_newEfield_multiCH9_MFPAD_30_t0.root\")\n",
    "fileRCL = uproot.open(r\"D:\\UniFRK\\SEXTANT_sept2018\\R-C3H3F3O_550eV_CL_9600-3700ns_newEfield_multiCH9_MFPAD_30_t0.root\")\n",
    "k=fileRCR[loc].keys()\n",
    "d=dict(fileRCR[loc].classes()) # shows the type of each item\n",
    "dict(fileRCR[loc]) # keys : values\n",
    "check = fileRCR[loc+\"/MFPAD3D_engate_costheta_-1.00_phi_-180\"]\n",
    "# type(check)\n",
    "# check._members()"
   ]
  },
  {
   "cell_type": "code",
   "execution_count": null,
   "metadata": {},
   "outputs": [],
   "source": [
    "MFPAD_RCR=[] # initilialises a list\n",
    "ctetha_RCR=[]\n",
    "cosphi=[]\n",
    "MFPAD_xy=[]\n",
    "run_one=0\n",
    "for key, value in fileRCR[loc].items():\n",
    "        filename=loc+\"/\"+str(key).split(\";\")[0].replace(\"b'\",\"\")\n",
    "        if \"mfpad3d_engate_costheta\" in filename.lower():\n",
    "            # print(filename)\n",
    "            ctheta_nm=float((str(key).split(\"costheta_\")[1]).split(\"_phi\")[0])\n",
    "            phi_nm=float((str(key).split(\"phi_\")[1]).split(\";\")[0])\n",
    "            # phicos.append((ctheta_nm,phi_nm))\n",
    "            cosphi.append((ctheta_nm+0.1666,phi_nm+15)) # centered in the middle of the bins\n",
    "            #ctheta_n=re.search(\"costheta_(.*)_phi\", str(key)).group(1) #alternative with import re\n",
    "            temp=np.array(fileRCR[filename].numpy())\n",
    "            MFPAD_RCR.append(temp[0]) # it is a list!\n",
    "            if run_one == 0:\n",
    "                MFPAD_xy.append((temp[1][0][0] , temp[1][0][1])) # phi cos(theta) from 2D\n",
    "                run_one=1\n",
    "        elif \"cos(theta)\" in filename.lower():\n",
    "            ctheta_nc=float((str(key).split(\"costheta_\")[1]).split(\"_phi\")[0])\n",
    "            temp=np.array(fileRCR[filename].numpy())\n",
    "            ctetha_RCR.append(temp[0]) # it is a list!\n",
    "            ctheta_c = temp[1] # cos(theta) from 1D\n",
    "MFPAD_RCR=np.array(MFPAD_RCR)\n",
    "ctetha_RCR=np.array(ctetha_RCR) # it is a list!"
   ]
  },
  {
   "cell_type": "code",
   "execution_count": null,
   "metadata": {},
   "outputs": [],
   "source": [
    "MFPAD_RCL=[] # initilialises a list\n",
    "ctetha_RCL=[]\n",
    "cosphi=[]\n",
    "MFPAD_xy=[]\n",
    "run_one=0\n",
    "for key, value in fileRCL[loc].items():\n",
    "        filename=loc+\"/\"+str(key).split(\";\")[0].replace(\"b'\",\"\")\n",
    "        if \"mfpad3d_engate_costheta\" in filename.lower():\n",
    "            # print(filename)\n",
    "            ctheta_nm=float((str(key).split(\"costheta_\")[1]).split(\"_phi\")[0])\n",
    "            phi_nm=float((str(key).split(\"phi_\")[1]).split(\";\")[0])\n",
    "            # phicos.append((ctheta_nm,phi_nm)) #they are inverted\n",
    "            cosphi.append((ctheta_nm+0.1666,phi_nm+15))  # centered in the middle of the bins\n",
    "            #ctheta_n=re.search(\"costheta_(.*)_phi\", str(key)).group(1) #alternative with import re\n",
    "            temp=np.array(fileRCL[filename].numpy())\n",
    "            MFPAD_RCL.append(temp[0]) # it is a list!\n",
    "            if run_one == 0:\n",
    "                MFPAD_xy.append((temp[1][0][0] , temp[1][0][1])) # phi cos(theta) from 2D\n",
    "                run_one=1\n",
    "        elif \"cos(theta)\" in filename.lower():\n",
    "            ctheta_nc=float((str(key).split(\"costheta_\")[1]).split(\"_phi\")[0])\n",
    "            temp=np.array(fileRCL[filename].numpy())\n",
    "            ctetha_RCL.append(temp[0]) # it is a list!\n",
    "            ctheta_c = temp[1] # cos(theta) from 1D\n",
    "MFPAD_RCL=np.array(MFPAD_RCL)\n",
    "ctetha_RCL=np.array(ctetha_RCL) # it is a list!"
   ]
  },
  {
   "cell_type": "code",
   "execution_count": null,
   "metadata": {},
   "outputs": [],
   "source": [
    "plt.contourf(cosphi[:,1].reshape(12,6),cosphi[:,0].reshape(12,6),MFPAD_RCL[0])\n",
    "MFPAD_RCL[0].T.shape"
   ]
  },
  {
   "cell_type": "code",
   "execution_count": null,
   "metadata": {},
   "outputs": [],
   "source": [
    "fig, axes = plt.subplots(6,12, figsize=(50, 24), sharex='col', sharey='row')\n",
    "fig.subplots_adjust(hspace = .5, wspace=.5)\n",
    "\n",
    "cosphi=np.array(cosphi)\n",
    "\n",
    "# WHATCH OUT! experimental data are saved in the form (cos(theta), phi) looping internally on cos(theta) -> subplots has to be filled column by column instead of row by row\n",
    "for i,ax in zip(range(72),axes.T.flatten()) :\n",
    "    ax.contourf(cosphi[:,1].reshape(12,6),cosphi[:,0].reshape(12,6),MFPAD_RCL[i])\n",
    "    \n",
    "fig.tight_layout()\n",
    "plt.show()"
   ]
  },
  {
   "cell_type": "code",
   "execution_count": null,
   "metadata": {},
   "outputs": [],
   "source": []
  }
 ],
 "metadata": {
  "kernelspec": {
   "display_name": "Python 3.8.5 64-bit ('base': conda)",
   "metadata": {
    "interpreter": {
     "hash": "14199186261275788dfea1c403a51d6f79ce13d90df2e64b59dbb79af406f697"
    }
   },
   "name": "Python 3.8.5 64-bit ('base': conda)"
  },
  "language_info": {
   "codemirror_mode": {
    "name": "ipython",
    "version": 3
   },
   "file_extension": ".py",
   "mimetype": "text/x-python",
   "name": "python",
   "nbconvert_exporter": "python",
   "pygments_lexer": "ipython3",
   "version": "3.8.5-final"
  }
 },
 "nbformat": 4,
 "nbformat_minor": 2
}
