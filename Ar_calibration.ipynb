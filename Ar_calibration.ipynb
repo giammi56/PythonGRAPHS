{
 "cells": [
  {
   "cell_type": "code",
   "execution_count": null,
   "metadata": {},
   "outputs": [],
   "source": [
    "import pandas as pd\n",
    "import uproot\n",
    "import uproot_methods\n",
    "import matplotlib as mpl\n",
    "import matplotlib.pyplot as plt\n",
    "from matplotlib.colors import LightSource\n",
    "%matplotlib inline\n",
    "import mplhep as hep\n",
    "from mpl_toolkits.mplot3d import Axes3D\n",
    "from mpl_toolkits.mplot3d.art3d import Poly3DCollection\n",
    "plt.style.use(hep.style.ROOT) # For now ROOT defaults to CMS\n",
    "\n",
    "import numpy as np\n",
    "\n",
    "import functions_giammi as fugi\n",
    "cmap_temp, cmap_temp_go, Magma_r, Seismic_r = fugi.customcmaps()\n",
    "\n",
    "\n",
    "points = pd.read_excel('../PYTHON_graphs/DATA/Energycalibration_2020-06-14.xlsx',\n",
    "                  sheet_name = 'with_stretch',\n",
    "                  header = 22,\n",
    "                  nrows = 9,\n",
    "                  usecols = \"C, D\",\n",
    "                  convert_float = True)\n",
    "                #   dtype={\"B\" : float, 'tof_rand': float, 'z_rand': float, 'mom_mag_rand': float,'cos(theta)_tof_rand': float})\n",
    "points.dropna(inplace=True);"
   ]
  },
  {
   "cell_type": "code",
   "execution_count": null,
   "metadata": {},
   "outputs": [],
   "source": [
    "points"
   ]
  },
  {
   "cell_type": "code",
   "execution_count": null,
   "metadata": {},
   "outputs": [],
   "source": [
    "#polynomial fit with degree = 2\n",
    "model = np.poly1d(np.polyfit(points[\"ph energy\"], points[\"radius square\"], 2))\n",
    "\n",
    "#FIX THE DETERMINATION COEFFICEINT\n",
    "# https://stackoverflow.com/questions/893657/how-do-i-calculate-r-squared-using-python-and-numpy\n",
    "r2 = np.corrcoef(points[\"ph energy\"], points[\"radius square\"])[0,1]**2\n",
    "\n",
    "#add fitted polynomial line to scatterplot\n",
    "polyline = np.linspace(249, 261, 50)\n",
    "\n",
    "fit_info = (f\"y = {model[0]:.3f}x2 + {model[1]:.3f}x + {model[2]:.3f} \\nR2 = {r2:.3f}\")\n",
    "\n",
    "fig,ax= plt.subplots(1,figsize=(15, 10))\n",
    "# plt.suptitle(\"fish\")\n",
    "ax.scatter(points[\"ph energy\"], points[\"radius square\"])\n",
    "ax.plot(polyline, model(polyline), \"--\", alpha=0.5)\n",
    "ax.set_xlabel('photoelectron energy [eV]')\n",
    "ax.set_ylabel('squared radius [mm2]')\n",
    "ax.legend(title=fit_info, loc=\"best\")\n",
    "\n",
    "# fig.savefig(\"../PYTHON_graphs/OUTPUTS/lens_effect_fish.svg\", dpi=144, transparent=False)\n",
    "# fig.savefig(\"../PYTHON_graphs/OUTPUTS/lens_effect_fish.png\", dpi=144, transparent=False)"
   ]
  },
  {
   "cell_type": "code",
   "execution_count": null,
   "metadata": {},
   "outputs": [],
   "source": [
    "Ar = uproot.open(r\"../PYTHON_graphs/DATA/Experiments/Ar_FULL_analysis.root\")\n",
    "Ar[\"all_toghether/\"].keys()\n",
    "Ar[\"all_toghether/fish filet y\"].all_members\n",
    "Ar[\"all_toghether/position\"].values()\n"
   ]
  },
  {
   "cell_type": "code",
   "execution_count": null,
   "metadata": {},
   "outputs": [],
   "source": [
    "fish_fillet_x=np.array(Ar[\"all_toghether/fish filet x\"].to_numpy(),dtype=object)\n",
    "fish_fillet_y=np.array(Ar[\"all_toghether/fish filet y\"].to_numpy(),dtype=object)\n",
    "cthetaEE=np.array(Ar[\"all_toghether/check_cthetaEE\"].to_numpy(),dtype=object)"
   ]
  },
  {
   "cell_type": "code",
   "execution_count": null,
   "metadata": {},
   "outputs": [],
   "source": [
    "fig,ax= plt.subplots(1, figsize=(12, 10))\n",
    "cs=ax.scatter(fish_fillet_y[0][0],fish_fillet_y[0][1], cmap=cmap_temp)\n",
    "ax.set_title(\"MFPAD tot \")\n",
    "\n",
    "# aspect=(phiM.max()/cosM.max())\n",
    "ax.set_xlabel('phi [DEG]')\n",
    "ax.set_ylabel('cos(theta) [adm]')\n",
    "cbar = fig.colorbar(cs,extend='both',shrink=0.9, ax=ax)\n",
    "# cbar.set_ticklabels([\"min\",\"max\"])\n",
    "# cbar.set_ticks([totMFPAD.min(),totMFPAD.max()])\n",
    "cbar.ax.set_ylabel('normalised counts')\n",
    "# ax.set_aspect(aspect)\n",
    "\n",
    "# fig.savefig(\"../PYTHON_graphs/OUTPUTS/total_MFPAD_\"+CH+\"_\"+en+\"_exp.png\", figsize=(50, 24), dpi=144, transparent=False)"
   ]
  },
  {
   "cell_type": "code",
   "execution_count": null,
   "metadata": {},
   "outputs": [],
   "source": []
  }
 ],
 "metadata": {
  "kernelspec": {
   "display_name": "Python 3.8.8 64-bit ('base': conda)",
   "name": "python388jvsc74a57bd00314860021bfd1d6d5065173ecf1d472a069bf5b92310f1daa2ee9c3af705d8c"
  },
  "language_info": {
   "codemirror_mode": {
    "name": "ipython",
    "version": 3
   },
   "file_extension": ".py",
   "mimetype": "text/x-python",
   "name": "python",
   "nbconvert_exporter": "python",
   "pygments_lexer": "ipython3",
   "version": "3.8.8"
  }
 },
 "nbformat": 4,
 "nbformat_minor": 2
}
