{
 "cells": [
  {
   "cell_type": "code",
   "execution_count": null,
   "metadata": {},
   "outputs": [],
   "source": [
    "import glob\n",
    "import math\n",
    "import uproot\n",
    "import numpy as np\n",
    "import pandas as pd\n",
    "import pkgutil\n",
    "\n",
    "from importlib import reload\n",
    "#syntax: fugi = reload(fugi)\n",
    "\n",
    "import functions_giammi as fugi\n",
    "# fugi = reload(fugi)\n",
    "\n",
    "import matplotlib as mpl\n",
    "import matplotlib.pyplot as plt\n",
    "from matplotlib.colors import LightSource\n",
    "%matplotlib inline\n",
    "%config InlineBackend.figure_formats=[\"png\"]\n",
    "\n",
    "import re\n",
    "\n",
    "#for the cartesian product\n",
    "import itertools\n",
    "from itertools import product\n",
    "\n",
    "#to smooth the MFPADs\n",
    "import scipy as sp\n",
    "from scipy import interpolate\n",
    "import scipy.ndimage\n",
    "from scipy.spatial import Delaunay\n",
    "from scipy.ndimage import gaussian_filter\n",
    "\n",
    "#to create the mesh\n",
    "import triangulation as tr\n",
    "from pyntcloud import PyntCloud, structures\n",
    "\n",
    "import plotly\n",
    "import plotly.graph_objects as go\n",
    "from plotly.subplots import make_subplots\n",
    "\n",
    "import mplhep as hep\n",
    "from mpl_toolkits.mplot3d import Axes3D\n",
    "from mpl_toolkits.mplot3d.art3d import Poly3DCollection\n",
    "\n",
    "plt.style.use(hep.style.ROOT) # For now ROOT defaults to CMS\n",
    "\n",
    "#loads the temperaure cmap like Philipp for both matpplotlib and plotly\n",
    "cmap_temp, cmap_temp_go, Magma_r, Seismic_r = fugi.customcmaps()\n",
    "\n",
    "#to see which classes have been defined so far\n",
    "# import uproot_methods\n",
    "# [modname for importer, modname, ispkg in pkgutil.walk_packages(uproot_methods.classes.__path__)]\n",
    "\n",
    "###550eV - 11.5eV CH11\n",
    "#update nov Kilian binning (36,18)\n",
    "# fileRCR = uproot.open(r\"../PYTHON_graphs/DATA/Experiments/R-C3H3F3O_CH11_550eV_CR_Knov_test.root\");en=\"550eV\";CH=\"CH11\";\n",
    "# fileRCL = uproot.open(r\"../PYTHON_graphs/DATA/Experiments/R-C3H3F3O_CH11_550eV_CL_Knov_test.root\")\n",
    "# fileSCR = uproot.open(r\"../PYTHON_graphs/DATA/Experiments/S-C3H3F3O_CH11_550eV_CR_Knov_test.root\")\n",
    "# fileSCL = uproot.open(r\"../PYTHON_graphs/DATA/Experiments/S-C3H3F3O_CH11_550eV_CL_Knov_test.root\")\n",
    "\n",
    "fileRCR = uproot.open(r\"../PYTHON_graphs/DATA/Experiments/R-C3H3F3O_CH9_550eV_CR_Knov.root\");en=\"550eV\";CH=\"CH9\";\n",
    "fileRCL = uproot.open(r\"../PYTHON_graphs/DATA/Experiments/R-C3H3F3O_CH9_550eV_CL_Knov.root\")\n",
    "fileSCR = uproot.open(r\"../PYTHON_graphs/DATA/Experiments/S-C3H3F3O_CH9_550eV_CR_Knov.root\")\n",
    "fileSCL = uproot.open(r\"../PYTHON_graphs/DATA/Experiments/S-C3H3F3O_CH9_550eV_CL_Knov.root\")\n",
    "\n",
    "#Select between CH9 and CH11\n",
    "path = \"angular_distr_el/\"+CH+\"/\"\n",
    "\n",
    "full_72=False\n",
    "\n",
    "#move first the ID you need\n",
    "IDs = [\"ID_ALL_mol_e0_valid/EN_gate/\",\"ID1_mol_e0_valid/EN_gate/\",\"ID2_mol_e0_valid/EN_gate/\",\"ID3_mol_e0_valid/EN_gate/\"]\n",
    "dirs = [\"MFPADs_multinew/\",\"MFPADs_multinew_phi/\"]\n",
    "\n",
    "loc=path+IDs[2]+dirs[0]\n",
    "ID=str(IDs[2]).split(\"_\")[0]\n",
    "\n",
    "MFPAD=False\n",
    "#load theoretical data\n",
    "pathth = r'../PYTHON_graphs/DATA/Theory/TFMox-S/enant=S_hel=+1_KE=11.5eV';en=\"KE=11.5eV\";\n",
    "\n",
    "# glob has to be sorted (both in unix and windows)\n",
    "all_files = sorted(glob.glob(pathth + \"/**.dat\"))\n",
    "\n",
    "li = []\n",
    "cosphi_th = []\n",
    "test_opening = []\n",
    "allnames=[]\n",
    "colnames = [\"phi\", \"cos(theta)\", \"value\"]\n",
    "\n",
    "# how to load multiple files http://jonathansoma.com/lede/foundations-2017/classes/working-with-many-files/class/,\n",
    "for filename in all_files:\n",
    "    df = pd.read_csv(filename, delimiter=r\"\\s+\", names=colnames, header=None)  # r\"\\s+\" is a regex (regular expression)\n",
    "    # or delim_whitespace=True, it is faste\n",
    "    temp_name=(filename.replace(\" \",\"\")).split(\"/\")[-1].split(\".\")[0] # adding a column to df with the file name with no spaces and extension\n",
    "    cosphi_th.append((int(temp_name.split(\"_\")[0]), int(temp_name.split(\"_\")[1])))\n",
    "    allnames.append(temp_name)\n",
    "    df[\"filename\"]=temp_name\n",
    "    df[\"filename\"]=df[\"filename\"].astype(\"category\")\n",
    "    li.append(df) # a unique DataFrame\n",
    "\n",
    "cosphi_th = np.array(cosphi_th)\n",
    "cosphi_th_adj = np.around(np.array(list(itertools.product(np.linspace(1.,-1.,6).tolist(),np.linspace(-180,180,12).tolist()))),3)\n",
    "cosphi_th_adj_exp = np.around(np.array(list(itertools.product(np.linspace(0.835,-0.835,6).tolist(),np.linspace(-165,165,12).tolist()))),3)\n",
    "\n",
    "frame = pd.concat(li, axis=0)\n",
    "#this commmand avoids 1_1 followed by 1_10: semantic order\n",
    "frame_srt = frame.groupby(\"filename\",sort=False)\n",
    "frame_set = frame.set_index(\"filename\") # build a multiindex using the categories of filename"
   ]
  },
  {
   "cell_type": "code",
   "execution_count": null,
   "metadata": {},
   "outputs": [],
   "source": [
    "#Loading of the experimental MFPADS\n",
    "MFPAD_RCR,ctheta_RCR,ctheta_RCR_err,cosphi_photon,MFPAD_axis,ctheta_axis,ctheta_axis_red=fugi.import_MFPAD(fileRCR, loc, full=True)\n",
    "MFPAD_RCL,ctheta_RCL,ctheta_RCL_err=fugi.import_MFPAD(fileRCL, loc)\n",
    "MFPAD_SCR,ctheta_SCR,ctheta_SCR_err=fugi.import_MFPAD(fileSCR, loc)\n",
    "MFPAD_SCL,ctheta_SCL,ctheta_SCL_err=fugi.import_MFPAD(fileSCL, loc)\n",
    "\n",
    "MFPAD_RCR_phi=fugi.sorting_array(MFPAD_RCR, theory=False, a=2)\n",
    "MFPAD_RCL_phi=fugi.sorting_array(MFPAD_RCL, theory=False, a=2)\n",
    "MFPAD_SCR_phi=fugi.sorting_array(MFPAD_SCR, theory=False, a=2)\n",
    "MFPAD_SCL_phi=fugi.sorting_array(MFPAD_SCL, theory=False, a=2)\n",
    "\n",
    "# MFPAD_RCR_norm=fugi.normalise_with_err(MFPAD_RCR_phi,normtype=2)\n",
    "# MFPAD_RCL_norm=fugi.normalise_with_err(MFPAD_RCL_phi,normtype=2)\n",
    "# MFPAD_SCR_norm=fugi.normalise_with_err(MFPAD_SCR_phi,normtype=2)\n",
    "# MFPAD_SCL_norm=fugi.normalise_with_err(MFPAD_SCL_phi,normtype=2)\n",
    "\n",
    "#COORDIANTES PHOTON ROTATION\n",
    "#adjusting cosphi with a shifting to have it equal to theory\n",
    "ctheta_axis_red=ctheta_axis_red[0]; #Ffrom ccos(theta)\n",
    "\n",
    "phiM=(MFPAD_axis[0][0][1:] + MFPAD_axis[0][0][:-1])/2 #phi = (36,), MFPAD_axis = (37,)\n",
    "cosM=(MFPAD_axis[0][1][1:] + MFPAD_axis[0][1][:-1])/2 #COS = (18,), MFPAD_axis = (19,)\n",
    "phiMM, cosMM = np.meshgrid(phiM, cosM)\n",
    "\n",
    "phicos_phi=list(product(phiM, cosM))\n",
    "phi_full = np.array([el[0] for el in phicos_phi])\n",
    "cos_full = np.array([el[1] for el in phicos_phi])\n",
    "\n",
    "phi_rad= phi_full*np.pi/180.\n",
    "theta_rad= np.arccos(cos_full)\n",
    "\n",
    "print(\"MFPAD_xy shape = \", MFPAD_axis[0][0].shape)\n",
    "print(\"len phi_rad = \", phi_rad.shape)\n",
    "print(\"len theta_rad = \", theta_rad.shape)\n",
    "print(\"phiM shape = \", phiM.shape)\n",
    "print(\"cosM shape = \", cosM.shape)"
   ]
  },
  {
   "cell_type": "code",
   "execution_count": null,
   "metadata": {},
   "outputs": [],
   "source": [
    "#smart flipping for the single 72 MFPAD image. Has to be in phi because of the structure of reshape, do the cos just as a check\n",
    "temp_RCLCR_phi=np.empty([12,6,648])\n",
    "temp_SCLCR_phi=np.empty([12,6,648])\n",
    "temp_totordered_phi_nocos=np.empty([12,6,648])\n",
    "temp_totordered_phi=np.empty([12,6,648]) #it should be the right sum with opposite cos(theta)_photon\n",
    "\n",
    "nphi=MFPAD_RCL.shape[1];ncos=MFPAD_RCL.shape[2]\n",
    "\n",
    "#sum helicities: -cos(theta), phi+180 in photon coordiantes\n",
    "for j in range(12):\n",
    "    for i in range(6):\n",
    "        if j>5:\n",
    "            temp_RCLCR_phi[j,i]=np.add(MFPAD_RCL_phi.reshape(12,6,-1)[j,i],MFPAD_RCR_phi.reshape(12,6,-1)[j-6,5-i])\n",
    "            temp_SCLCR_phi[j,i]=np.add(MFPAD_SCL_phi.reshape(12,6,-1)[j,i],MFPAD_SCR_phi.reshape(12,6,-1)[j-6,5-i])\n",
    "\n",
    "        else:\n",
    "            temp_RCLCR_phi[j,i]=np.add(MFPAD_RCL_phi.reshape(12,6,-1)[j,i],MFPAD_RCR_phi.reshape(12,6,-1)[6+j,5-i])\n",
    "            temp_SCLCR_phi[j,i]=np.add(MFPAD_SCL_phi.reshape(12,6,-1)[j,i],MFPAD_SCR_phi.reshape(12,6,-1)[6+j,5-i])\n",
    "\n",
    "#now they are scanned along phi\n",
    "MFPAD_RCLCR_phi=np.array(temp_RCLCR_phi).reshape(72,nphi,ncos)\n",
    "MFPAD_SCLCR_phi=np.array(temp_SCLCR_phi).reshape(72,nphi,ncos)\n",
    "# MFPAD_RCLCR_phi_norm=fugi.normalise_with_err(MFPAD_RCLCR_phi,normtype=2)\n",
    "MFPAD_SCLCR_phi_norm=fugi.normalise_with_err(MFPAD_SCLCR_phi,normtype=2)\n",
    "\n",
    "MFPAD_RCLCR_sum_phi=np.sum(MFPAD_RCLCR_phi, axis=0)\n",
    "MFPAD_SCLCR_sum_phi=np.sum(MFPAD_SCLCR_phi, axis=0)\n",
    "\n",
    "#sorting\n",
    "# MFPAD_RCLCR_cos=fugi.sorting_array(MFPAD_RCLCR, theory=False, a=1)\n",
    "# MFPAD_RCLCR_phi=fugi.sorting_array(MFPAD_RCLCR, theory=False, a=2) #equal to the original!\n",
    "# MFPAD_SCLCR_cos=fugi.sorting_array(MFPAD_SCLCR, theory=False, a=1)\n",
    "# MFPAD_SCLCR_phi=fugi.sorting_array(MFPAD_SCLCR, theory=False, a=2) #equal to the original!\n",
    "    \n",
    "temp1=[]\n",
    "for el in MFPAD_RCLCR_phi:\n",
    "    temp1.append(np.flip(el,axis=1))\n",
    "MFPAD_RCLCR_phi_flip=np.array(temp1).reshape(72,nphi,ncos)\n",
    "\n",
    "tempf=[]\n",
    "for el in temp_RCLCR_phi.reshape(72,nphi,ncos):\n",
    "    tempf.append(np.flip(el,axis=1))\n",
    "temp_RCLCR_phi_flip=np.array(tempf).reshape(12,6,-1)\n",
    "\n",
    "#sum enantiomer: -cos(theta) fliped axis=1 cos!, -cos(theta) photon coordinates\n",
    "for j in range(12):\n",
    "    for i in range(6):\n",
    "        temp_totordered_phi_nocos[j,i]=np.add(temp_SCLCR_phi[j,i],temp_RCLCR_phi_flip[j,i])\n",
    "        temp_totordered_phi[j,i]=np.add(temp_SCLCR_phi[j,i],temp_RCLCR_phi_flip[j,5-i])\n",
    "\n",
    "MFPAD_totordered_phi=np.array(temp_totordered_phi).reshape(72,nphi,ncos)\n",
    "\n",
    "MFPAD_totordered_phi_norm=fugi.normalise_with_err(MFPAD_totordered_phi,normtype=2)\n",
    "\n",
    "MFPAD_tot_phi_norm=fugi.normalise_with_err(np.sum(MFPAD_totordered_phi, axis=0),normtype=3)\n",
    "MFPAD_tot_phi_norm2=fugi.normalise_with_err(np.sum(MFPAD_totordered_phi, axis=0),normtype=2)\n",
    "\n",
    "#sorting\n",
    "# MFPAD_totordered_cos=fugi.sorting_array(MFPAD_totordered, theory=False, a=1)\n",
    "# MFPAD_totordered_phi=fugi.sorting_array(MFPAD_totordered, theory=False, a=2) #equal to the original!"
   ]
  },
  {
   "cell_type": "code",
   "execution_count": null,
   "metadata": {},
   "outputs": [],
   "source": [
    "plt.pcolormesh(MFPAD_SCLCR_sum_phi.T, cmap=\"viridis\")"
   ]
  },
  {
   "cell_type": "code",
   "execution_count": null,
   "metadata": {},
   "outputs": [],
   "source": [
    "plt.pcolormesh(MFPAD_RCLCR_sum_phi.T,cmap=\"viridis\")"
   ]
  },
  {
   "cell_type": "code",
   "execution_count": null,
   "metadata": {},
   "outputs": [],
   "source": [
    "plt.pcolormesh(MFPAD_tot_phi_norm.T, cmap=\"viridis\")"
   ]
  },
  {
   "cell_type": "markdown",
   "metadata": {},
   "source": [
    "fig, axes = plt.subplots(6,12, figsize=(25, 12), dpi=40, sharex='col', sharey='row')\n",
    "#NOTE for cos ordered the scannig order of axis has to be np.flip(axes.T,axis=1).ravel()\n",
    "for i,ax in enumerate(np.flip(axes.T,axis=1).ravel()):\n",
    "    cs,ax=fugi.plot_interpolation(phiM,cosM,MFPAD_SCLCR_phi[i].T, ax=ax, kind=\"linear\", xstep=5, ystep=0.05, n=15)\n",
    "    ax.tick_params(labelsize=12)\n",
    "    # ax.text(0, 0, cosphi_adj_phi[i].T, ha=\"center\", va=\"center\", color=\"red\",fontsize=12)\n",
    "fugi.overlaygraph(fig)"
   ]
  },
  {
   "cell_type": "markdown",
   "metadata": {},
   "source": [
    "fig, axes = plt.subplots(6,12, figsize=(25, 12), dpi=40, sharex='col', sharey='row')\n",
    "#NOTE for cos ordered the scannig order of axis has to be np.flip(axes.T,axis=1).ravel()\n",
    "for i,ax in enumerate(np.flip(axes.T,axis=1).ravel()):\n",
    "    cs,ax=fugi.plot_interpolation(phiM,cosM,MFPAD_RCLCR_phi[i].T, ax=ax, kind=\"linear\", xstep=5, ystep=0.05, n=15)\n",
    "    ax.tick_params(labelsize=12)\n",
    "    # ax.text(0, 0, cosphi_adj_phi[i].T, ha=\"center\", va=\"center\", color=\"red\",fontsize=12)\n",
    "fugi.overlaygraph(fig)"
   ]
  },
  {
   "cell_type": "code",
   "execution_count": null,
   "metadata": {},
   "outputs": [],
   "source": [
    "if MFPAD:\n",
    "    #SMART SUM of S enantiomers two different helicities EXPERIMENTAL\n",
    "    fig, axes = plt.subplots(6,12, figsize=(25, 12), dpi=40, sharex='col', sharey='row')\n",
    "    #NOTE for cos ordered the scannig order of axis has to be np.flip(axes.T,axis=1).ravel()\n",
    "    for i,ax in enumerate(np.flip(axes.T,axis=1).ravel()):\n",
    "        cs,ax=fugi.plot_interpolation(phiM,cosM,MFPAD_totordered_phi[i].T, ax=ax, kind=\"linear\", xstep=5, ystep=0.05, n=15, gaussian=1.2)\n",
    "        ax.tick_params(labelsize=12)\n",
    "        # ax.text(0, 0, cosphi_adj_phi[i].T, ha=\"center\", va=\"center\", color=\"red\",fontsize=12)\n",
    "    fugi.overlaygraph(fig)"
   ]
  },
  {
   "cell_type": "code",
   "execution_count": null,
   "metadata": {},
   "outputs": [],
   "source": [
    "#pick the right theoretical MFPAD and inver the cos(theta)_el axis\n",
    "#NOTE here the cos(theta)_el is sorted in the range [-1:-1]\n",
    "\n",
    "counts_temp_cosord=[]\n",
    "for group in frame_srt:\n",
    "    counts_temp_cosord.append(frame_srt.get_group(group[0]).sort_values(by=[\"phi\",\"cos(theta)\"])[\"value\"].values)\n",
    "    if group[0] == \"1_1\":\n",
    "        phi_full_sorted=np.array(frame_srt.get_group(group[0]).sort_values(by=[\"phi\",\"cos(theta)\"])[\"phi\"].values)\n",
    "        ctheta_full_sorted=np.array(frame_srt.get_group(group[0]).sort_values(by=[\"phi\",\"cos(theta)\"])[\"cos(theta)\"].values)\n",
    "\n",
    "counts_temp_cosord=np.array(counts_temp_cosord).reshape(72,200,100)\n",
    "\n",
    "#NOTE these will be sorted according to cos(theta)_el [-1:1]\n",
    "phiM_th=np.unique(phi_full_sorted)\n",
    "cosM_th=np.unique(ctheta_full_sorted)\n",
    "xgo_phi,ygo_phi,cosphi_adj_phi = fugi.create_gocoords(a=0, reduced=False, source=True)\n",
    "\n",
    "\n",
    "xgo_cos_flip,ygo_cos_flip,cosphi_adj_cos_flip = fugi.create_gocoords(a=2, reduced=False, source=True)\n",
    "dfind=pd.DataFrame(cosphi_adj_cos_flip, columns=[\"ctheta\",\"phi\"])\n",
    "dfind[\"item\"]=allnames\n",
    "cosphi_th_std=(dfind.sort_values(by=[\"ctheta\", \"phi\"], ascending=[False,True]))[\"item\"].values\n",
    "\n",
    "#NOTE these will be sorted according to cos(theta) or phi PHOTON\n",
    "# MFPAD_Sth_cos=fugi.sorting_array(counts_temp_cosord, theory=True, items=allnames, a=1)\n",
    "\n",
    "#MFPAD_S_phi: in photon_coordiantes as allnames \n",
    "# OUTPUT a=2 : 6_1', '5_1', '4_1', '3_1', '2_1', '1_1', '6_2', '5_2'\n",
    "MFPAD_Sth_phi=fugi.sorting_array(counts_temp_cosord, theory=True, items=allnames, a=2)\n",
    "MFPAD_Stot_phi=np.sum(MFPAD_Sth_phi, axis=0)\n",
    "\n",
    "print(\"MFPAD th shape \", MFPAD_Sth_phi.shape)\n",
    "print(\"phi_full_sorted shape \", phi_full_sorted.shape)\n"
   ]
  },
  {
   "cell_type": "code",
   "execution_count": null,
   "metadata": {},
   "outputs": [],
   "source": [
    "if MFPAD:\n",
    "    #SUM of S enantiomers two different helicities THEORETICAL\n",
    "    fig, axes = plt.subplots(6,12, figsize=(25, 12), dpi=40, sharex='col', sharey='row')\n",
    "    for i,ax in enumerate(np.flip(axes.T,axis=1).ravel()):\n",
    "        cs,ax=fugi.plot_interpolation(phiM_th,cosM_th,MFPAD_Sth_phi[i].T, ax=ax, kind=\"linear\", xstep=5, ystep=0.05, n=15)\n",
    "        ax.tick_params(labelsize=12)\n",
    "        # ax.text(0, 0, cosphi_adj_phi[i].T, ha=\"center\", va=\"center\", color=\"red\",fontsize=12)\n",
    "    fugi.overlaygraph(fig)"
   ]
  },
  {
   "cell_type": "markdown",
   "metadata": {},
   "source": [
    "fig, axes = plt.subplots(6,12, figsize=(25, 12), dpi=40, sharex='col', sharey='row')\n",
    "#NOTE for cos ordered the scannig order of axis has to be np.flip(axes.T,axis=1).ravel()\n",
    "for i,ax in enumerate(axes.ravel()):\n",
    "    cs,ax=fugi.plot_interpolation(phiM_th,cosM_th,MFPAD_Sth_cos[i].T, ax=ax, kind=\"linear\", xstep=5, ystep=0.05, n=15)\n",
    "    ax.tick_params(labelsize=12)\n",
    "    # ax.text(0, 0, cosphi_adj_phi[i].T, ha=\"center\", va=\"center\", color=\"red\",fontsize=12)\n",
    "fugi.overlaygraph(fig)"
   ]
  },
  {
   "cell_type": "code",
   "execution_count": null,
   "metadata": {},
   "outputs": [],
   "source": [
    "#down sample theoretical MFPAD to 18 36\n",
    "#NOTE the flip in the Spline is to fullfill the request of a monotonic theta\n",
    "temp=[]\n",
    "# theta = np.linspace(0,np.pi,18)\n",
    "# phi = np.linspace(0., 2*np.pi, 36)\n",
    "\n",
    "if full_72:\n",
    "    for el in MFPAD_Sth_phi:\n",
    "        f = interpolate.bisplrep(ctheta_full_sorted, phi_full_sorted, el.reshape(-1), s=0.001)\n",
    "        temp = interpolate.bisplev(cosM,phiM,f).T    \n",
    "    MFPAD_Sth_phi_red=np.array(temp).reshape(72,36,18)\n",
    "\n",
    "\n",
    "f = interpolate.bisplrep(ctheta_full_sorted, phi_full_sorted, MFPAD_Stot_phi.reshape(-1), s=0.001)\n",
    "MFPAD_Stot_phi_red = interpolate.bisplev(cosM,phiM,f).T"
   ]
  },
  {
   "cell_type": "code",
   "execution_count": null,
   "metadata": {},
   "outputs": [],
   "source": [
    "if MFPAD:\n",
    "    #SUM of S enantiomers two different helicities THEORETICAL red\n",
    "    fig, axes = plt.subplots(6,12, figsize=(25, 12), dpi=40, sharex='col', sharey='row')\n",
    "    #NOTE for cos ordered the scannig order of axis has to be np.flip(axes.T,axis=1).ravel()\n",
    "    for i,ax in enumerate(np.flip(axes.T,axis=1).ravel()):\n",
    "        cs,ax=fugi.plot_interpolation(phiM,cosM,MFPAD_Sth_phi_red[i].T, ax=ax, kind=\"linear\", xstep=5, ystep=0.05, n=15)\n",
    "        ax.tick_params(labelsize=12)\n",
    "        # ax.text(0, 0, cosphi_adj_phi[i].T, ha=\"center\", va=\"center\", color=\"red\",fontsize=12)\n",
    "    fugi.overlaygraph(fig)"
   ]
  },
  {
   "cell_type": "code",
   "execution_count": null,
   "metadata": {},
   "outputs": [],
   "source": [
    "MFPAD_check=0\n",
    "if full_72:\n",
    "    plt.pcolormesh(MFPAD_Sth_phi_red[MFPAD_check].T, cmap=\"viridis\")"
   ]
  },
  {
   "cell_type": "markdown",
   "metadata": {},
   "source": [
    "plt.pcolormesh(MFPAD_SCR_norm[MFPAD_check].T, cmap=\"viridis\")\n"
   ]
  },
  {
   "cell_type": "markdown",
   "metadata": {},
   "source": [
    "plt.pcolormesh(MFPAD_RCLCR_phi[MFPAD_check].T, cmap=\"viridis\")"
   ]
  },
  {
   "cell_type": "markdown",
   "metadata": {},
   "source": [
    "plt.pcolormesh(MFPAD_SCLCR_phi[MFPAD_check].T, cmap=\"viridis\")"
   ]
  },
  {
   "cell_type": "code",
   "execution_count": null,
   "metadata": {},
   "outputs": [],
   "source": [
    "if full_72:\n",
    "    plt.pcolormesh(MFPAD_totordered_phi[MFPAD_check].T, cmap=\"viridis\")"
   ]
  },
  {
   "cell_type": "code",
   "execution_count": null,
   "metadata": {},
   "outputs": [],
   "source": [
    "if full_72:\n",
    "    plt.pcolormesh(gaussian_filter(MFPAD_totordered_phi[MFPAD_check],sigma=1.1).T, cmap=\"viridis\")"
   ]
  },
  {
   "cell_type": "code",
   "execution_count": null,
   "metadata": {},
   "outputs": [],
   "source": [
    "plt.pcolormesh(gaussian_filter(MFPAD_tot_phi_norm,sigma=0.4).T, cmap=\"viridis\")"
   ]
  },
  {
   "cell_type": "code",
   "execution_count": null,
   "metadata": {},
   "outputs": [],
   "source": [
    "plt.pcolormesh(MFPAD_Stot_phi_red.T, cmap=\"viridis\")"
   ]
  },
  {
   "cell_type": "code",
   "execution_count": null,
   "metadata": {
    "tags": []
   },
   "outputs": [],
   "source": [
    "#describe a set of alpha, beta, gamma angles to rotate the theoretical distribution (would be better to rotate before downsampling)\n",
    "arr=np.arange(-100,100,5)\n",
    "arrc=np.arange(-3,3,0.5)\n",
    "#alpha, beta, gamma for 3D rotation\n",
    "abg=list(product(arr, arr, arr))\n",
    "\n",
    "a = np.array([el[0] for el in abg])\n",
    "b = np.array([el[1] for el in abg])\n",
    "g = np.array([el[2] for el in abg])\n",
    "\n",
    "print(\"len(abg) = \",len(abg))\n",
    "\n",
    "for i,el in enumerate(abg):\n",
    "    if el == (1,1,1) or el == (-1,-1,-1) or np.all(np.isclose(el, [0.2, 0.2, 0.2], rtol=1e-05)) or el == (0,0,0):\n",
    "        zeropoint=i\n",
    "\n",
    "print(abg[zeropoint])\n",
    "print(f'at {zeropoint:d}')"
   ]
  },
  {
   "cell_type": "code",
   "execution_count": null,
   "metadata": {},
   "outputs": [],
   "source": [
    "%store MFPAD_Stot_phi_red\n",
    "%store theta_rad\n",
    "%store phi_rad\n",
    "%store phiMM\n",
    "%store phiM\n",
    "%store cosMM\n",
    "%store cosM"
   ]
  },
  {
   "cell_type": "code",
   "execution_count": null,
   "metadata": {},
   "outputs": [],
   "source": [
    "# REDUCED TO 1 MFPAD! rotate the theoretical distribution\n",
    "fugi = reload(fugi)\n",
    "r_temp=[];n_temp=[]\n",
    "\n",
    "r_temp.append(fugi.rot3d_MFPAD_dist(MFPAD_Stot_phi_red,theta_rad,phi_rad,abg,phiM,cosM, convention=1, s=0.1))\n",
    "MFPAD_Stot_phi_rotated=np.array(r_temp).reshape(1,len(abg),36,18)\n",
    "\n",
    "n_temp.append(fugi.normalise_with_err(MFPAD_Stot_phi_rotated[0],normtype=3))\n",
    "MFPAD_Stot_phi_rotated_norm=np.array(n_temp).reshape(1,len(abg),36,18)"
   ]
  },
  {
   "cell_type": "code",
   "execution_count": null,
   "metadata": {
    "tags": []
   },
   "outputs": [],
   "source": [
    "d_temp=[]\n",
    "for el in MFPAD_Stot_phi_rotated_norm[0]:\n",
    "    d_temp.append(np.sqrt(np.sum((gaussian_filter(MFPAD_tot_phi_norm,sigma=0.4).reshape(-1)-el.reshape(-1))**2)))\n",
    "\n",
    "#between 0 and 1\n",
    "d_single_norm=fugi.normalise_with_err(np.array(d_temp),normtype=2)\n",
    "\n",
    "print(\"d_sum shape = \", d_single_norm.shape)\n",
    "\n",
    "d_single_complete_norm=np.column_stack((a,b,g,d_single_norm)).reshape(-1,4)\n",
    "\n",
    "d_min_norm=d_single_norm.min()\n",
    "delta=d_single_norm.max()-d_single_norm.min()\n",
    "\n",
    "output=[]\n",
    "for i,el in enumerate(d_single_complete_norm):\n",
    "    if el[3] <= d_min_norm+delta*0.02:\n",
    "        output.append(np.append(el,i))\n",
    "sort_out=sorted(output, key = lambda x:x[3])\n",
    "\n",
    "print(\"For the sum MFPAD\")\n",
    "print(sort_out)"
   ]
  },
  {
   "cell_type": "code",
   "execution_count": null,
   "metadata": {},
   "outputs": [],
   "source": [
    "plt.pcolormesh(MFPAD_Stot_phi_rotated[0][zeropoint].T,cmap=\"viridis\")"
   ]
  },
  {
   "cell_type": "code",
   "execution_count": null,
   "metadata": {},
   "outputs": [],
   "source": [
    "plt.pcolormesh(gaussian_filter(MFPAD_tot_phi_norm,sigma=0.4).T, cmap=\"viridis\")"
   ]
  },
  {
   "cell_type": "code",
   "execution_count": null,
   "metadata": {},
   "outputs": [],
   "source": [
    "plt.pcolormesh(MFPAD_Stot_phi_rotated_norm[0][int(sort_out[1][4])].T,cmap=\"viridis\")"
   ]
  },
  {
   "cell_type": "code",
   "execution_count": null,
   "metadata": {
    "tags": []
   },
   "outputs": [],
   "source": [
    "#rotate the theoretical distribution\n",
    "#fugi = reload(fugi)\n",
    "tot_shape=MFPAD_Stot_phi_rotated_norm.shape[0]\n",
    "\n",
    "if full_72:\n",
    "    #for 72 MFPADS the calculation can last for 15 minutes for (-30,34,4)\n",
    "    r_temp=[];n_temp=[]\n",
    "\n",
    "    # these ae now 72 x len(arr) MFPAD (each 36,18 = 648)\n",
    "    for el in MFPAD_Sth_phi_red:\n",
    "        r_temp.append(fugi.rot3d_MFPAD_dist(el,theta_rad,phi_rad,abg,phiMM,cosMM, convention=1))\n",
    "\n",
    "    MFPAD_Sth_phi_rotated=np.array(r_temp).reshape(72,len(abg),36,18)\n",
    "\n",
    "    for el in MFPAD_Sth_phi_rotated:\n",
    "        n_temp.append(fugi.normalise_with_err(el,normtype=2))\n",
    "\n",
    "    MFPAD_Sth_phi_rotated_norm=np.array(n_temp).reshape(72,len(abg),36,18)\n",
    "\n",
    "    plt.pcolormesh(gaussian_filter(MFPAD_Sth_phi_rotated_norm[71][zeropoint].reshape(36,18),sigma=0.6).T, cmap=\"viridis\")\n",
    "\n",
    "\n",
    "    #difference square looping along all coordiantes: NOTE they should have filled int he same way\n",
    "    #l2 norm\n",
    "    s_temp=[];\n",
    "    # for i,el_exp in enumerate(MFPAD_SCL_norm): #one enantiomer, one helicity\n",
    "    for i,el_exp in enumerate(MFPAD_totordered_phi_norm): #all together\n",
    "        d_temp=[]\n",
    "        if i < tot_shape:\n",
    "            for j,el_th in enumerate(MFPAD_Sth_phi_rotated_norm[i]):\n",
    "                if i == 0 and j == zeropoint: #have a look fot the zero point few cells before!!\n",
    "                    test_0=gaussian_filter(el_exp,0.6).reshape(-1) - gaussian_filter(el_th,0.5).reshape(-1)\n",
    "                    plt.imshpcolormeshow(np.sqrt(test_0.reshape(36,18)**2).T, cmap=cmap_temp)\n",
    "                    plt.colorbar()\n",
    "                elif i == 71 and j == zeropoint: #have a look fot the zero point few cells before!!\n",
    "                    test_71=gaussian_filter(el_exp,0.6).reshape(-1) - gaussian_filter(el_th,0.5).reshape(-1)\n",
    "                    plt.pcolormesh(np.sqrt(test_71.reshape(36,18)**2).T, cmap=cmap_temp)\n",
    "                    plt.colorbar()\n",
    "                d_temp.append(np.sum((gaussian_filter(el_exp,sigma=0.6).reshape(-1)-gaussian_filter(el_th,sigma=0.5).reshape(-1))**2)) #len(d_temp) = len(abg)\n",
    "            s_temp.append(np.sqrt(d_temp)) #len(s_temp) = len(d_temp)*72\n",
    "        else:\n",
    "            break\n",
    "\n",
    "    d_all=np.array(s_temp).reshape(tot_shape,len(abg))\n",
    "    d_sum=np.sum(d_all, axis=0)\n",
    "    d_norm=fugi.normalise_with_err(np.array(d_sum),normtype=2)\n",
    "\n",
    "    print(\"d_temp length = \", len(d_temp))\n",
    "    print(\"s_temp shaoe = \", np.array(s_temp).shape)\n",
    "    print(\"d_all shape = \", d_all.shape)\n",
    "    print(\"d_sum shape = \", d_sum.shape)\n",
    "\n",
    "    d_tot=np.column_stack((a,b,g,d_sum)).reshape(-1,4)\n",
    "    d_tot_norm=np.column_stack((a,b,g,d_norm)).reshape(-1,4)\n",
    "\n",
    "    d_min=d_sum.min()\n",
    "    d_min_norm=d_norm.min()\n",
    "    delta=d_norm.max()-d_norm.min()\n",
    "\n",
    "    output=[]\n",
    "    for el in d_tot_norm:\n",
    "        if el[3] <= d_min_norm+delta*0.05:\n",
    "            output.append(el)\n",
    "    print(\"For the collective 72 MFPADs\")\n",
    "    sorted(output, key = lambda x:x[3])"
   ]
  },
  {
   "cell_type": "markdown",
   "metadata": {},
   "source": [
    "new=[]\n",
    "for el in MFPAD_rotated_norm:\n",
    "    for el1 in el:\n",
    "        new.append(np.nan_to_num(el1.reshape(-1),nan=np.average(np.nan_to_num(el1.reshape(-1)))))\n",
    "\n",
    "MFPAD_rotated_norm=new"
   ]
  },
  {
   "cell_type": "markdown",
   "metadata": {},
   "source": [
    "#it works but it takes HOURS!!\n",
    "import matplotlib.animation as ani\n",
    "fig = plt.figure()\n",
    "\n",
    "def animate(i=int):\n",
    "    p=plt.pcolormesh(MFPAD_Stot_phi_rotated_norm[0][i].T, cmap=\"viridis\")\n",
    "    return p\n",
    "\n",
    "animator = ani.FuncAnimation(fig, animate, frames = len(abg))\n",
    "animator.save(\"OUTPUTS/test.mp4\", fps =30, writer=\"ffmpeg\")\n",
    "plt.show()"
   ]
  },
  {
   "cell_type": "code",
   "execution_count": null,
   "metadata": {},
   "outputs": [],
   "source": [
    "if full_72 and tot_shape > 2:\n",
    "    d_temp_s=[]\n",
    "    for el_th in MFPAD_Sth_phi_rotated_norm[71]:\n",
    "        d_temp_s.append(np.sum((gaussian_filter(MFPAD_SCLCR_phi_norm[71],sigma=1.1).reshape(-1)-gaussian_filter(el_th,sigma=0.5).reshape(-1))**2)) #len(d_temp) = len(abg)\n",
    "        # d_temp_s.append(np.sum((MFPAD_totordered_phi_norm[71].reshape(-1)-el_th.reshape(-1))**2)) #len(d_temp) = len(abg)\n",
    "\n",
    "    d_all_s=np.sqrt(np.array(d_temp_s))\n",
    "    d_norm_s=fugi.normalise_with_err(np.array(d_all_s),normtype=2)\n",
    "\n",
    "    print(\"d_temp_s length = \", len(d_temp_s))\n",
    "    print(\"d_norm_s shape = \", d_norm_s.shape)\n",
    "\n",
    "    print(\"For the S enantiomer MFPADs\")\n",
    "    \n",
    "    d_tot_s=np.column_stack((a,b,g,d_norm_s)).reshape(-1,4)\n",
    "    d_min_s=d_norm_s.min()\n",
    "    output_s=[]\n",
    "    for el in d_tot_s:\n",
    "        if el[3] <= d_min_s*1.00005:\n",
    "            output_s.append(el)\n",
    "    sorted(output_s, key = lambda x:x[3])"
   ]
  },
  {
   "cell_type": "code",
   "execution_count": null,
   "metadata": {},
   "outputs": [],
   "source": [
    "fig = plt.figure(figsize=(15,15))\n",
    "ax = fig.add_subplot(111, projection='3d')\n",
    "\n",
    "# d_masked = np.ma.masked_array(d_norm, d_norm>=d_norm.min()+delta*0.7)\n",
    "# ax.scatter(a, b, g, c=d_masked, alpha=0.2, s=10, cmap=cmap_temp)\n",
    "\n",
    "# d_masked = np.ma.masked_array(d_norm, d_norm>=d_norm.min()+delta*0.5)\n",
    "# img = ax.scatter(a, b, g, c=d_masked, alpha=0.5, s=50, cmap=cmap_temp)\n",
    "\n",
    "d_masked = np.ma.masked_array(d_single_norm, d_single_norm>=d_min_norm+delta*0.2)\n",
    "img= ax.scatter(a, b, g, c=d_masked, alpha=0.8, s=20, cmap=cmap_temp)\n",
    "# ax.scatter(a, b, c=d_masked, zs=-90, zdir='z', s=60, cmap=plt.hot())\n",
    "# ax.scatter(a, g, c=d_masked, zs=-70, zdir='y', s=60, cmap=plt.hot())\n",
    "# ax.scatter(b, g, c=d_masked, zs=70,  zdir='x', s=60, cmap=plt.hot())\n",
    "\n",
    "ax.set_xlabel('x alpha [DEG]', labelpad=25)\n",
    "ax.set_ylabel('y beta [DEG]', labelpad=25)\n",
    "ax.set_zlabel('z gamma [DEG]', labelpad=25)\n",
    "\n",
    "ax.view_init(elev=30., azim=1800.)\n",
    "\n",
    "fig.colorbar(img)\n",
    "plt.show()"
   ]
  },
  {
   "cell_type": "markdown",
   "metadata": {},
   "source": [
    "#if d_norm \n",
    "fig1 = go.Figure(data=[go.Scatter3d(x=a, y=b, z=g, mode='markers',\n",
    "                    marker=dict( size=5,color=d_single_norm, colorscale='temps', opacity=1., showscale=True)\n",
    "                    #color set colours to an array/list of desired values  \n",
    "                    #show scale to show the legend according to the color\n",
    "                    )])\n",
    "\n",
    "#fig1.update_layout(title=\"TFMeOx MFPADs EXP\", width=500, height=500, margin=dict(l=65, r=50, b=65, t=90)) #margin=dict(l=0, r=0, b=0, t=0))\n",
    "\n",
    "#fig1.add_trace(go.Surface(x=a, y=b, z=g, colorscale=\"blues\",  showscale=False))\n",
    "##fig1.add_trace(go.Surface(x=x.apply(lambda x: 10), y=y, z = np.array([z]*length_data), colorscale= bright_blue, showscale=False))\n",
    "##fig1.add_trace(go.Surface(x=x, y= y.apply(lambda x: 30), z =  np.array([z]*length_data).transpose(), colorscale=bright_pink, showscale=False))\n",
    "fig1.show()"
   ]
  },
  {
   "cell_type": "markdown",
   "metadata": {},
   "source": [
    "fig1 = go.Figure(data=[go.Scatter3d(x=d_tot_s[:,0], y=d_tot_s[:,1], z=d_tot_s[:,2], mode='markers',\n",
    "                    marker=dict( size=5,color=d_tot_s[:,3], colorscale='temps', opacity=.8, showscale=True)\n",
    "                    #color set colours to an array/list of desired values  \n",
    "                    #show scale to show the legend according to the color\n",
    "                    )])\n",
    "\n",
    "#fig1.update_layout(title=\"TFMeOx MFPADs EXP\", width=500, height=500, margin=dict(l=65, r=50, b=65, t=90)) #margin=dict(l=0, r=0, b=0, t=0))\n",
    "fig1.show()"
   ]
  },
  {
   "cell_type": "markdown",
   "metadata": {},
   "source": [
    "from scipy import interpolate\n",
    "\n",
    "f_th = interpolate.interp2d(cosM_th,phiM_th,MFPAD_Sth_phi[71], kind='cubic')\n",
    "f_exp = interpolate.interp2d(cosM,phiM,MFPAD_totordered_phi[71], kind='cubic')"
   ]
  },
  {
   "cell_type": "markdown",
   "metadata": {},
   "source": [
    "ynew = np.linspace(-180, 180, 36)\n",
    "xnew = np.linspace(-1, 1, 18)\n",
    "znew = f_th(xnew,ynew)\n",
    "plt.pcolormesh(znew.T, cmap=\"viridis\")\n",
    "plt.show()"
   ]
  },
  {
   "cell_type": "markdown",
   "metadata": {},
   "source": [
    "from scipy.spatial.transform import Rotation, RotationSpline\n",
    "q = Rotation.from_euler('ZYX', abg, degrees=True)\n",
    "spline = RotationSpline(znew.reshape(-1), q)"
   ]
  }
 ],
 "metadata": {
  "interpreter": {
   "hash": "e3e66c793b5272eb6ced2ef395fa3f1e661a5b1d7880dcfb1a8fb41860f8b331"
  },
  "kernelspec": {
   "display_name": "Python 3.8.10 64-bit ('base': conda)",
   "language": "python",
   "name": "python3"
  },
  "language_info": {
   "codemirror_mode": {
    "name": "ipython",
    "version": 3
   },
   "file_extension": ".py",
   "mimetype": "text/x-python",
   "name": "python",
   "nbconvert_exporter": "python",
   "pygments_lexer": "ipython3",
   "version": "3.8.12"
  },
  "metadata": {
   "interpreter": {
    "hash": "0314860021bfd1d6d5065173ecf1d472a069bf5b92310f1daa2ee9c3af705d8c"
   }
  }
 },
 "nbformat": 4,
 "nbformat_minor": 2
}
