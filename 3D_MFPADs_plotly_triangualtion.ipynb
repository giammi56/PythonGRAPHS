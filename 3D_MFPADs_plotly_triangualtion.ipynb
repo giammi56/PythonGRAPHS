{
 "cells": [
  {
   "cell_type": "code",
   "execution_count": null,
   "metadata": {},
   "outputs": [],
   "source": [
    "#TRIANGULATION\n",
    "from scipy.spatial import Delaunay\n",
    "\n",
    "def triangulation_edges(points, faces, linewidth=1.5):\n",
    "    points = np.asarray(points)\n",
    "    faces = np.asarray(faces)\n",
    "    d = points.shape[-1]\n",
    "    \n",
    "    if d not in [2, 3] or faces.shape[-1] != 3:\n",
    "        raise ValueError(\"your data are not associated to a 2d or 3d  triangulation\\n\\\n",
    "                         points should be an array of ndim=2 or 3 and faces of ndim=3\")\n",
    "    \n",
    "    Xe = []\n",
    "    Ye = []\n",
    "    if d == 3:\n",
    "        Ze = []\n",
    "    for T in tri_vertices:\n",
    "        Xe += [T[k%3][0] for k in range(4)] + [None]\n",
    "        Ye += [T[k%3][1] for k in range(4)] + [None]\n",
    "        if d == 3: \n",
    "            Ze += [T[k%3][2] for k in range(4)] + [None] \n",
    "    if d == 2:\n",
    "        return  go.Scatter(x=Xe,\n",
    "                           y=Ye,\n",
    "                           mode='lines',\n",
    "                           name='edges',\n",
    "                           line_color ='rgb(50,50,50)', \n",
    "                           line_width=linewidth\n",
    "                            )\n",
    "    else:\n",
    "        return go.Scatter3d(x=Xe,\n",
    "                           y=Ye,\n",
    "                           z=Ze,\n",
    "                           mode='lines',\n",
    "                           name='edges',\n",
    "                           line_color ='rgb(50,50,50)', \n",
    "                           line_width=linewidth)"
   ]
  },
  {
   "cell_type": "code",
   "execution_count": null,
   "metadata": {},
   "outputs": [],
   "source": [
    "points2d_trace = go.Scatter(x=x, y=y, mode='markers', marker_color='red', marker_size=6)\n",
    "point_trace= go.Scatter(x=x, y=y, \n",
    "                         mode='markers',\n",
    "                         name='points',\n",
    "                         marker_color='red',\n",
    "                         marker_size=6)\n",
    "pts2d = np.array([x,y]).T\n",
    "tri = Delaunay(pts2d)\n",
    "delaunay_tri = triangulation_edges(pts2d, tri.simplices, linewidth=1)\n",
    "fig2 = go.Figure(data=[delaunay_tri, point_trace])\n",
    "fig2.update_layout(width=500, height=500);\n",
    "# fig2.show()"
   ]
  },
  {
   "cell_type": "code",
   "execution_count": null,
   "metadata": {},
   "outputs": [],
   "source": [
    "pts3d = np.array([x,y,z]).T\n",
    "pts2d = np.array([x,y]).T\n",
    "pts3d.shape[-1]"
   ]
  },
  {
   "cell_type": "code",
   "execution_count": null,
   "metadata": {},
   "outputs": [],
   "source": [
    "points3d_trace = go.Scatter3d(x=x, y=y, z=z, mode='markers', marker_color='red', marker_size=6)\n",
    "point_trace3d= go.Scatter3d(x=x, y=y, z=z,\n",
    "                         mode='markers',\n",
    "                         name='points',\n",
    "                         marker_color='red',\n",
    "                         marker_size=6)"
   ]
  },
  {
   "cell_type": "code",
   "execution_count": null,
   "metadata": {},
   "outputs": [],
   "source": [
    "tritri = Delaunay(pts3d)\n",
    "tri = Delaunay(pts2d)\n",
    "\n",
    "tri.simplices"
   ]
  },
  {
   "cell_type": "code",
   "execution_count": null,
   "metadata": {},
   "outputs": [],
   "source": [
    "delaunay_tritri = triangulation_edges(pts3d, tri.simplices, linewidth=1)\n",
    "fig4 = go.Figure(data=[delaunay_tritri, point_trace3d])\n",
    "fig4.update_layout(width=500, height=500);\n",
    "fig4.show()"
   ]
  },
  {
   "cell_type": "code",
   "execution_count": null,
   "metadata": {},
   "outputs": [],
   "source": [
    "i, j, k = tri.simplices.T\n",
    "my_mesh3d = go.Mesh3d(\n",
    "    x = x,\n",
    "    y = y,\n",
    "    z = z,\n",
    "    i=i, j=j, k=k,\n",
    "    colorscale='deep_r',\n",
    "    colorbar_thickness=25,\n",
    "    intensity=z, \n",
    "    flatshading=True\n",
    ")\n",
    "\n",
    "my_layout = dict(width=800, height=600,\n",
    "                 scene_camera_eye=dict(x=1.5, y=1.5, z=1), \n",
    "                 scene_aspectratio=dict(x=1.5, y=1.5, z=1))\n",
    "\n",
    "points3d = np.array([x,y,z]).T\n",
    "\n",
    "delaun_tri3d  = triangulation_edges(points3d, tri.simplices)\n",
    "\n",
    "fig3d = go.Figure(data=[my_mesh3d, delaun_tri3d])\n",
    "\n",
    "# fig3d.show()"
   ]
  },
  {
   "cell_type": "code",
   "execution_count": null,
   "metadata": {},
   "outputs": [],
   "source": [
    "from pyntcloud import PyntCloud, structures\n",
    "\n",
    "pts = np.array([x, y, z]).T\n",
    "\n",
    "delaun = structures.Delaunay3D(pts)\n",
    "\n",
    "delaun.compute()\n",
    "mesh = delaun.get_mesh()\n",
    "tri= mesh[['v1', 'v2', 'v3']].values\n",
    "I, J, K = tri.T\n",
    "\n",
    "\n",
    "fig1 = go.Figure(go.Mesh3d(x=x, y=y, z=z, \n",
    "                           i=I, j=J, k=K, \n",
    "                           intensity=z, \n",
    "                           colorscale='Viridis', \n",
    "                           colorbar_len=0.75,\n",
    "                           flatshading=True,\n",
    "                           lighting=dict(ambient=0.5,\n",
    "                                         diffuse=1,\n",
    "                                         fresnel=4,        \n",
    "                                         specular=0.5,\n",
    "                                         roughness=0.05,\n",
    "                                         facenormalsepsilon=0,\n",
    "                                         vertexnormalsepsilon=0),\n",
    "                          lightposition=dict(x=100,\n",
    "                                             y=100,\n",
    "                                            z=1000)))\n",
    "fig1.update_layout(width=800, height=800)\n",
    "# fig1.show()"
   ]
  }
 ],
 "metadata": {
  "language_info": {
   "codemirror_mode": {
    "name": "ipython",
    "version": 3
   },
   "file_extension": ".py",
   "mimetype": "text/x-python",
   "name": "python",
   "nbconvert_exporter": "python",
   "pygments_lexer": "ipython3",
   "version": 3
  }
 },
 "nbformat": 4,
 "nbformat_minor": 2
}
