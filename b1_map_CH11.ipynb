{
 "cells": [
  {
   "cell_type": "code",
   "execution_count": null,
   "metadata": {},
   "outputs": [],
   "source": [
    "import glob\n",
    "import math\n",
    "import uproot\n",
    "import numpy as np\n",
    "import pandas as pd\n",
    "import pkgutil\n",
    "import uproot_methods\n",
    "\n",
    "import matplotlib as mpl\n",
    "import matplotlib.pyplot as plt\n",
    "from matplotlib.colors import LightSource\n",
    "%matplotlib inline\n",
    "\n",
    "import re\n",
    "\n",
    "import mplhep as hep\n",
    "from mpl_toolkits.mplot3d import Axes3D\n",
    "from mpl_toolkits.mplot3d.art3d import Poly3DCollection\n",
    "\n",
    "plt.style.use(hep.style.ROOT) # For now ROOT defaults to CMS\n",
    "\n",
    "#to see which classes have been defined so far\n",
    "[modname for importer, modname, ispkg in pkgutil.walk_packages(uproot_methods.classes.__path__)]\n",
    "\n",
    "loc = \"angular_distr_el/CH9/ID_ALL_mol_e0_valid/EN_gate/MFPADs_multinew_std\"\n",
    "\n",
    "fileRCR = uproot.open(r\"D:\\UniFRK\\SEXTANT_sept2018\\R-C3H3F3O_550eV_CR_9600-3700ns_newEfield_multiCH11_MFPAD_30_t0.root\")\n",
    "fileRCL = uproot.open(r\"D:\\UniFRK\\SEXTANT_sept2018\\R-C3H3F3O_550eV_CL_9600-3700ns_newEfield_multiCH11_MFPAD_30_t0.root\")\n",
    "k=fileRCR[loc].keys()\n",
    "d=dict(fileRCR[loc].classes()) # shows the type of each item\n",
    "dict(fileRCR[loc]) # keys : values\n",
    "check = fileRCR[loc+\"/MFPAD3D_engate_costheta_-1.00_phi_-180\"]\n",
    "type(check)\n",
    "check._members()"
   ]
  }
 ],
 "metadata": {
  "language_info": {
   "codemirror_mode": {
    "name": "ipython",
    "version": 3
   },
   "file_extension": ".py",
   "mimetype": "text/x-python",
   "name": "python",
   "nbconvert_exporter": "python",
   "pygments_lexer": "ipython3",
   "version": 3
  }
 },
 "nbformat": 4,
 "nbformat_minor": 2
}
