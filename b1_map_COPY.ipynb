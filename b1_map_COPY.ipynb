{
 "cells": [
  {
   "cell_type": "code",
   "execution_count": null,
   "metadata": {
    "tags": []
   },
   "outputs": [],
   "source": [
    "import glob\n",
    "import math\n",
    "import uproot\n",
    "import numpy as np\n",
    "import pandas as pd\n",
    "import pkgutil\n",
    "import uproot_methods\n",
    "\n",
    "from importlib import reload\n",
    "#syntax: fugi = reload(fugi)\n",
    "\n",
    "import functions_giammi as fugi\n",
    "\n",
    "import matplotlib as mpl\n",
    "import matplotlib.pyplot as plt\n",
    "from matplotlib.colors import LightSource\n",
    "%matplotlib inline\n",
    "\n",
    "import re\n",
    "\n",
    "import mplhep as hep\n",
    "from mpl_toolkits.mplot3d import Axes3D\n",
    "from mpl_toolkits.mplot3d.art3d import Poly3DCollection\n",
    "\n",
    "import plotly.graph_objects as go\n",
    "from plotly.subplots import make_subplots\n",
    "import itertools\n",
    "\n",
    "from __future__ import division\n",
    "\n",
    "plt.style.use(hep.style.ROOT) # For now ROOT defaults to CMS\n",
    "\n",
    "#loads the temperaure cmap like Philipp for both matpplotlib and plotly\n",
    "cmap_temp, cmap_temp_go, Magma_r, Seismic_r = fugi.customcmaps()\n",
    "\n",
    "#to see which classes have been defined so far\n",
    "[modname for importer, modname, ispkg in pkgutil.walk_packages(uproot_methods.classes.__path__)]\n",
    "\n",
    "# # 550eV - 11.5eV CH9\n",
    "# # update nov Kilian binning (36,18)\n",
    "# fileRCR = uproot.open(r\"../PYTHON_graphs/DATA/Experiments/R-C3H3F3O_CH9_550eV_CR_Knov.root\");en=\"550eV\";CH=\"CH9\";\n",
    "# fileRCL = uproot.open(r\"../PYTHON_graphs/DATA/Experiments/R-C3H3F3O_CH9_550eV_CL_Knov.root\")\n",
    "# fileSCR = uproot.open(r\"../PYTHON_graphs/DATA/Experiments/S-C3H3F3O_CH9_550eV_CR_Knov.root\")\n",
    "# fileSCL = uproot.open(r\"../PYTHON_graphs/DATA/Experiments/S-C3H3F3O_CH9_550eV_CL_Knov.root\")\n",
    "\n",
    "# # 546eV - 8.2eV CH9\n",
    "# fileRCR = uproot.open(r\"../PYTHON_graphs/DATA/Experiments/R-C3H3F3O_546eV_CR_9600-3700ns_multiCH9.root\");en=\"546eV\";CH=\"CH9\";\n",
    "# fileRCL = uproot.open(r\"../PYTHON_graphs/DATA/Experiments/R-C3H3F3O_546eV_CL_9600-3700ns_multiCH9.root\")\n",
    "\n",
    "# # 544eV - 6.1eV CH9\n",
    "# fileRCR = uproot.open(r\"../PYTHON_graphs/DATA/Experiments/R-C3H3F3O_544.5eV_CR_9600-3700ns_multiCH9.root\");en=\"544eV\";CH=\"CH9\";\n",
    "# fileRCL = uproot.open(r\"../PYTHON_graphs/DATA/Experiments/R-C3H3F3O_544.5eV_CL_9600-3700ns_multiCH9.root\")\n",
    "\n",
    "# 542eV - 4eV CH9\n",
    "fileRCR = uproot.open(r\"../PYTHON_graphs/DATA/Experiments/R-C3H3F3O_542.5eV_CR_9600-3700ns_COMBI_multiCH9.root\");en=\"542eV\";CH=\"CH9\";\n",
    "fileRCL = uproot.open(r\"../PYTHON_graphs/DATA/Experiments/R-C3H3F3O_542.5eV_CL_9600-3700ns_COMBI_multiCH9.root\")\n",
    "\n",
    "# #541eV 3eV CH9\n",
    "# fileRCR = uproot.open(r\"../PYTHON_graphs/DATA/Experiments/R-C3H3F3O_541.5eV_CR_9600-3700ns_multiCH9.root\");en=\"541eV\";CH=\"CH9\";\n",
    "# fileRCL = uproot.open(r\"../PYTHON_graphs/DATA/Experiments/R-C3H3F3O_541.5eV_CL_9600-3700ns_multiCH9.root\")\n",
    "\n",
    "#Select between CH9 and CH11\n",
    "path = \"angular_distr_el/\"+CH+\"/\"\n",
    "\n",
    "#move first the ID you need\n",
    "IDs = [\"ID_ALL_mol_e0_valid/EN_gate/\",\"ID1_mol_e0_valid/EN_gate/\",\"ID2_mol_e0_valid/EN_gate/\",\"ID3_mol_e0_valid/EN_gate/\"]\n",
    "dirs = [\"MFPADs_multinew/\",\"MFPADs_multinew_phi/\"]\n",
    "\n",
    "loc=path+IDs[0]+dirs[0]\n",
    "\n",
    "#to alow the helicity comparison without the S enantiomer\n",
    "if en != \"550eV\":\n",
    "    fileSCR = None\n",
    "    fileSCL = None\n",
    "\n",
    "#new uproot4\n",
    "# https://uproot.readthedocs.io/en/latest/basic.html\n",
    "d=dict(fileRCR[loc].classnames()) # shows the type of each item\n",
    "# k=fileRCR[loc].keys() #same as .classnames()\n",
    "check = fileRCR[loc+\"/MFPAD3D_engate_costheta_-1.00_phi_-180\"]\n",
    "d1=type(check)\n",
    "check.all_members; #all members of the single histogram"
   ]
  },
  {
   "cell_type": "markdown",
   "metadata": {},
   "source": [
    "# Structure of values inside TH2D. MFPAD_xxx is a list\n",
    "\n",
    "r_norm_nhistRCR = nhistRCR[0] / nhistRCR[0].sum(axis=1)[:,np.newaxis] # r values normalise to 1\n",
    "\n",
    "phi_nhistRCR = nhistRCR[1][0][0] # phi\n",
    "\n",
    "costheta_nhistRCR = nhistRCR[1][0][1] # cos(theta)"
   ]
  },
  {
   "cell_type": "code",
   "execution_count": null,
   "metadata": {
    "tags": []
   },
   "outputs": [],
   "source": [
    "#Loading of the MFPADS and cos len = 27\n",
    "MFPAD_RCR,ctheta_RCR,ctheta_RCR_err,cosphi_photon,MFPAD_axis,ctheta_axis,ctheta_axis_red=fugi.import_MFPAD(fileRCR, loc, full=True)\n",
    "MFPAD_RCL,ctheta_RCL,ctheta_RCL_err=fugi.import_MFPAD(fileRCL, loc)\n",
    "#projection of cos on x axis: len = 18\n",
    "cosx_RCR=fugi.projection(MFPAD_RCR,alongaxis=0)\n",
    "cosx_RCL=fugi.projection(MFPAD_RCL,alongaxis=0)\n",
    "\n",
    "if fileSCL and fileSCR is not None:    \n",
    "    MFPAD_SCR,ctheta_SCR,ctheta_SCR_err=fugi.import_MFPAD(fileSCR, loc)\n",
    "    MFPAD_SCL,ctheta_SCL,ctheta_SCL_err=fugi.import_MFPAD(fileSCL, loc)\n",
    "    #projection of cos on x axis\n",
    "    cosx_SCR=fugi.projection(MFPAD_SCR,alongaxis=0)\n",
    "    cosx_SCL=fugi.projection(MFPAD_SCL,alongaxis=0)"
   ]
  },
  {
   "cell_type": "code",
   "execution_count": null,
   "metadata": {},
   "outputs": [],
   "source": [
    "#COORDIANTES PHOTON ROTATION\n",
    "#adjusting cosphi with a shifting to have it equal to theory\n",
    "#before sorting it is natuarally cos sorted from experiment\n",
    "cosphi_adj=[]\n",
    "ctheta_axis_red=ctheta_axis_red[0];\n",
    "\n",
    "phiM=(MFPAD_axis[0][0][1:] + MFPAD_axis[0][0][:-1])/2\n",
    "cosM=(MFPAD_axis[0][1][1:] + MFPAD_axis[0][1][:-1])/2\n",
    "\n",
    "print(\"MFPAD_xy shape = \", MFPAD_axis[0][0].shape)\n",
    "print(\"phiM shape = \", phiM.shape)\n",
    "print(\"cosM shape = \", cosM.shape)\n",
    "\n",
    "print(\"cosphi diagnostic: type=\",type(cosphi_photon), \" shape= \", cosphi_photon.shape)\n",
    "\n",
    "cos_adj=fugi.shift_func(cosphi_photon[:,0]).tolist();\n",
    "phi_adj=fugi.shift_func(cosphi_photon[:,1]).tolist();\n",
    "\n",
    "for cos,phi in zip(cos_adj,phi_adj):\n",
    "    cosphi_adj.append((cos,phi))\n",
    "cosphi_adj=np.around(np.array(cosphi_adj),3)\n",
    "\n",
    "print(\"cosphi_adj: type=\",type(cosphi_adj), \" shape= \", cosphi_adj.shape)\n",
    "\n",
    "print(cosphi_adj[0][0])\n",
    "#look to the values in b1 map and found the MFPAD\n",
    "\n",
    "dfind=pd.DataFrame(cosphi_adj, columns=[\"ctheta\",\"phi\"])\n",
    "\n",
    "#rearranging the photon vector\n",
    "cosphi_adj_cos=(dfind.sort_values(by=[\"ctheta\", \"phi\"])).values\n",
    "cosphi_adj_phi=(dfind.sort_values(by=[\"phi\",\"ctheta\"])).values\n",
    "\n",
    "xgo_phi,ygo_phi = fugi.create_gocoords(a=0,reduced=True)\n",
    "xgo_cos,ygo_cos = fugi.create_gocoords(a=1,reduced=True)\n",
    "\n",
    "print(\"xgo_phi length = \", len(xgo_phi))\n",
    "print(\"xgo_cos length = \", len(xgo_cos))"
   ]
  },
  {
   "cell_type": "markdown",
   "metadata": {},
   "source": [
    "#some diagnostic of the angles considered\n",
    "#print(ctheta_xaxis_RCR, \"\\n\")\n",
    "#print(ctheta_cred, \"\\n\")\n",
    "print(phiM, \"\\n\")\n",
    "print(cosM, \"\\n\")\n",
    "print(cosphi_photon, \"\\n\")\n",
    "print(cosphi_adj)"
   ]
  },
  {
   "cell_type": "markdown",
   "metadata": {},
   "source": [
    "#some diagnostic of y axis imported\n",
    "print(np.array(ctheta_RCR).shape, \"\\n\" ,ctheta_RCR, \"\\n\")\n",
    "print(np.array(ctheta_RCL).shape, \"\\n\" ,ctheta_RCL, \"\\n\")\n",
    "print(ctheta_RCR[0].shape, \"\\n\" ,ctheta_RCR[0], \"\\n\")\n",
    "print(ctheta_RCL[0].shape, \"\\n\" ,ctheta_RCL[0])"
   ]
  },
  {
   "cell_type": "code",
   "execution_count": null,
   "metadata": {},
   "outputs": [],
   "source": [
    "# 1=phi is the standard sorting of the theoretical data\n",
    "ctheta_RCR_cos=fugi.sorting_array(ctheta_RCR,theory=False,a=1)\n",
    "ctheta_RCL_cos=fugi.sorting_array(ctheta_RCL,theory=False,a=1)\n",
    "# 2=cos(theta) it is the stardard sorting of the theoryal data (they come sorted like this)\n",
    "ctheta_RCR_phi=fugi.sorting_array(ctheta_RCR,theory=False,a=2)\n",
    "ctheta_RCL_phi=fugi.sorting_array(ctheta_RCL,theory=False,a=2)\n",
    "\n",
    "#sorting respective errors\n",
    "ctheta_RCR_cos_err=fugi.sorting_array(ctheta_RCR_err,theory=False,a=1)\n",
    "ctheta_RCL_cos_err=fugi.sorting_array(ctheta_RCL_err,theory=False,a=1)\n",
    "ctheta_RCR_phi_err=fugi.sorting_array(ctheta_RCR_err,theory=False,a=2)\n",
    "ctheta_RCL_phi_err=fugi.sorting_array(ctheta_RCL_err,theory=False,a=2)\n",
    "\n",
    "if fileSCL and fileSCR is not None:\n",
    "    ctheta_SCR_cos=fugi.sorting_array(ctheta_SCR,theory=False,a=1)\n",
    "    ctheta_SCL_cos=fugi.sorting_array(ctheta_SCL,theory=False,a=1)\n",
    "    ctheta_SCR_phi=fugi.sorting_array(ctheta_SCR,theory=False,a=2)\n",
    "    ctheta_SCL_phi=fugi.sorting_array(ctheta_SCL,theory=False,a=2)\n",
    "\n",
    "    ctheta_SCR_cos_err=fugi.sorting_array(ctheta_SCR_err,theory=False,a=1)\n",
    "    ctheta_SCL_cos_err=fugi.sorting_array(ctheta_SCL_err,theory=False,a=1)\n",
    "    ctheta_SCR_phi_err=fugi.sorting_array(ctheta_SCR_err,theory=False,a=2)\n",
    "    ctheta_SCL_phi_err=fugi.sorting_array(ctheta_SCL_err,theory=False,a=2)"
   ]
  },
  {
   "cell_type": "markdown",
   "metadata": {},
   "source": [
    "ctheta_RCR_phi == ctheta_RCR_cos"
   ]
  },
  {
   "cell_type": "markdown",
   "metadata": {},
   "source": [
    "#test of similarity without sorting\n",
    "cPECD_norm = np.divide(np.subtract(fugi.normalise_matrix(ctheta_RCR,normtype=1), fugi.normalise_matrix(ctheta_RCL,normtype=1)),np.add(fugi.normalise_matrix(ctheta_RCR,normtype=1),fugi.normalise_matrix(ctheta_RCL,normtype=1)))\n",
    "cPECD_std =  np.divide(np.subtract(ctheta_RCR,ctheta_RCL),np.add(ctheta_RCR,ctheta_RCL))\n",
    "errPECD_std = np.sqrt(1/(ctheta_RCR+ctheta_RCL))"
   ]
  },
  {
   "cell_type": "code",
   "execution_count": null,
   "metadata": {},
   "outputs": [],
   "source": [
    "#normalise all quantities which goes into PECD\n",
    "ctheta_RCR_cos_norm, ctheta_RCR_cos_err_norm=fugi.normalise_with_err(ctheta_RCR_cos,ctheta_RCR_cos_err)\n",
    "ctheta_RCL_cos_norm, ctheta_RCL_cos_err_norm=fugi.normalise_with_err(ctheta_RCL_cos,ctheta_RCL_cos_err)\n",
    "ctheta_RCR_phi_norm, ctheta_RCR_phi_err_norm=fugi.normalise_with_err(ctheta_RCR_phi,ctheta_RCR_phi_err)\n",
    "ctheta_RCL_phi_norm, ctheta_RCL_phi_err_norm=fugi.normalise_with_err(ctheta_RCL_phi,ctheta_RCL_phi_err)\n",
    "\n",
    "if fileSCL and fileSCR is not None:\n",
    "    ctheta_SCR_cos_norm, ctheta_SCR_cos_err_norm=fugi.normalise_with_err(ctheta_SCR_cos,ctheta_SCR_cos_err)\n",
    "    ctheta_SCL_cos_norm, ctheta_SCL_cos_err_norm=fugi.normalise_with_err(ctheta_SCL_cos,ctheta_SCL_cos_err)\n",
    "    ctheta_SCR_phi_norm, ctheta_SCR_phi_err_norm=fugi.normalise_with_err(ctheta_SCR_phi,ctheta_SCR_phi_err)\n",
    "    ctheta_SCL_phi_norm, ctheta_SCL_phi_err_norm=fugi.normalise_with_err(ctheta_SCL_phi,ctheta_SCL_phi_err)\n"
   ]
  },
  {
   "cell_type": "code",
   "execution_count": null,
   "metadata": {},
   "outputs": [],
   "source": [
    "if fileSCL and fileSCR is not None:\n",
    "    #S enantiomer\n",
    "    #////////////////////// cos /////////////////////////\n",
    "    cPECD_norm_cos =  np.divide(np.subtract(ctheta_SCR_cos_norm,ctheta_SCL_cos_norm),np.add(ctheta_SCR_cos_norm,ctheta_SCL_cos_norm))\n",
    "    cPECD_cos =  np.divide(np.subtract(ctheta_SCR_cos,ctheta_SCL_cos),np.add(ctheta_SCR_cos,ctheta_SCL_cos))\n",
    "\n",
    "    errPECD_cos = fugi.error_calc(ctheta_SCR_cos_norm,ctheta_SCL_cos_norm,ctheta_SCR_cos_err_norm,ctheta_SCL_cos_err_norm) #normed error!\n",
    "\n",
    "    # errPECD_cos = np.sqrt(1/(ctheta_SCR_cos+ctheta_SCL_cos))\n",
    "\n",
    "    #////////////////////// phi /////////////////////////\n",
    "    cPECD_norm_phi =  np.divide(np.subtract(ctheta_SCR_phi_norm,ctheta_SCL_phi_norm),np.add(ctheta_SCR_phi_norm,ctheta_SCL_phi_norm))\n",
    "    cPECD_phi =  np.divide(np.subtract(ctheta_SCR_phi,ctheta_SCL_phi),np.add(ctheta_SCR_phi,ctheta_SCL_phi))\n",
    "\n",
    "    errPECD_phi = fugi.error_calc(ctheta_SCR_phi_norm,ctheta_SCL_phi_norm,ctheta_SCR_phi_err_norm,ctheta_SCL_phi_err_norm) #normed error!\n",
    "\n",
    "    # errPECD_phi = np.sqrt(1/(ctheta_SCR_phi+ctheta_SCL_phi))"
   ]
  },
  {
   "cell_type": "code",
   "execution_count": null,
   "metadata": {},
   "outputs": [],
   "source": [
    "import functions_minuit as fumi\n",
    "if fileSCL and fileSCR is not None:\n",
    "    #iminuit withOUT error\n",
    "    #NORMALIZED DATA\n",
    "    \n",
    "    # limits=[(-1, 1), (-1, 1), (-1, 1), (-1, 1), (-1, 1), (-1, 1)]\n",
    "    limits=[(-1, 1), (-1, 2), (None, None), (None, None), (None, None), (None, None)]\n",
    "    \n",
    "    fumi.iminuit_noerr(ctheta_axis_red,cPECD_norm_cos[0],limits)\n"
   ]
  },
  {
   "cell_type": "code",
   "execution_count": null,
   "metadata": {},
   "outputs": [],
   "source": [
    "#iminuit with error\n",
    "#NORMALIZED DATA\n",
    "if fileSCL and fileSCR is not None:\n",
    "    # limits=[(-1, 1), (-1, 1), (-1, 1), (-1, 1), (-1, 1), (-1, 1)]\n",
    "    limits=[(-1, 1), (-1, 2), (None, None), (None, None), (None, None), (None, None)]\n",
    "\n",
    "    m=fumi.iminuit_err(ctheta_axis_red,cPECD_norm_cos[0],errPECD_cos[0],limits)\n",
    "    m"
   ]
  },
  {
   "cell_type": "code",
   "execution_count": null,
   "metadata": {
    "tags": []
   },
   "outputs": [],
   "source": [
    "if fileSCL and fileSCR is not None:\n",
    "    #integrated in the function fumi.plotminuit\n",
    "    from scipy.interpolate import make_interp_spline, BSpline\n",
    "    \n",
    "    def PECD6(x, b1, b2, b3, b4, b5, b6):\n",
    "        return ((b1*x + 0.5*b3*(5*x**3-3*x) +0.125*b5*(63*x**5-70*x**3+15*x)) / (1 - 0.5*b2*(3*x**2-1) - 0.125*b4*(35*x**4-30*x**2+3) - 0.0625*b6*(231*x**6-315*x**4+105*x**2-5)))\n",
    "    \n",
    "    x_data=ctheta_axis_red;y_data=cPECD_norm_cos[0]\n",
    "    \n",
    "    x_data_new = np.linspace(x_data.min(), x_data.max(), 300)\n",
    "    bspl = make_interp_spline(x_data, PECD6(x_data, *m.values), k=5)\n",
    "    \n",
    "    plt.plot(x_data_new, bspl(x_data_new))\n",
    "    plt.scatter(ctheta_axis_red,cPECD_norm_cos[0],color='r')\n",
    "    plt.errorbar(ctheta_axis_red,cPECD_norm_cos[0], yerr=errPECD_cos[0], fmt=\"o\")\n",
    "    \n",
    "    plt.show()\n",
    "    for p in m.parameters:\n",
    "        print(\"{} = {:2.3e} +/- {:2.3e}\".format(p, m.values[p], m.errors[p]))"
   ]
  },
  {
   "cell_type": "code",
   "execution_count": null,
   "metadata": {
    "tags": []
   },
   "outputs": [],
   "source": [
    "#S cos ordered modified with error\n",
    "if fileSCL and fileSCR is not None:\n",
    "    \n",
    "    # param_matrix=np.zeros((6,72)) # alternative nparray initialization\n",
    "    param_matrix_cos = [[0 for i in range(6)] for j in range(72)] #i col, j row\n",
    "    \n",
    "    # fig, axes = plt.subplots(6,12, figsize=(50, 24), constrained_layout=True, sharex=True , sharey=True)\n",
    "    fig, axes = plt.subplots(6,12, figsize=(25, 12), constrained_layout=True, sharex=True , sharey=True)\n",
    "    custom_xlim = (-1, 1)\n",
    "    custom_ylim = (-0.2,0.2) #custom_ylim = (-1,1)\n",
    "    \n",
    "    # limits=[(-1, 1), (-1, 1), (-1, 1), (-1, 1), (-1, 1), (-1, 1)]\n",
    "    limits=[(-1, 1), (-1, 2), (None, None), (None, None), (None, None), (None, None)]\n",
    "    \n",
    "    for i,ax in zip(range(72),axes.flatten()): #fixe because of the photon directions, equal to range(len(cosphi))\n",
    "        \n",
    "        x_data = ctheta_axis_red;y_data = cPECD_cos[i];y_err = errPECD_cos[i]\n",
    "        #non sorted as test\n",
    "        # x_data = ctheta_axis_red;y_data = cPECD_std[i];y_err = errPECD_std[i]\n",
    "        \n",
    "        m=fumi.iminuit_err(x_data,y_data,y_err,limits)\n",
    "        fumi.plotminuit(x_data,y_data,y_err,m,ax,custom_xlim,custom_ylim)\n",
    "    \n",
    "        for counter,el in enumerate(m.parameters): # len = 6\n",
    "            param_matrix_cos[i][counter]=((m.values[el], m.errors[el]))\n",
    "    \n",
    "    param_matrix_cos=np.array(param_matrix_cos) #numpy tranformation!!!\n",
    "    \n",
    "    fugi.overlaygraph(fig,wspace=0.08, hspace=0.08)\n",
    "    fig.savefig(\"../PYTHON_graphs/OUTPUTS/b1matrix_S_CR-CL_cos_\"+CH+\"_\"+en+\"_exp.png\", figsize=(50, 24), dpi=144, transparent=False)\n",
    "    plt.show() \n",
    "        # for p in m.parameters:\n",
    "        #     print(\"{} = {:2.3e} +/- {:2.3e}\".format(p, m.values[p], m.errors[p]))"
   ]
  },
  {
   "cell_type": "markdown",
   "metadata": {
    "tags": []
   },
   "source": [
    "#diagnostic parameter matrix\n",
    "import pprint\n",
    "pprint.pprint(param_matrix_phi)\n",
    "print(len(m.parameters))\n",
    "b1 = param_matrix_phi[:,0,0]\n",
    "b2 = param_matrix_phi[:,1,0]\n",
    "print(b1[0],b1.shape, b2[0], b2.shape)\n",
    "plt.plot(param_matrix_phi[:,0,0])"
   ]
  },
  {
   "cell_type": "markdown",
   "metadata": {
    "tags": []
   },
   "source": [
    "#early test for the paramenters. Difference with the following graphs is the true scale\n",
    "fig,axes = plt.subplots(1,6, figsize=(50, 7.5))\n",
    "for i in range(6):\n",
    "    # ax[0,1] = fig.add_subplot(1, 2, 1)\n",
    "    axes[i].contourf(fugi.shift_func(cosphi_adj[:,1].reshape(12,6)) , fugi.shift_func(cosphi_adj[:,0].reshape(12,6)) , param_matrix_phi[:,i,0].reshape(12,6) , np.arange(-1., 1., .005) , extend='both', cmap=cmap_temp)\n",
    "    # axes[i].contourf(shift_func(cosphi_adj[:,0].reshape(12,6)),shift_func(cosphi_adj[:,1].reshape(12,6)),param_matrix_phi[i,:,0].reshape(6,12).T)\n",
    "plt.show()"
   ]
  },
  {
   "cell_type": "code",
   "execution_count": null,
   "metadata": {},
   "outputs": [],
   "source": [
    "if fileSCL and fileSCR is not None:\n",
    "    # fugi = reload(fugi)\n",
    "    limits=[-0.18,0.18,0.025]\n",
    "    fig=fugi.plotgo_single(param_matrix_cos,xgo_cos,ygo_cos,name=\"b1map_S_CR-CL_cos_\"+CH+\"_\"+en+\"_exp\",limits=limits)\n",
    "    fig.show()"
   ]
  },
  {
   "cell_type": "code",
   "execution_count": null,
   "metadata": {},
   "outputs": [],
   "source": [
    "if fileSCL and fileSCR is not None:\n",
    "    print(\"b1 max = \", np.max(param_matrix_cos[:,0,0]),\"min = \", np.min(param_matrix_cos[:,0,0]))\n",
    "    print(\"b2 max = \", np.max(param_matrix_cos[:,1,0]),\"min = \",np.min(param_matrix_cos[:,1,0]))"
   ]
  },
  {
   "cell_type": "code",
   "execution_count": null,
   "metadata": {},
   "outputs": [],
   "source": []
  },
  {
   "cell_type": "code",
   "execution_count": null,
   "metadata": {},
   "outputs": [],
   "source": [
    "if fileSCL and fileSCR is not None:\n",
    "    fugi = reload(fugi)\n",
    "    limits=[[-1,2,0.25],[-0.18,0.18,0.025]]\n",
    "    fig=fugi.plotgo_multiple(param_matrix_cos,xgo_cos,ygo_cos,name=\"b1-6map_S_CR-CL_cos_\"+CH+\"_\"+en+\"_exp\",limits=limits)\n",
    "    fig.show()"
   ]
  },
  {
   "cell_type": "code",
   "execution_count": null,
   "metadata": {},
   "outputs": [],
   "source": [
    "#R enantiomer\n",
    "#////////////////////// cos /////////////////////////\n",
    "cPECD_norm_cos =  np.divide(np.subtract(ctheta_RCR_cos_norm,ctheta_RCL_cos_norm),np.add(ctheta_RCR_cos_norm,ctheta_RCL_cos_norm))\n",
    "cPECD_cos =  np.divide(np.subtract(ctheta_RCR_cos,ctheta_RCL_cos),np.add(ctheta_RCR_cos,ctheta_RCL_cos))\n",
    "errPECD_cos = fugi.error_calc(ctheta_RCR_cos_norm,ctheta_RCL_cos_norm,ctheta_RCR_cos_err_norm,ctheta_RCL_cos_err_norm) #normed error!\n",
    "# errPECD_cos = np.sqrt(1/(ctheta_RCR_cos+ctheta_RCL_cos))\n",
    "\n",
    "#////////////////////// phi /////////////////////////\n",
    "cPECD_norm_phi =  np.divide(np.subtract(ctheta_RCR_phi_norm,ctheta_RCL_phi_norm),np.add(ctheta_RCR_phi_norm,ctheta_RCL_phi_norm))\n",
    "cPECD_phi =  np.divide(np.subtract(ctheta_RCR_phi,ctheta_RCL_phi),np.add(ctheta_RCR_phi,ctheta_RCL_phi))\n",
    "errPECD_phi = fugi.error_calc(ctheta_RCR_phi_norm,ctheta_RCL_phi_norm,ctheta_RCR_phi_err_norm,ctheta_RCL_phi_err_norm) #normed error!\n",
    "# errPECD_phi = np.sqrt(1/(ctheta_SCR_phi+ctheta_SCL_phi))"
   ]
  },
  {
   "cell_type": "code",
   "execution_count": null,
   "metadata": {},
   "outputs": [],
   "source": [
    "import functions_minuit as fumi\n",
    "#iminuit with error\n",
    "#NORMALIZED DATA\n",
    "\n",
    "# limits=[(-1, 1), (-1, 1), (-1, 1), (-1, 1), (-1, 1), (-1, 1)]\n",
    "limits=[(-1, 1), (-1, 2), (None, None), (None, None), (None, None), (None, None)]\n",
    "\n",
    "m=fumi.iminuit_err(ctheta_axis_red,cPECD_norm_cos[0],errPECD_cos[0],limits)\n",
    "m"
   ]
  },
  {
   "cell_type": "code",
   "execution_count": null,
   "metadata": {},
   "outputs": [],
   "source": [
    "#R cos ordered modified with error\n",
    "\n",
    "# param_matrix=np.zeros((6,72)) # alternative nparray initialization\n",
    "param_matrix_cos = [[0 for i in range(6)] for j in range(72)] #i col, j row\n",
    "\n",
    "# fig, axes = plt.subplots(6,12, figsize=(50, 24), constrained_layout=True, sharex=True , sharey=True)\n",
    "fig, axes = plt.subplots(6,12, figsize=(25, 12), constrained_layout=True, sharex=True , sharey=True)\n",
    "custom_xlim = (-1, 1)\n",
    "custom_ylim = (-0.2,0.2) #custom_ylim = (-1,1)\n",
    "\n",
    "# limits=[(-1, 1), (-1, 1), (-1, 1), (-1, 1), (-1, 1), (-1, 1)]\n",
    "limits=[(-1, 1), (-1, 2), (None, None), (None, None), (None, None), (None, None)]\n",
    "\n",
    "for i,ax in zip(range(72),axes.flatten()): #fixe because of the photon directions, equal to range(len(cosphi))\n",
    "    \n",
    "    x_data = ctheta_axis_red; y_data = cPECD_norm_cos[i];y_err = errPECD_cos[i]\n",
    "    \n",
    "    m=fumi.iminuit_err(x_data,y_data,y_err,limits)\n",
    "    fumi.plotminuit(x_data,y_data,y_err,m,ax,custom_xlim,custom_ylim)\n",
    "\n",
    "    for counter,el in enumerate(m.parameters): # len = 6\n",
    "        param_matrix_cos[i][counter]=((m.values[el], m.errors[el]))\n",
    "\n",
    "param_matrix_cos=np.array(param_matrix_cos) #numpy tranformation!!!\n",
    "\n",
    "fugi.overlaygraph(fig,wspace=0.08, hspace=0.08)\n",
    "fig.savefig(\"../PYTHON_graphs/OUTPUTS/b1matrix_R_CR-CL_cos_\"+CH+\"_\"+en+\"_exp.png\", figsize=(50, 24), dpi=144, transparent=False)\n",
    "plt.show() \n",
    "    # for p in m.parameters:\n",
    "    #     print(\"{} = {:2.3e} +/- {:2.3e}\".format(p, m.values[p], m.errors[p]))"
   ]
  },
  {
   "cell_type": "code",
   "execution_count": null,
   "metadata": {},
   "outputs": [],
   "source": [
    "# fugi = reload(fugi)\n",
    "limits=[-0.18,0.18,0.025]\n",
    "fig=fugi.plotgo_single(param_matrix_cos,xgo_cos,ygo_cos,name=\"b1map_R_CR-CL_cos_\"+CH+\"_\"+en+\"_exp\",limits=limits)\n",
    "fig.show()"
   ]
  },
  {
   "cell_type": "code",
   "execution_count": null,
   "metadata": {},
   "outputs": [],
   "source": [
    "print(\"b1 max = \", np.max(param_matrix_cos[:,0,0]),\"min = \", np.min(param_matrix_cos[:,0,0]))\n",
    "print(\"b2 max = \", np.max(param_matrix_cos[:,1,0]),\"min = \",np.min(param_matrix_cos[:,1,0]))"
   ]
  },
  {
   "cell_type": "code",
   "execution_count": null,
   "metadata": {},
   "outputs": [],
   "source": [
    "fugi = reload(fugi)\n",
    "limits=[[-1,1,0.25],[-0.18,0.18,0.025]]\n",
    "fig=fugi.plotgo_multiple(param_matrix_cos,xgo_cos,ygo_cos,name=\"b1-6map_R_CR-CL_cos_\"+CH+\"_\"+en+\"_exp\",limits=limits)\n",
    "fig.show()"
   ]
  },
  {
   "cell_type": "code",
   "execution_count": null,
   "metadata": {},
   "outputs": [],
   "source": [
    "if fileSCL and fileSCR is not None:\n",
    "    #R and S enantiomer summed and flipped: mark down to select single enantiomers\n",
    "    #Flipping S\n",
    "    ctheta_SCR_flip=[];ctheta_SCR_err_flip=[]\n",
    "    ctheta_SCL_flip=[];ctheta_SCL_err_flip=[]\n",
    "    ctheta_RCR_flip=[];ctheta_RCR_err_flip=[]\n",
    "    ctheta_RCL_flip=[];ctheta_RCL_err_flip=[]\n",
    "    \n",
    "    for i in range(72):\n",
    "        ctheta_SCR_flip.append(np.flip(ctheta_SCR[i], axis=0))\n",
    "        ctheta_SCR_err_flip.append(np.flip(ctheta_SCR_err[i], axis=0))\n",
    "        ctheta_SCL_flip.append(np.flip(ctheta_SCL[i], axis=0))\n",
    "        ctheta_SCL_err_flip.append(np.flip(ctheta_SCL_err[i], axis=0))\n",
    "        ctheta_RCR_flip.append(np.flip(ctheta_RCR[i], axis=0))\n",
    "        ctheta_RCR_err_flip.append(np.flip(ctheta_RCR_err[i], axis=0))\n",
    "        ctheta_RCL_flip.append(np.flip(ctheta_RCL[i], axis=0))\n",
    "        ctheta_RCL_err_flip.append(np.flip(ctheta_RCL_err[i], axis=0))\n",
    "    \n",
    "    #explicitly put the parameter a=1 or 2!\n",
    "    ctheta_SCR_flip_cos=fugi.sorting_array(np.array(ctheta_SCR_flip),theory=False,a=1)\n",
    "    ctheta_SCL_flip_cos=fugi.sorting_array(np.array(ctheta_SCL_flip),theory=False,a=1)\n",
    "    ctheta_SCR_flip_phi=fugi.sorting_array(np.array(ctheta_SCR_flip),theory=False,a=2)\n",
    "    ctheta_SCL_flip_phi=fugi.sorting_array(np.array(ctheta_SCL_flip),theory=False,a=2)\n",
    "    \n",
    "    ctheta_SCR_err_flip_cos=fugi.sorting_array(np.array(ctheta_SCR_err_flip),theory=False,a=1)\n",
    "    ctheta_SCL_err_flip_cos=fugi.sorting_array(np.array(ctheta_SCL_err_flip),theory=False,a=1)\n",
    "    ctheta_SCR_err_flip_phi=fugi.sorting_array(np.array(ctheta_SCR_err_flip),theory=False,a=2)\n",
    "    ctheta_SCL_err_flip_phi=fugi.sorting_array(np.array(ctheta_SCL_err_flip),theory=False,a=2)\n",
    "    \n",
    "    ctheta_RCR_flip_cos=fugi.sorting_array(np.array(ctheta_RCR_flip),theory=False,a=1)\n",
    "    ctheta_RCL_flip_cos=fugi.sorting_array(np.array(ctheta_RCL_flip),theory=False,a=1)\n",
    "    ctheta_RCR_flip_phi=fugi.sorting_array(np.array(ctheta_RCR_flip),theory=False,a=2)\n",
    "    ctheta_RCL_flip_phi=fugi.sorting_array(np.array(ctheta_RCL_flip),theory=False,a=2)\n",
    "\n",
    "    ctheta_RCR_err_flip_cos=fugi.sorting_array(np.array(ctheta_RCR_err_flip),theory=False,a=1)\n",
    "    ctheta_RCL_err_flip_cos=fugi.sorting_array(np.array(ctheta_RCL_err_flip),theory=False,a=1)\n",
    "    ctheta_RCR_err_flip_phi=fugi.sorting_array(np.array(ctheta_RCR_err_flip),theory=False,a=2)\n",
    "    ctheta_RCL_err_flip_phi=fugi.sorting_array(np.array(ctheta_RCL_err_flip),theory=False,a=2)\n",
    "    \n",
    "    #normalise all quantities which goes into PECD\n",
    "    ctheta_SCR_cos_norm_flip, ctheta_SCR_err_flip_cos_norm=fugi.normalise_with_err(ctheta_SCR_flip_cos,ctheta_SCR_err_flip_cos)\n",
    "    ctheta_SCL_cos_norm_flip, ctheta_SCL_err_flip_cos_norm=fugi.normalise_with_err(ctheta_SCL_flip_cos,ctheta_SCL_err_flip_cos)\n",
    "    ctheta_SCR_phi_norm_flip, ctheta_SCR_err_flip_phi_norm=fugi.normalise_with_err(ctheta_SCR_flip_phi,ctheta_SCR_err_flip_phi)\n",
    "    ctheta_SCL_phi_norm_flip, ctheta_SCL_err_flip_phi_norm=fugi.normalise_with_err(ctheta_SCL_flip_phi,ctheta_SCL_err_flip_phi)\n",
    "\n",
    "    ctheta_RCR_cos_norm_flip, ctheta_RCR_err_flip_cos_norm=fugi.normalise_with_err(ctheta_RCR_flip_cos,ctheta_RCR_err_flip_cos)\n",
    "    ctheta_RCL_cos_norm_flip, ctheta_RCL_err_flip_cos_norm=fugi.normalise_with_err(ctheta_RCL_flip_cos,ctheta_RCL_err_flip_cos)\n",
    "    ctheta_RCR_phi_norm_flip, ctheta_RCR_err_flip_phi_norm=fugi.normalise_with_err(ctheta_RCR_flip_phi,ctheta_RCR_err_flip_phi)\n",
    "    ctheta_RCL_phi_norm_flip, ctheta_RCL_err_flip_phi_norm=fugi.normalise_with_err(ctheta_RCL_flip_phi,ctheta_RCL_err_flip_phi)\n",
    "\n",
    "    #combination: I sum up helicities across enantiomers\n",
    "    ctheta_Rplus_cos=np.add(ctheta_RCR_cos_norm,ctheta_RCL_cos_norm_flip)\n",
    "    ctheta_Rplus_cos_err=np.sqrt(ctheta_RCR_cos_err_norm**2+ctheta_RCL_err_flip_cos_norm**2) #sum\n",
    "    ctheta_Splus_cos=np.add(ctheta_SCR_cos_norm,ctheta_SCL_cos_norm_flip)\n",
    "    ctheta_Splus_cos_err=np.sqrt(ctheta_SCR_cos_err_norm**2+ctheta_SCL_err_flip_cos_norm**2) #sum\n",
    "    \n",
    "    #////////////////////// cos /////////////////////////\n",
    "\n",
    "    cPECD_norm_cos =  np.divide(np.subtract(ctheta_Rplus_cos,ctheta_Splus_cos),np.add(ctheta_Rplus_cos,ctheta_Splus_cos))    \n",
    "    errPECD_cos = fugi.error_calc(ctheta_Rplus_cos,ctheta_Splus_cos,ctheta_Rplus_cos_err,ctheta_Splus_cos_err) #normed error!\n",
    "\n",
    "    # errPECD_cos = np.sqrt(1/(ctheta_Rplus_cos+ctheta_Splus_cos))"
   ]
  },
  {
   "cell_type": "code",
   "execution_count": null,
   "metadata": {},
   "outputs": [],
   "source": [
    "if fileSCL and fileSCR is not None:\n",
    "    \n",
    "    #R S combined cos ordered modified with error\n",
    "    \n",
    "    # param_matrix=np.zeros((6,72)) # alternative nparray initialization\n",
    "    param_matrix_cos = [[0 for i in range(6)] for j in range(72)] #i col, j row\n",
    "    \n",
    "    # fig, axes = plt.subplots(6,12, figsize=(50, 24), constrained_layout=True, sharex=True , sharey=True)\n",
    "    fig, axes = plt.subplots(6,12, figsize=(25, 12), constrained_layout=True, sharex=True , sharey=True)\n",
    "    custom_xlim = (-1, 1)\n",
    "    custom_ylim = (-0.2,0.2) #custom_ylim = (-1,1)\n",
    "    \n",
    "    # limits=[(-1, 1), (-1, 1), (-1, 1), (-1, 1), (-1, 1), (-1, 1)]\n",
    "    limits=[(-1, 1), (-1, 2), (None, None), (None, None), (None, None), (None, None)]\n",
    "\n",
    "    for i,ax in zip(range(72),axes.flatten()): #fixe because of the photon directions, equal to range(len(cosphi))\n",
    "        \n",
    "        x_data = ctheta_axis_red; y_data = cPECD_norm_cos[i];y_err = errPECD_cos[i]\n",
    "        \n",
    "        m=fumi.iminuit_err(x_data,y_data,y_err,limits)\n",
    "        fumi.plotminuit(x_data,y_data,y_err,m,ax,custom_xlim,custom_ylim)\n",
    "    \n",
    "        for counter,el in enumerate(m.parameters): # len = 6\n",
    "            param_matrix_cos[i][counter]=((m.values[el], m.errors[el]))\n",
    "    \n",
    "    param_matrix_cos=np.array(param_matrix_cos) #numpy tranformation!!!\n",
    "    \n",
    "    fugi.overlaygraph(fig,wspace=0.08, hspace=0.08)\n",
    "    fig.savefig(\"../PYTHON_graphs/OUTPUTS/b1matrix_R-S_cos_\"+CH+\"_\"+en+\"_exp.png\", figsize=(50, 24), dpi=144, transparent=False)\n",
    "    plt.show() \n",
    "        # for p in m.parameters:\n",
    "        #     print(\"{} = {:2.3e} +/- {:2.3e}\".format(p, m.values[p], m.errors[p]))"
   ]
  },
  {
   "cell_type": "code",
   "execution_count": null,
   "metadata": {},
   "outputs": [],
   "source": [
    "if fileSCL and fileSCR is not None:\n",
    "    # fugi = reload(fugi)\n",
    "    limits=[-0.18,0.18,0.025]\n",
    "    fig=fugi.plotgo_single(param_matrix_cos,xgo_cos,ygo_cos,name=\"b1map_R-S_cos_\"+CH+\"_\"+en+\"_exp\",limits=limits)\n",
    "    fig.show()"
   ]
  },
  {
   "cell_type": "code",
   "execution_count": null,
   "metadata": {},
   "outputs": [],
   "source": [
    "if fileSCL and fileSCR is not None:\n",
    "    print(\"b1 max = \", np.max(param_matrix_cos[:,0,0]),\"min = \", np.min(param_matrix_cos[:,0,0]))\n",
    "    print(\"b2 max = \", np.max(param_matrix_cos[:,1,0]),\"min = \",np.min(param_matrix_cos[:,1,0]))"
   ]
  },
  {
   "cell_type": "code",
   "execution_count": null,
   "metadata": {},
   "outputs": [],
   "source": [
    "if fileSCL and fileSCR is not None:\n",
    "    # fugi = reload(fugi)\n",
    "    limits=[[-1,2,0.25],[-0.18,0.18,0.025]]\n",
    "    fig=fugi.plotgo_multiple(param_matrix_cos,xgo_cos,ygo_cos,name=\"b1-6map_R-S_cos_\"+CH+\"_\"+en+\"_exp\",limits=limits)\n",
    "    fig.show()"
   ]
  }
 ],
 "metadata": {
  "kernelspec": {
   "display_name": "Python 3",
   "language": "python",
   "name": "python3"
  },
  "language_info": {
   "codemirror_mode": {
    "name": "ipython",
    "version": 3
   },
   "file_extension": ".py",
   "mimetype": "text/x-python",
   "name": "python",
   "nbconvert_exporter": "python",
   "pygments_lexer": "ipython3",
   "version": "3.8.5-final"
  }
 },
 "nbformat": 4,
 "nbformat_minor": 2
}
