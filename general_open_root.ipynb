{
 "cells": [
  {
   "cell_type": "code",
   "execution_count": null,
   "metadata": {
    "tags": []
   },
   "outputs": [],
   "source": [
    "import uproot\n",
    "import numpy as np\n",
    "import pandas as pd\n",
    "import pkgutil\n",
    "import uproot_methods\n",
    "import matplotlib as mpl\n",
    "import matplotlib.pyplot as plt\n",
    "import max_functions as mf\n",
    "%matplotlib inline\n",
    "import mplhep as hep\n",
    "plt.style.use(hep.style.ROOT) # For now ROOT defaults to CMS\n",
    "import seaborn as sns\n",
    "\n",
    "#to see which classes have been defined so far\n",
    "[modname for importer, modname, ispkg in pkgutil.walk_packages(uproot_methods.classes.__path__)]\n",
    "\n",
    "file = uproot.open(r\"D:\\UniFRK\\SEXTANT_sept2018\\R-C3H3F3O_550eV_CL_11800-1400ns_user_LUT.root\")\n",
    "file[\"angular_distr_el/ID3_mol_e0_valid/EN_gate\"].keys()\n",
    "dict(file[\"angular_distr_el/ID3_mol_e0_valid/EN_gate\"].classes())\n",
    "# processid = file[\"angular_distr_el/ID3_mol_e0_valid/EN_gate/PIPICO\"] \n",
    "# processid = file[\"angular_distr_el/ID3_mol_e0_valid/EN_gate/check_cthetaEE_x\"]\n",
    "processid = file[\"FMOx_m43-69/electrons/hit_0/momenta/p_y vs p_z\"]  # test fot the TH2D graphs\n",
    "processid._members() # alternativ to dir(obj) or obj.__dict__\n",
    "type(processid) # to check the type of object"
   ]
  },
  {
   "cell_type": "code",
   "execution_count": null,
   "metadata": {
    "tags": []
   },
   "outputs": [],
   "source": [
    "processid.edges;\n",
    "from pprint import pprint\n",
    "l = dir(processid)\n",
    "l1 = dir(processid._fXaxis)\n",
    "d = processid.__dict__\n",
    "d1 = processid._fXaxis.__dict__\n",
    "# pprint(l)\n",
    "# pprint(d, indent=2)\n",
    "# pprint(l1)\n",
    "# pprint(d1, indent=2)\n",
    "processid._fXaxis._fTitle # from __dict__ one can find\n",
    "# type(processid._fXaxis._fTitle) # from __dict__ one can find"
   ]
  },
  {
   "cell_type": "code",
   "execution_count": null,
   "metadata": {},
   "outputs": [],
   "source": [
    "pipanda = processid.pandas() # uproot method to convert the object into sorted respect to cos(theta) MultiIndex DataFrame type\n",
    "# pipanda\n",
    "pipanda.iloc[0] # silicing methods to check the content of the DataFrame providing the index number as an integer\n",
    "pipanda.loc[0] # as above, providing the name of the index and column\n",
    "pipanda.head() # first lines of the DataFrame\n",
    "pipanda.tail() # last lines\n",
    "pipanda.shape # dimensions of the DataFrame (ROWS, COLOUMS)\n",
    "pipanda.size # number of elements of the array\n",
    "len(pipanda) # number of intems of the first dimension\n",
    "pipanda.columns # in this case of the type MultiIndex\n",
    "pipanda.index # in this case of the type MultiIndex\n",
    "pipanda.index.to_frame() # anoter way to fisualise the MultiIndex"
   ]
  },
  {
   "cell_type": "code",
   "execution_count": null,
   "metadata": {},
   "outputs": [],
   "source": [
    "unpipanda = pipanda.unstack() # unstack a multiindex, but in this case is better to pivot\n",
    "pivot_pipanda = pipanda.pivot_table(values=\"count\", index=processid._fXaxis._fTitle.decode(), columns=processid._fYaxis._fTitle.decode()) # to avoid any confusion with str() use . decode() from byte-strings\n",
    "pivot_pipanda.columns # for hostograms created in ROOT, the index of bins are of the type IntervalIndex\n",
    "pivot_pipanda.columns.left # size = 102 equal to the size of .columns\n",
    "pivot_pipanda.index # size = 22 equal to both .right and .left\n",
    "pivot_pipanda.index.get_level_values(0) # identical to .index alone\n",
    "pivot_pipanda.index._data # another equivalent way to show the values\n",
    "pivot_pipanda.index.left.isin([\"-inf\"]) # it creates a Boolean mask to eventally remove inf and -inf\n",
    "# pivot_pipanda.index.reindex([\"-inf\",10])"
   ]
  },
  {
   "cell_type": "markdown",
   "metadata": {},
   "source": [
    "Plotting the C matrix of counts with x and y as INDEX and COLUMN! While using\n",
    "pcolormesh will complain for mismatch of size and for non integer/float numbers in the index or column"
   ]
  },
  {
   "cell_type": "code",
   "execution_count": null,
   "metadata": {
    "tags": []
   },
   "outputs": [],
   "source": [
    "# creates an numpy.ndarray with left + right members\n",
    "# append DOES NOT CREATE ARRAYS OF UNIQUE NUMBERS, but the InterIndex is already right excluded (i.e. no repetitions)\n",
    "xbinedges = np.append(pivot_pipanda.columns.left, pivot_pipanda.columns.right) # size = 204\n",
    "ybinedges = np.append(pivot_pipanda.index.left, pivot_pipanda.index.right) # size = 22\n",
    "\n",
    "# inf and -inf are the left and right values of the tuples\n",
    "\n",
    "X, Y = np.meshgrid(xbinedges, ybinedges)\n",
    "print(X.shape) # (44,204)\n",
    "print(pivot_pipanda.values.shape) # (22,102) note values.T to traspose the matrix\n",
    "# plt.pcolormesh(X, Y, pivot_pipanda.values) # inf values are not recognised"
   ]
  },
  {
   "cell_type": "markdown",
   "metadata": {},
   "source": [
    "NUMPY APPROACH: SEAMS THE RIGHT ONE TO PLOT USING HEP LIBRARY"
   ]
  },
  {
   "cell_type": "code",
   "execution_count": null,
   "metadata": {
    "tags": []
   },
   "outputs": [],
   "source": [
    "pinumpy = processid.numpy() # since pandas is built on top of numpy this return the same format of data, but it is not possible to pivot\n",
    "z = pinumpy[0] # ndarray .shape = (20,100)\n",
    "x = pinumpy[1][0][0] # ndarray len(x) = 21\n",
    "y = pinumpy[1][0][1] # ndarray len(y) = 101\n",
    "\n",
    "type(pinumpy)"
   ]
  },
  {
   "cell_type": "code",
   "execution_count": null,
   "metadata": {
    "tags": []
   },
   "outputs": [],
   "source": [
    "print(z.shape, x.shape, y.shape)\n",
    "print(type(x),type(y),type(z))"
   ]
  },
  {
   "cell_type": "code",
   "execution_count": null,
   "metadata": {},
   "outputs": [],
   "source": [
    "cmap = mpl.cm.viridis\n",
    "cmap.set_under('w')\n",
    "\n",
    "plt.imshow(pinumpy[0].T) #plots just the values without the right index and column! Has to be transpose to show the correct results\n",
    "plt.imshow(pinumpy[0].T,extent=[x[0],x[-1],y[0],y[-1]], cmap=cmap, vmin=1.1, aspect=\"equal\") # to plot the right x and y values of the axis\n",
    "plt.colorbar()"
   ]
  },
  {
   "cell_type": "code",
   "execution_count": null,
   "metadata": {},
   "outputs": [],
   "source": [
    "cmap = mpl.cm.viridis\n",
    "cmap.set_under('w')\n",
    "\n",
    "# hep.hist2dplot(pinumpy[0],pinumpy[1][0][0],pinumpy[1][0][1]) # so far the only alternative to plot. It doesn't work with pandas\n",
    "hep.hist2dplot(z,x,y,vmin=1.) # so far the only alternative to plot. It doesn't work with pandas"
   ]
  },
  {
   "cell_type": "code",
   "execution_count": null,
   "metadata": {},
   "outputs": [],
   "source": [
    "cmap = mpl.cm.viridis\n",
    "cmap.set_under('w')\n",
    "\n",
    "x_red=np.array((x[1:] + x[:-1])/2) # from the suggestion of jpivarski: this returns the centre!\n",
    "y_red=np.array((y[1:] + y[:-1])/2) # from the suggestion of jpivarski: this returns the centre!\n",
    "plt.contourf(x_red,y_red,z.T, extent=[x[0],x[-1],y[0],y[-1]], cmap=cmap, vmin=1.6)\n",
    "plt.colorbar()"
   ]
  },
  {
   "cell_type": "code",
   "execution_count": null,
   "metadata": {},
   "outputs": [],
   "source": []
  }
 ],
 "metadata": {
  "kernelspec": {
   "display_name": "Python 3.8.5 64-bit (conda)",
   "metadata": {
    "interpreter": {
     "hash": "14199186261275788dfea1c403a51d6f79ce13d90df2e64b59dbb79af406f697"
    }
   },
   "name": "Python 3.8.5 64-bit (conda)"
  },
  "language_info": {
   "codemirror_mode": {
    "name": "ipython",
    "version": 3
   },
   "file_extension": ".py",
   "mimetype": "text/x-python",
   "name": "python",
   "nbconvert_exporter": "python",
   "pygments_lexer": "ipython3",
   "version": "3.8.5-final"
  }
 },
 "nbformat": 4,
 "nbformat_minor": 2
}
