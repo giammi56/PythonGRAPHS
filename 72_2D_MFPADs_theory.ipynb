{
 "cells": [
  {
   "cell_type": "code",
   "execution_count": null,
   "metadata": {},
   "outputs": [],
   "source": [
    "import glob\n",
    "import math\n",
    "import uproot\n",
    "import numpy as np\n",
    "import pandas as pd\n",
    "import pkgutil\n",
    "import uproot_methods\n",
    "\n",
    "import matplotlib as mpl\n",
    "import matplotlib.pyplot as plt\n",
    "from matplotlib.colors import LightSource\n",
    "%matplotlib inline\n",
    "\n",
    "import mplhep as hep\n",
    "from mpl_toolkits.mplot3d import Axes3D\n",
    "from mpl_toolkits.mplot3d.art3d import Poly3DCollection\n",
    "\n",
    "import max_functions as mf\n",
    "\n",
    "plt.style.use(hep.style.ROOT) # For now ROOT defaults to CMS\n",
    "\n",
    "path = r'D:\\UniFRK\\SEXTANT_sept2018\\S-TFMoX\\enant=S_hel=+1_KE=11.5eV' # use your path\n",
    "all_files = glob.glob(path + \"/*.dat\")\n",
    "\n",
    "li = []\n",
    "cosphi_th = []\n",
    "colnames=[\"phi\",\"cos(theta)\",\"value\"] \n",
    "\n",
    "# how to load multiple files http://jonathansoma.com/lede/foundations-2017/classes/working-with-many-files/class/\n",
    "for filename in all_files:\n",
    "    df = pd.read_csv(filename, delimiter=r\"\\s+\", names=colnames, header=None) \n",
    "    # or delim_whitespace=True, it is faste\n",
    "    # r\"\\s+\" is a regex (regular expression)\n",
    "    df[\"filename\"]=filename.split(\"\\\\\")[-1].split(\".\")[0] # adding a column with the file name\n",
    "    df[\"filename\"]=df[\"filename\"].str.replace(\" \",\"\") # corrects for spaces\n",
    "    cosphi_th.append((int(df[\"filename\"].str.split(\"_\")[0][0]),int(df[\"filename\"].str.split(\"_\")[0][1])))\n",
    "    df[\"filename\"]=df[\"filename\"].astype(\"category\")\n",
    "    li.append(df) # a unique DataFrame\n",
    "\n",
    "cosphi_th=np.array(cosphi_th)\n",
    "frame = pd.concat(li, axis=0)\n",
    "frame_srt=frame.groupby(\"filename\")"
   ]
  },
  {
   "cell_type": "code",
   "execution_count": null,
   "metadata": {},
   "outputs": [],
   "source": [
    "frame.loc[frame[\"filename\"] == \"1_1\"] # first way of selecting the right file\n",
    "frame_set = frame.set_index(\"filename\") # build a multiindex using the categories of filename"
   ]
  },
  {
   "cell_type": "code",
   "execution_count": null,
   "metadata": {},
   "outputs": [],
   "source": [
    "# Single 2D maps from pandas without tranforming into numpy\n",
    "frame.loc[frame[\"filename\"] == \"1_1\"].plot.hexbin(x=\"phi\", y=\"cos(theta)\", C=\"value\", sharex=False, gridsize=50)"
   ]
  },
  {
   "cell_type": "code",
   "execution_count": null,
   "metadata": {
    "tags": []
   },
   "outputs": [],
   "source": [
    "# converting to numpy arrays to plot\n",
    "phi = frame.loc[frame[\"filename\"] == \"1_1\"].iloc[:,0].unique() # phi\n",
    "ctheta = frame.loc[frame[\"filename\"] == \"1_1\"].iloc[:,1].unique() # cos(theta)\n",
    "counts = frame.loc[frame[\"filename\"] == \"1_1\"].iloc[:,2].to_numpy() # values\n",
    "\n",
    "print(phi.shape, ctheta.shape, counts.shape)\n",
    "print(type(phi), type(ctheta), type(counts))\n",
    "counts_matrix = counts.reshape(200,100) # reshape(rows=x,columns=y)\n",
    "\n",
    "print(\"number of ROWS (x) = \", len(counts_matrix[:,1]), \"number of COLUMNS (y for reshaping) = \", len(counts_matrix[1,:]))"
   ]
  },
  {
   "cell_type": "code",
   "execution_count": null,
   "metadata": {},
   "outputs": [],
   "source": [
    "# plt.imshow(z_matrix)\n",
    "plt.imshow(counts_matrix.T,extent=[phi[0],phi[-1],ctheta[0],ctheta[-1]], aspect=180)\n",
    "ax = plt.axes()\n",
    "ax.set_xlabel('phi [DEG]')\n",
    "ax.set_ylabel('cos(theta) [adm]')\n",
    "plt.colorbar()"
   ]
  },
  {
   "cell_type": "code",
   "execution_count": null,
   "metadata": {},
   "outputs": [],
   "source": [
    "# countour plot\n",
    "cmap = mpl.cm.viridis\n",
    "cmap.set_under('w')\n",
    "\n",
    "\n",
    "fig1, ax = plt.subplots(constrained_layout=True)\n",
    "\n",
    "CS = ax.contourf(phi,ctheta,counts_matrix.T, levels=20, extent=[phi[0],phi[-1],ctheta[0],ctheta[-1]], vmin=0.0001)\n",
    "ax.set_xlabel('phi [DEG]')\n",
    "ax.set_ylabel('cos(theta) [adm]')\n",
    "fig1.colorbar(CS)"
   ]
  },
  {
   "cell_type": "markdown",
   "metadata": {},
   "source": [
    "# OLD WAY OF PROCEDING!! Note unique values and extent, all the 72 plots\n",
    "phi = frame.loc[frame[\"filename\"] == \"1_1\"].iloc[:,0].unique() # phi\n",
    "ctheta = frame.loc[frame[\"filename\"] == \"1_1\"].iloc[:,1].unique() # cos(theta)\n",
    "\n",
    "fig = plt.figure(figsize=(50, 24),dpi=80) # figsize in inche by defauls: 1 in = 2.8 cm\n",
    "for filename,group,i in zip(frame_srt,frame_srt,range(1,73)) :\n",
    "    counts_str = group[1][\"value\"].to_numpy()\n",
    "    counts_matrix = counts_str.reshape(200,100)\n",
    "    ax = fig.add_subplot(6, 12, i)\n",
    "    ax.contourf(phi,ctheta,counts_matrix, levels=20, extent=[phi[0],phi[-1],ctheta[0],ctheta[-1]], vmin=0.0001)\n",
    "    ax.text(i, 1+i//12, i, ha=\"center\", va=\"center\", color=\"red\")\n",
    "\n",
    "fig.tight_layout()\n",
    "# plt.show()"
   ]
  },
  {
   "cell_type": "markdown",
   "metadata": {},
   "source": [
    "#OLD WAY OF PROCEEDING\n",
    "\n",
    "fig = plt.figure(figsize=(25, 12),dpi=40) # downsized\n",
    "for filename,group,i in zip(frame_srt,frame_srt,range(72)):\n",
    "    counts_str = group[1][\"value\"].to_numpy()\n",
    "    ax = fig.add_subplot(6, 12, i+1)\n",
    "    ax.contourf(phi.reshape(200,100),ctheta.reshape(200,100),counts_str.reshape(200,100), levels=20, vmin=0.0001)\n",
    "    ax.text(i+1, i//12+1, cosphi_th[i], ha=\"center\", va=\"center\", color=\"red\")\n",
    "\n",
    "fig.tight_layout()"
   ]
  },
  {
   "cell_type": "code",
   "execution_count": null,
   "metadata": {},
   "outputs": [],
   "source": [
    "cosphi_th;"
   ]
  },
  {
   "cell_type": "code",
   "execution_count": null,
   "metadata": {},
   "outputs": [],
   "source": [
    "# all the 72 plots\n",
    "# the theoretical MFPAD has the form 1_1 ... 1_12, 2_1 ... 2_12 therefore it is ok the (6,12) subplot\n",
    "# 6 levels of cos(theta) (y), 12 levels of phi (x)\n",
    "phi = frame.loc[frame[\"filename\"] == \"1_1\"].iloc[:,0].to_numpy() # phi\n",
    "ctheta = frame.loc[frame[\"filename\"] == \"1_1\"].iloc[:,1].to_numpy() # cos(theta)\n",
    "\n",
    "fig, axes = plt.subplots(6,12, figsize=(50, 24), sharex='col', sharey='row')\n",
    "# fig, axes = plt.subplots(6,12, figsize=(25, 12), dpi=40, sharex='col', sharey='row')\n",
    "fig.subplots_adjust(hspace = .5, wspace=.5)\n",
    "\n",
    "for filename,group,i,ax in zip(frame_srt,frame_srt,range(72),axes.flatten()) :\n",
    "    counts_str = group[1][\"value\"].to_numpy()\n",
    "    ax.contourf(phi.reshape(200,100),ctheta.reshape(200,100),counts_str.reshape(200,100), levels=20, vmin=0.0001)\n",
    "    ax.text(0, 0, cosphi_th[i], ha=\"center\", va=\"center\", color=\"red\",fontsize=18)\n",
    "    \n",
    "fig.tight_layout()\n",
    "plt.show()\n",
    "\n",
    "\n",
    "# WHATCH OUT! experimental data are saved in the form (cos(theta), phi) looping internally on cos(theta) -> subplots has to be filled column by column instead of row by row\n",
    "# for i,ax in zip(range(72),axes.T.flatten()) :"
   ]
  },
  {
   "cell_type": "markdown",
   "metadata": {},
   "source": [
    "# OLD WAY OF PROCEDING!! Note unique values and extent, all the 72 plots\n",
    "    phi = frame.loc[frame[\"filename\"] == \"1_1\"].iloc[:,0].unique() # phi\n",
    "    ctheta = frame.loc[frame[\"filename\"] == \"1_1\"].iloc[:,1].unique() # cos(theta)\n",
    "\n",
    "    fig = plt.figure(figsize=(50, 24),dpi=80) # figsize in inche by defauls: 1 in = 2.8 cm\n",
    "    for filename,group,i in zip(frame_srt,frame_srt,range(1,73)) :\n",
    "        counts_str = group[1][\"value\"].to_numpy()\n",
    "        counts_matrix = counts_str.reshape(200,100)\n",
    "        ax = fig.add_subplot(6, 12, i)\n",
    "        ax.contourf(phi,ctheta,counts_matrix, levels=20, extent=[phi[0],phi[-1],ctheta[0],ctheta[-1]], vmin=0.0001)\n",
    "        ax.text(i, 1+i//12, i, ha=\"center\", va=\"center\", color=\"red\")\n",
    "    \n",
    "    fig.tight_layout()\n",
    "    # plt.show()\""
   ]
  },
  {
   "cell_type": "markdown",
   "metadata": {},
   "source": [
    "  #OLD WAY OF PROCEEDING\n",
    "    fig = plt.figure(figsize=(25, 12),dpi=40) # downsized\n",
    "    for filename,group,i in zip(frame_srt,frame_srt,range(72)):\n",
    "        counts_str = group[1][\"value\"].to_numpy()\n",
    "        ax = fig.add_subplot(6, 12, i+1)\n",
    "        ax.contourf(phi.reshape(200,100),ctheta.reshape(200,100),counts_str.reshape(200,100), levels=20, vmin=0.0001)\n",
    "        ax.text(i+1, i//12+1, cosphi_th[i], ha=\"center\", va=\"center\", color=\"red\")\n",
    "    fig.tight_layout()"
   ]
  },
  {
   "cell_type": "code",
   "execution_count": null,
   "metadata": {},
   "outputs": [],
   "source": [
    "# all the 72 plots: no borders & sharing axis\n",
    "\n",
    "\n",
    "phi = frame.loc[frame[\"filename\"] == \"1_1\"].iloc[:,0].to_numpy() # phi\n",
    "ctheta = frame.loc[frame[\"filename\"] == \"1_1\"].iloc[:,1].to_numpy() # cos(theta)\n",
    "\n",
    "# fig, axes = plt.subplots(6,12, figsize=(50, 24), sharex='col', sharey='row') figsize in inche by defauls: 1 in = 2.8 cm\n",
    "fig, axes = plt.subplots(6,12, figsize=(25, 12), dpi=40, sharex='col', sharey='row') #downsized\n",
    "fig.subplots_adjust(hspace = .5, wspace=.5)\n",
    "\n",
    "for filename,group,ax in zip(frame_srt,frame_srt,axes.flatten()) :\n",
    "    counts_str = group[1][\"value\"].to_numpy()\n",
    "    counts_matrix = counts_str.reshape(200,100)\n",
    "    ax.contourf(phi.reshape(200,100),ctheta.reshape(200,100),counts_str.reshape(200,100), levels=20, vmin=0.0001)\n",
    "    \n",
    "fig.tight_layout()\n",
    "plt.show()"
   ]
  },
  {
   "cell_type": "code",
   "execution_count": null,
   "metadata": {
    "tags": []
   },
   "outputs": [],
   "source": [
    "from numpy.core.defchararray import multiply\r\n",
    "\r\n",
    "\r\n",
    "counts_matrixS=[]\r\n",
    "counts_matrixR=[]\r\n",
    "cos_projthS=[]\r\n",
    "cos_projthR=[]\r\n",
    "phi_projthS=[]\r\n",
    "phi_projthR=[]\r\n",
    "\r\n",
    "for filename,group,i in zip(frame_srt,frame_srt,range(72)) :\r\n",
    "# for filename,group,i in zip(frame_srt,frame_srt,range(72)) :\r\n",
    "    # print(filename)\r\n",
    "    counts_str = group[1][\"value\"].to_numpy()\r\n",
    "    counts_matrixS.append(counts_str.reshape(200,100))\r\n",
    "    cos_projthS.append(counts_matrixS[i].sum(axis=0))\r\n",
    "    phi_projthS.append(counts_matrixS[i].sum(axis=1))\r\n",
    "    tempcos=np.flip(counts_matrixS[i], axis=0)\r\n",
    "    tempphi=np.flip(tempcos, axis=1)\r\n",
    "    counts_matrixR.append(tempphi)\r\n",
    "    cos_projthR.append(counts_matrixR[i].sum(axis=0))\r\n",
    "    phi_projthR.append(counts_matrixR[i].sum(axis=1))\r\n",
    "\r\n",
    "cos_projthS=np.array(cos_projthS)\r\n",
    "cos_projthR=np.array(cos_projthR)\r\n",
    "phi_projthS=np.array(phi_projthS)\r\n",
    "phi_projthR=np.array(phi_projthR)\r\n",
    "\r\n",
    "np.array(counts_matrix).shape\r\n",
    "print(np.array(cos_projthS).shape)\r\n",
    "print(np.array(cos_projthR).shape)"
   ]
  },
  {
   "cell_type": "code",
   "execution_count": null,
   "metadata": {},
   "outputs": [],
   "source": [
    "cPECD =  np.divide(np.subtract(cos_projthR,cos_projthS),np.add(cos_projthR,cos_projthS))\r\n",
    "errPECD = np.sqrt(1/(cos_projthR+cos_projthS))"
   ]
  },
  {
   "cell_type": "code",
   "execution_count": null,
   "metadata": {},
   "outputs": [],
   "source": [
    "plt.plot(cos_projthR[0])\r\n",
    "plt.plot(cos_projthS[0])"
   ]
  },
  {
   "cell_type": "code",
   "execution_count": null,
   "metadata": {},
   "outputs": [],
   "source": [
    "ctheta_lin=np.unique(ctheta)\n",
    "# print(ctheta_lin, ctheta_lin.shape)"
   ]
  },
  {
   "cell_type": "code",
   "execution_count": null,
   "metadata": {},
   "outputs": [],
   "source": [
    "# modified with error\r\n",
    "# everything in iminuit is done through the Minuit object, so we import it\r\n",
    "from iminuit import Minuit\r\n",
    "# we also need a cost function to fit and import the LeastSquares function\r\n",
    "from iminuit.cost import LeastSquares\r\n",
    "from iminuit.util import describe, make_func_code\r\n",
    "import traceback\r\n",
    "\r\n",
    "class LeastSquares:\r\n",
    "    \"\"\"\r\n",
    "    Generic least-squares cost function with error.\r\n",
    "    \"\"\"\r\n",
    "    def __init__(self, model, x, y, err):\r\n",
    "        self.model = model  # model predicts y for given x\r\n",
    "        self.x = np.array(x)\r\n",
    "        self.y = np.array(y)\r\n",
    "        self.err = np.array(err)\r\n",
    "        # self.err = err\r\n",
    "\r\n",
    "    def __call__(self, *par):  # we accept a variable number of model parameters\r\n",
    "        ym = self.model(self.x, *par)\r\n",
    "        chi2 = np.sum((self.y - ym)**2/(self.err**2))\r\n",
    "        return chi2\r\n",
    "\r\n",
    "# does this inherits from LeastSquare?\r\n",
    "class BetterLeastSquares(LeastSquares):\r\n",
    "    def __init__(self, model, x, y, err):\r\n",
    "        super().__init__(model, x, y, err)\r\n",
    "        self.func_code = make_func_code(describe(model)[1:])\r\n",
    "\r\n",
    "def PECD6(x, b1, b2, b3, b4, b5, b6):\r\n",
    "    return ((b1*x + 0.5*b3*(5*x**3-3*x) +0.125*b5*(63*x**5-70*x**3+15*x)) / (1 + 0.5*b2*(3*x**2-1) + 0.125*b4*(35*x**4-30**2+3) + 0.0625*b6*(231*x**6-315*x**4+105*x**2-5)))\r\n",
    "\r\n",
    "# param_matrix=np.zeros((6,72)) #nparray initialization\r\n",
    "param_matrix = [[0 for i in range(72)] for j in range(6)] #i col, j row\r\n",
    "\r\n",
    "for i in range(72): #fixe because of the photon directions, equal to range(len(cosphi))\r\n",
    "    #print(i)\r\n",
    "    x_data = ctheta_lin\r\n",
    "    y_data = cPECD[i]\r\n",
    "    y_err = errPECD[i]\r\n",
    "\r\n",
    "    lsq = BetterLeastSquares(PECD6, x_data, y_data, y_err)\r\n",
    "\r\n",
    "    m = Minuit(lsq, errordef=Minuit.LEAST_SQUARES, limit_b1=(-1, 1), limit_b2=(-1, 1), limit_b3=(-1, 1), limit_b4=(-1, 1), limit_b5=(-1, 1), limit_b6=(-1, 1)) # initial values are 0 by default\r\n",
    "    # m = Minuit(lsq, error_b1=0.01, error_b2=0.01, limit=((-1, 1), (-1, 1)), name=(\"b1\", \"b2\"), pedantic=False)\r\n",
    "    m.migrad() # run optimiser\r\n",
    "    m.hesse() # run covariance estimator\r\n",
    "    for j,p in zip(range(len(m.parameters)),m.parameters): # len = 6\r\n",
    "        param_matrix[j][i] = ((m.values[p], m.errors[p]))\r\n",
    "\r\n",
    "    # for p in m.parameters:\r\n",
    "        # print(\"{} = {:2.3e} +/- {:2.3e}\".format(p, m.values[p], m.errors[p]))"
   ]
  },
  {
   "cell_type": "code",
   "execution_count": null,
   "metadata": {},
   "outputs": [],
   "source": [
    "import matplotlib as mpl\n",
    "from matplotlib import cm\n",
    "\n",
    "#the following converts a cmap into plotly language \n",
    "magma_cmap = mpl.cm.get_cmap('magma')\n",
    "seismic_cmap = mpl.cm.get_cmap('seismic')\n",
    "\n",
    "magma_rgb = []\n",
    "seismic_rgb = []\n",
    "norm = mpl.colors.Normalize(vmin=0, vmax=255)\n",
    "\n",
    "for i in range(0, 255):\n",
    "       k = mpl.colors.colorConverter.to_rgb(magma_cmap(norm(i)))\n",
    "       magma_rgb.append(k)\n",
    "\n",
    "for i in range(0, 255):\n",
    "       k = mpl.colors.colorConverter.to_rgb(seismic_cmap(norm(i)))\n",
    "       seismic_rgb.append(k)\n",
    "\n",
    "def matplotlib_to_plotly(cmap, pl_entries):\n",
    "    h = 1.0/(pl_entries-1)\n",
    "    pl_colorscale = []\n",
    "\n",
    "    for k in range(pl_entries):\n",
    "        C = list(map(np.uint8, np.array(cmap(k*h)[:3])*255))\n",
    "        pl_colorscale.append([k*h, 'rgb'+str((C[0], C[1], C[2]))])\n",
    "\n",
    "    return pl_colorscale\n",
    "\n",
    "Magma_r = matplotlib_to_plotly(magma_cmap, 255)\n",
    "Seismic_r = matplotlib_to_plotly(seismic_cmap, 255)"
   ]
  },
  {
   "cell_type": "code",
   "execution_count": null,
   "metadata": {},
   "outputs": [],
   "source": [
    "param_matrix=np.array(param_matrix) #numpy tranformation!!!\r\n",
    "print(param_matrix.shape)\r\n",
    "param_matrix[0,:,0].shape"
   ]
  },
  {
   "cell_type": "code",
   "execution_count": null,
   "metadata": {},
   "outputs": [],
   "source": [
    "plt.plot(param_matrix[0,:,0])"
   ]
  },
  {
   "cell_type": "code",
   "execution_count": null,
   "metadata": {},
   "outputs": [],
   "source": [
    "from numpy.lib.function_base import meshgrid\r\n",
    "import plotly.graph_objects as go\r\n",
    "from plotly.subplots import make_subplots\r\n",
    "import itertools\r\n",
    "\r\n",
    "\r\n",
    "param_matrix=np.array(param_matrix) #numpy tranformation!!!\r\n",
    "phicos_MFPAD = np.array(list(itertools.product(np.linspace(-180,180,12).tolist(), np.linspace(-1,1,6).tolist())))\r\n",
    "\r\n",
    "go_phi=[col[0] for col in phicos_MFPAD]\r\n",
    "go_cos=[col[1] for col in phicos_MFPAD]"
   ]
  },
  {
   "cell_type": "code",
   "execution_count": null,
   "metadata": {},
   "outputs": [],
   "source": [
    "fig = make_subplots(rows=1, cols=2,\r\n",
    "                    subplot_titles=('Without Smoothing', 'With Smoothing'))\r\n",
    "\r\n",
    "# fig.add_trace(go.Contour(z=param_matrix[0,:,0], x=go_phi, y=go_cos, line_smoothing=0, colorscale=Seismic_r, contours=dict(start=-0.2, end=0.2, size=0.04)), 1, 1)\r\n",
    "fig.add_trace(go.Contour(z=param_matrix[0,:,0], x=go_phi, y=go_cos, line_smoothing=0, colorscale=Seismic_r), 1, 1)\r\n",
    "fig.add_trace(go.Contour(z=param_matrix[0,:,0], x=go_phi, y=go_cos, line_smoothing=0.75, colorscale=Seismic_r), 1, 2)\r\n",
    "\r\n",
    "fig.update_layout(\r\n",
    "    # coloraxis=dict(colorscale=Seismic_r),\r\n",
    "    # showlegend=False,\r\n",
    "    autosize=False,\r\n",
    "    width=900,\r\n",
    "    height=450,\r\n",
    "    margin=dict(l=5,r=5,b=25,t=25)\r\n",
    "    )\r\n",
    "\r\n",
    "fig.show()"
   ]
  },
  {
   "cell_type": "code",
   "execution_count": null,
   "metadata": {},
   "outputs": [],
   "source": [
    "#NOTE: THE SCALE IS FAKE FOR PLOT 2 AND 6!\r\n",
    "\r\n",
    "import plotly.graph_objects as go\r\n",
    "from plotly.subplots import make_subplots\r\n",
    "\r\n",
    "fig = go.Figure()\r\n",
    "\r\n",
    "fig = make_subplots(rows=6, cols=2, vertical_spacing=0.015,\r\n",
    "                    subplot_titles=('Without Smoothing', 'With Smoothing'))\r\n",
    "\r\n",
    "for i in range(len(param_matrix)):\r\n",
    "    if i==1 or i==5:\r\n",
    "        fig.add_trace(go.Contour(z=param_matrix[i,:,0], x=go_phi, y=go_cos, line_smoothing=0, colorscale=Seismic_r, legendgroup=\"no\", showscale=False, showlegend=False, contours=dict(start=-1, end=1, size=0.5)), i+1, 1)\r\n",
    "        fig.add_trace(go.Contour(z=param_matrix[i,:,0], x=go_phi, y=go_cos, line_smoothing=0.85, colorscale=Seismic_r, legendgroup=\"no\", showscale=False, showlegend=False, contours=dict(start=-1, end=1, size=0.5)), i+1, 2)\r\n",
    "    else:\r\n",
    "        fig.add_trace(go.Contour(z=param_matrix[i,:,0], x=go_phi, y=go_cos, line_smoothing=0, colorscale=Seismic_r, legendgroup=\"yes\", contours=dict(start=-0.2, end=0.2, size=0.04)), i+1, 1)\r\n",
    "        fig.add_trace(go.Contour(z=param_matrix[i,:,0], x=go_phi, y=go_cos, line_smoothing=0.85, colorscale=Seismic_r, legendgroup=\"yes\", contours=dict(start=-0.2, end=0.2, size=0.04)), i+1, 2)\r\n",
    "\r\n",
    "fig.update_layout(\r\n",
    "    # coloraxis=dict(colorscale=Seismic_r),\r\n",
    "    # showlegend=False,\r\n",
    "    autosize=False,\r\n",
    "    # width=800,\r\n",
    "    height=1500,\r\n",
    "    margin=dict(l=0,r=0,b=25,t=25)\r\n",
    "    )\r\n",
    "\r\n",
    "fig.show()"
   ]
  },
  {
   "cell_type": "code",
   "execution_count": null,
   "metadata": {},
   "outputs": [],
   "source": []
  }
 ],
 "metadata": {
  "kernelspec": {
   "display_name": "Python 3.8.5 64-bit ('base': conda)",
   "metadata": {
    "interpreter": {
     "hash": "14199186261275788dfea1c403a51d6f79ce13d90df2e64b59dbb79af406f697"
    }
   },
   "name": "Python 3.8.5 64-bit ('base': conda)"
  },
  "language_info": {
   "codemirror_mode": {
    "name": "ipython",
    "version": 3
   },
   "file_extension": ".py",
   "mimetype": "text/x-python",
   "name": "python",
   "nbconvert_exporter": "python",
   "pygments_lexer": "ipython3",
   "version": "3.8.5-final"
  }
 },
 "nbformat": 4,
 "nbformat_minor": 2
}
