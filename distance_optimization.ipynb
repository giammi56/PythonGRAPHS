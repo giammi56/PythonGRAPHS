{
 "cells": [
  {
   "cell_type": "code",
   "execution_count": null,
   "metadata": {},
   "outputs": [],
   "source": [
    "import glob\n",
    "import math\n",
    "import uproot\n",
    "import numpy as np\n",
    "import pandas as pd\n",
    "import pkgutil\n",
    "import uproot_methods\n",
    "\n",
    "from importlib import reload\n",
    "#syntax: fugi = reload(fugi)\n",
    "\n",
    "import functions_giammi as fugi\n",
    "# fugi = reload(fugi)\n",
    "\n",
    "import matplotlib as mpl\n",
    "import matplotlib.pyplot as plt\n",
    "from matplotlib.colors import LightSource\n",
    "%matplotlib inline\n",
    "%config InlineBackend.figure_formats=[\"png\"]\n",
    "\n",
    "import re\n",
    "\n",
    "#for the cartesian product\n",
    "import itertools\n",
    "\n",
    "#to smooth the MFPADs\n",
    "import scipy as sp\n",
    "import scipy.ndimage\n",
    "\n",
    "#to create the mesh\n",
    "import triangulation as tr\n",
    "from scipy.spatial import Delaunay\n",
    "from itertools import product\n",
    "from pyntcloud import PyntCloud, structures\n",
    "\n",
    "import plotly\n",
    "import plotly.graph_objects as go\n",
    "from plotly.subplots import make_subplots\n",
    "\n",
    "import mplhep as hep\n",
    "from mpl_toolkits.mplot3d import Axes3D\n",
    "from mpl_toolkits.mplot3d.art3d import Poly3DCollection\n",
    "\n",
    "plt.style.use(hep.style.ROOT) # For now ROOT defaults to CMS\n",
    "\n",
    "#loads the temperaure cmap like Philipp for both matpplotlib and plotly\n",
    "cmap_temp, cmap_temp_go, Magma_r, Seismic_r = fugi.customcmaps()\n",
    "\n",
    "#to see which classes have been defined so far\n",
    "[modname for importer, modname, ispkg in pkgutil.walk_packages(uproot_methods.classes.__path__)]\n",
    "\n",
    "###550eV - 11.5eV CH11\n",
    "#update nov Kilian binning (36,18)\n",
    "fileRCR = uproot.open(r\"../PYTHON_graphs/DATA/Experiments/R-C3H3F3O_CH11_550eV_CR_Knov.root\");en=\"550eV\";CH=\"CH11\";\n",
    "fileRCL = uproot.open(r\"../PYTHON_graphs/DATA/Experiments/R-C3H3F3O_CH11_550eV_CL_Knov.root\")\n",
    "fileSCR = uproot.open(r\"../PYTHON_graphs/DATA/Experiments/S-C3H3F3O_CH11_550eV_CR_Knov.root\")\n",
    "fileSCL = uproot.open(r\"../PYTHON_graphs/DATA/Experiments/S-C3H3F3O_CH11_550eV_CL_Knov.root\")\n",
    "\n",
    "#Select between CH9 and CH11\n",
    "path = \"angular_distr_el/\"+CH+\"/\"\n",
    "\n",
    "#move first the ID you need\n",
    "IDs = [\"ID_ALL_mol_e0_valid/EN_gate/\",\"ID1_mol_e0_valid/EN_gate/\",\"ID2_mol_e0_valid/EN_gate/\",\"ID3_mol_e0_valid/EN_gate/\"]\n",
    "dirs = [\"MFPADs_multinew/\",\"MFPADs_multinew_phi/\"]\n",
    "\n",
    "loc=path+IDs[0]+dirs[0]\n",
    "\n",
    "#load theoretical data\n",
    "pathth = r'../PYTHON_graphs/DATA/Theory/TFMox-S/enant=S_hel=+1_KE=11.5eV';en=\"KE=11.5eV\";\n",
    "\n",
    "# glob has to be sorted (both in unix and windows)\n",
    "all_files = sorted(glob.glob(pathth + \"/**.dat\"))\n",
    "\n",
    "li = []\n",
    "cosphi_th = []\n",
    "test_opening = []\n",
    "allnames=[]\n",
    "colnames = [\"phi\", \"cos(theta)\", \"value\"]\n",
    "\n",
    "# how to load multiple files http://jonathansoma.com/lede/foundations-2017/classes/working-with-many-files/class/,\n",
    "for filename in all_files:\n",
    "    df = pd.read_csv(filename, delimiter=r\"\\s+\", names=colnames, header=None)  # r\"\\s+\" is a regex (regular expression)\n",
    "    # or delim_whitespace=True, it is faste\n",
    "    temp_name=(filename.replace(\" \",\"\")).split(\"/\")[-1].split(\".\")[0] # adding a column to df with the file name with no spaces and extension\n",
    "    cosphi_th.append((int(temp_name.split(\"_\")[0]), int(temp_name.split(\"_\")[1])))\n",
    "    allnames.append(temp_name)\n",
    "    df[\"filename\"]=temp_name\n",
    "    df[\"filename\"]=df[\"filename\"].astype(\"category\")\n",
    "    li.append(df) # a unique DataFrame\n",
    "\n",
    "cosphi_th = np.array(cosphi_th)\n",
    "cosphi_th_adj = np.around(np.array(list(itertools.product(np.linspace(1.,-1.,6).tolist(),np.linspace(-180,180,12).tolist()))),3)\n",
    "cosphi_th_adj_exp = np.around(np.array(list(itertools.product(np.linspace(0.835,-0.835,6).tolist(),np.linspace(-165,165,12).tolist()))),3)\n",
    "\n",
    "frame = pd.concat(li, axis=0)\n",
    "#this commmand avoids 1_1 followed by 1_10: semantic order\n",
    "frame_srt = frame.groupby(\"filename\",sort=False)\n",
    "frame_set = frame.set_index(\"filename\") # build a multiindex using the categories of filename"
   ]
  },
  {
   "cell_type": "code",
   "execution_count": null,
   "metadata": {},
   "outputs": [],
   "source": [
    "#pick the right theoretical MFPAD and inver the cos(theta)_el axis\n",
    "counts_temp=[]\n",
    "for group in frame_srt:\n",
    "    # elsorted=group[1].sort_values(by=[\"cos(theta)\",\"phi\"]) #just a try to remap cos(theta)\n",
    "    # counts_temp.append(elsorted[\"value\"].values.reshape(200,100))\n",
    "    counts_temp.append(group[1][\"value\"].values)\n",
    "counts_temp=np.array(counts_temp).reshape(72,200,100)\n",
    "\n",
    "#NOTE here the cos(theta)_el is already sorted as in MFPAD_Sth_phi [-1:-1]\n",
    "phi_full_sorted=np.array(frame_srt.get_group(\"1_1\").sort_values(by=[\"cos(theta)\",\"phi\"])[\"phi\"])\n",
    "ctheta_full_sorted=np.array(frame_srt.get_group(\"1_1\").sort_values(by=[\"cos(theta)\",\"phi\"])[\"cos(theta)\"])\n",
    "\n",
    "MFPAD_Sth_phi=fugi.sorting_array(counts_temp, theory=True, items=cosphi_th, a=2)\n",
    "\n",
    "print(\"MFPAD th shape \", MFPAD_Sth_phi.shape)\n"
   ]
  },
  {
   "cell_type": "code",
   "execution_count": null,
   "metadata": {},
   "outputs": [],
   "source": [
    "#Loading of the experimental MFPADS\n",
    "MFPAD_RCR,ctheta_RCR,ctheta_RCR_err,cosphi_photon,MFPAD_axis,ctheta_axis,ctheta_axis_red=fugi.import_MFPAD(fileRCR, loc, full=True)\n",
    "MFPAD_RCL,ctheta_RCL,ctheta_RCL_err=fugi.import_MFPAD(fileRCL, loc)\n",
    "\n",
    "MFPAD_SCR,ctheta_SCR,ctheta_SCR_err=fugi.import_MFPAD(fileSCR, loc)\n",
    "MFPAD_SCL,ctheta_SCL,ctheta_SCL_err=fugi.import_MFPAD(fileSCL, loc)\n",
    "\n",
    "MFPAD_RCR_norm=fugi.normalise_with_err(MFPAD_RCR)\n",
    "MFPAD_RCL_norm=fugi.normalise_with_err(MFPAD_RCL)\n",
    "MFPAD_SCR_norm=fugi.normalise_with_err(MFPAD_SCR)\n",
    "MFPAD_SCL_norm=fugi.normalise_with_err(MFPAD_SCL)\n",
    "\n",
    "#COORDIANTES PHOTON ROTATION\n",
    "#adjusting cosphi with a shifting to have it equal to theory\n",
    "ctheta_axis_red=ctheta_axis_red[0]; #Ffrom ccos(theta)\n",
    "\n",
    "phiM=(MFPAD_axis[0][0][1:] + MFPAD_axis[0][0][:-1])/2 #phi = (36,), MFPAD_axis = (37,)\n",
    "cosM=(MFPAD_axis[0][1][1:] + MFPAD_axis[0][1][:-1])/2 #COS = (18,), MFPAD_axis = (19,)\n",
    "phiMM, cosMM = np.meshgrid(phiM, cosM)\n",
    "\n",
    "phicos_phi=list(product(phiM, cosM))\n",
    "phi_full = np.array([el[0] for el in phicos_phi])\n",
    "cos_full = np.array([el[1] for el in phicos_phi])\n",
    "\n",
    "phi_rad= phi_full*np.pi/180.\n",
    "theta_rad= np.arccos(cos_full)\n",
    "\n",
    "print(\"MFPAD_xy shape = \", MFPAD_axis[0][0].shape)\n",
    "print(\"len phi_rad = \", phi_rad.shape)\n",
    "print(\"len theta_rad = \", theta_rad.shape)\n",
    "print(\"phiM shape = \", phiM.shape)\n",
    "print(\"cosM shape = \", cosM.shape)"
   ]
  },
  {
   "cell_type": "code",
   "execution_count": null,
   "metadata": {},
   "outputs": [],
   "source": [
    "plt.imshow(MFPAD_SCL_norm[0].T, cmap=\"viridis\")"
   ]
  },
  {
   "cell_type": "code",
   "execution_count": null,
   "metadata": {},
   "outputs": [],
   "source": [
    "#down sample theoretical MFPAD to 18 36\n",
    "from scipy.interpolate import griddata\n",
    "\n",
    "temp=[]\n",
    "for el in MFPAD_Sth_phi:\n",
    "    temp.append(griddata(list(zip(phi_full_sorted.reshape(-1),ctheta_full_sorted.reshape(-1))), el.reshape(-1), (phiMM, cosMM), method=\"linear\"))\n",
    "\n",
    "MFPAD_Sth_phi_red=np.array(temp).reshape(72,36,18)"
   ]
  },
  {
   "cell_type": "code",
   "execution_count": null,
   "metadata": {},
   "outputs": [],
   "source": [
    "plt.imshow(MFPAD_Sth_phi_red[0].T, cmap=\"viridis\")"
   ]
  },
  {
   "cell_type": "code",
   "execution_count": null,
   "metadata": {},
   "outputs": [],
   "source": [
    "#describe a set of alpha, beta, gamma angles to rotate the theoretical distribution (would be better to rotate before downsampling)\n",
    "arr=np.arange(-30,30,5)\n",
    "#alpha, beta, gamma for 3D rotation\n",
    "abg=list(product(arr, arr, arr))\n",
    "\n",
    "a = np.array([el[0] for el in abg])\n",
    "b = np.array([el[1] for el in abg])\n",
    "g = np.array([el[2] for el in abg])"
   ]
  },
  {
   "cell_type": "code",
   "execution_count": null,
   "metadata": {
    "tags": []
   },
   "outputs": [],
   "source": [
    "# rotate the theoretical distribution\n",
    "\n",
    "# these ae now 1728 MFPAD (18,36) of the first MFPAD\n",
    "MFPAD_rotated=fugi.rot3d_MFPAD_dist(MFPAD_Sth_phi_red[0],theta_rad,phi_rad,abg,phiMM,cosMM)\n",
    "\n",
    "MFPAD_rotated_norm=fugi.normalise_with_err(MFPAD_rotated)"
   ]
  },
  {
   "cell_type": "code",
   "execution_count": null,
   "metadata": {},
   "outputs": [],
   "source": [
    "#difference square looping along all coordiantes: NOTE they should have filled int he same way\n",
    "#normalize before\n",
    "d_temp=[]\n",
    "for el in MFPAD_rotated_norm:\n",
    "    d_temp.append(np.sum((MFPAD_SCL_norm[0].reshape(-1) - el.reshape(-1)))**2)"
   ]
  },
  {
   "cell_type": "code",
   "execution_count": null,
   "metadata": {},
   "outputs": [],
   "source": [
    "fig = plt.figure()\n",
    "ax = fig.add_subplot(111, projection='3d')\n",
    "\n",
    "img = ax.scatter(a, b, g, c=d_temp, alpha=0.5, cmap=plt.hot())\n",
    "fig.colorbar(img)\n",
    "plt.show()"
   ]
  },
  {
   "cell_type": "code",
   "execution_count": null,
   "metadata": {},
   "outputs": [],
   "source": []
  }
 ],
 "metadata": {
  "kernelspec": {
   "display_name": "Python 3.8.8 64-bit ('base': conda)",
   "name": "python388jvsc74a57bd00314860021bfd1d6d5065173ecf1d472a069bf5b92310f1daa2ee9c3af705d8c"
  },
  "language_info": {
   "codemirror_mode": {
    "name": "ipython",
    "version": 3
   },
   "file_extension": ".py",
   "mimetype": "text/x-python",
   "name": "python",
   "nbconvert_exporter": "python",
   "pygments_lexer": "ipython3",
   "version": "3.8.8"
  },
  "metadata": {
   "interpreter": {
    "hash": "0314860021bfd1d6d5065173ecf1d472a069bf5b92310f1daa2ee9c3af705d8c"
   }
  }
 },
 "nbformat": 4,
 "nbformat_minor": 2
}
