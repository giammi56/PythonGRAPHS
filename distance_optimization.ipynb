{
 "cells": [
  {
   "cell_type": "code",
   "execution_count": null,
   "metadata": {},
   "outputs": [],
   "source": [
    "import glob\n",
    "import math\n",
    "import uproot\n",
    "import numpy as np\n",
    "import pandas as pd\n",
    "import pkgutil\n",
    "import uproot_methods\n",
    "\n",
    "from importlib import reload\n",
    "#syntax: fugi = reload(fugi)\n",
    "\n",
    "import functions_giammi as fugi\n",
    "# fugi = reload(fugi)\n",
    "\n",
    "import matplotlib as mpl\n",
    "import matplotlib.pyplot as plt\n",
    "from matplotlib.colors import LightSource\n",
    "%matplotlib inline\n",
    "%config InlineBackend.figure_formats=[\"png\"]\n",
    "\n",
    "import re\n",
    "\n",
    "#for the cartesian product\n",
    "import itertools\n",
    "\n",
    "#to smooth the MFPADs\n",
    "import scipy as sp\n",
    "import scipy.ndimage\n",
    "\n",
    "#to create the mesh\n",
    "import triangulation as tr\n",
    "from scipy.spatial import Delaunay\n",
    "from itertools import product\n",
    "from pyntcloud import PyntCloud, structures\n",
    "\n",
    "import plotly\n",
    "import plotly.graph_objects as go\n",
    "from plotly.subplots import make_subplots\n",
    "\n",
    "import mplhep as hep\n",
    "from mpl_toolkits.mplot3d import Axes3D\n",
    "from mpl_toolkits.mplot3d.art3d import Poly3DCollection\n",
    "\n",
    "plt.style.use(hep.style.ROOT) # For now ROOT defaults to CMS\n",
    "\n",
    "#loads the temperaure cmap like Philipp for both matpplotlib and plotly\n",
    "cmap_temp, cmap_temp_go, Magma_r, Seismic_r = fugi.customcmaps()\n",
    "\n",
    "#to see which classes have been defined so far\n",
    "[modname for importer, modname, ispkg in pkgutil.walk_packages(uproot_methods.classes.__path__)]\n",
    "\n",
    "###550eV - 11.5eV CH11\n",
    "#update nov Kilian binning (36,18)\n",
    "fileRCR = uproot.open(r\"../PYTHON_graphs/DATA/Experiments/R-C3H3F3O_CH11_550eV_CR_Knov.root\");en=\"550eV\";CH=\"CH11\";\n",
    "fileRCL = uproot.open(r\"../PYTHON_graphs/DATA/Experiments/R-C3H3F3O_CH11_550eV_CL_Knov.root\")\n",
    "fileSCR = uproot.open(r\"../PYTHON_graphs/DATA/Experiments/S-C3H3F3O_CH11_550eV_CR_Knov.root\")\n",
    "fileSCL = uproot.open(r\"../PYTHON_graphs/DATA/Experiments/S-C3H3F3O_CH11_550eV_CL_Knov.root\")\n",
    "\n",
    "#Select between CH9 and CH11\n",
    "path = \"angular_distr_el/\"+CH+\"/\"\n",
    "\n",
    "#move first the ID you need\n",
    "IDs = [\"ID_ALL_mol_e0_valid/EN_gate/\",\"ID1_mol_e0_valid/EN_gate/\",\"ID2_mol_e0_valid/EN_gate/\",\"ID3_mol_e0_valid/EN_gate/\"]\n",
    "dirs = [\"MFPADs_multinew/\",\"MFPADs_multinew_phi/\"]\n",
    "\n",
    "loc=path+IDs[0]+dirs[0]\n",
    "\n",
    "#load theoretical data\n",
    "pathth = r'../PYTHON_graphs/DATA/Theory/TFMox-S/enant=S_hel=+1_KE=11.5eV';en=\"KE=11.5eV\";\n",
    "\n",
    "# glob has to be sorted (both in unix and windows)\n",
    "all_files = sorted(glob.glob(pathth + \"/**.dat\"))\n",
    "\n",
    "li = []\n",
    "cosphi_th = []\n",
    "test_opening = []\n",
    "allnames=[]\n",
    "colnames = [\"phi\", \"cos(theta)\", \"value\"]\n",
    "\n",
    "# how to load multiple files http://jonathansoma.com/lede/foundations-2017/classes/working-with-many-files/class/,\n",
    "for filename in all_files:\n",
    "    df = pd.read_csv(filename, delimiter=r\"\\s+\", names=colnames, header=None)  # r\"\\s+\" is a regex (regular expression)\n",
    "    # or delim_whitespace=True, it is faste\n",
    "    temp_name=(filename.replace(\" \",\"\")).split(\"/\")[-1].split(\".\")[0] # adding a column to df with the file name with no spaces and extension\n",
    "    cosphi_th.append((int(temp_name.split(\"_\")[0]), int(temp_name.split(\"_\")[1])))\n",
    "    allnames.append(temp_name)\n",
    "    df[\"filename\"]=temp_name\n",
    "    df[\"filename\"]=df[\"filename\"].astype(\"category\")\n",
    "    li.append(df) # a unique DataFrame\n",
    "\n",
    "cosphi_th = np.array(cosphi_th)\n",
    "cosphi_th_adj = np.around(np.array(list(itertools.product(np.linspace(1.,-1.,6).tolist(),np.linspace(-180,180,12).tolist()))),3)\n",
    "cosphi_th_adj_exp = np.around(np.array(list(itertools.product(np.linspace(0.835,-0.835,6).tolist(),np.linspace(-165,165,12).tolist()))),3)\n",
    "\n",
    "frame = pd.concat(li, axis=0)\n",
    "#this commmand avoids 1_1 followed by 1_10: semantic order\n",
    "frame_srt = frame.groupby(\"filename\",sort=False)\n",
    "frame_set = frame.set_index(\"filename\") # build a multiindex using the categories of filename"
   ]
  },
  {
   "cell_type": "code",
   "execution_count": null,
   "metadata": {},
   "outputs": [],
   "source": [
    "#Loading of the experimental MFPADS\n",
    "MFPAD_RCR,ctheta_RCR,ctheta_RCR_err,cosphi_photon,MFPAD_axis,ctheta_axis,ctheta_axis_red=fugi.import_MFPAD(fileRCR, loc, full=True)\n",
    "MFPAD_RCL,ctheta_RCL,ctheta_RCL_err=fugi.import_MFPAD(fileRCL, loc)\n",
    "MFPAD_SCR,ctheta_SCR,ctheta_SCR_err=fugi.import_MFPAD(fileSCR, loc)\n",
    "MFPAD_SCL,ctheta_SCL,ctheta_SCL_err=fugi.import_MFPAD(fileSCL, loc)\n",
    "\n",
    "MFPAD_RCR_phi=fugi.sorting_array(MFPAD_RCR, theory=False, a=2)\n",
    "MFPAD_RCL_phi=fugi.sorting_array(MFPAD_RCL, theory=False, a=2)\n",
    "MFPAD_SCR_phi=fugi.sorting_array(MFPAD_SCR, theory=False, a=2)\n",
    "MFPAD_SCL_phi=fugi.sorting_array(MFPAD_SCL, theory=False, a=2)\n",
    "\n",
    "MFPAD_RCR_norm=fugi.normalise_with_err(MFPAD_RCR_phi,normtype=3)\n",
    "MFPAD_RCL_norm=fugi.normalise_with_err(MFPAD_RCL_phi,normtype=3)\n",
    "MFPAD_SCR_norm=fugi.normalise_with_err(MFPAD_SCR_phi,normtype=3)\n",
    "MFPAD_SCL_norm=fugi.normalise_with_err(MFPAD_SCL_phi,normtype=3)\n",
    "\n",
    "#COORDIANTES PHOTON ROTATION\n",
    "#adjusting cosphi with a shifting to have it equal to theory\n",
    "ctheta_axis_red=ctheta_axis_red[0]; #Ffrom ccos(theta)\n",
    "\n",
    "phiM=(MFPAD_axis[0][0][1:] + MFPAD_axis[0][0][:-1])/2 #phi = (36,), MFPAD_axis = (37,)\n",
    "cosM=(MFPAD_axis[0][1][1:] + MFPAD_axis[0][1][:-1])/2 #COS = (18,), MFPAD_axis = (19,)\n",
    "phiMM, cosMM = np.meshgrid(phiM, cosM)\n",
    "\n",
    "phicos_phi=list(product(phiM, cosM))\n",
    "phi_full = np.array([el[0] for el in phicos_phi])\n",
    "cos_full = np.array([el[1] for el in phicos_phi])\n",
    "\n",
    "phi_rad= phi_full*np.pi/180.\n",
    "theta_rad= np.arccos(cos_full)\n",
    "\n",
    "print(\"MFPAD_xy shape = \", MFPAD_axis[0][0].shape)\n",
    "print(\"len phi_rad = \", phi_rad.shape)\n",
    "print(\"len theta_rad = \", theta_rad.shape)\n",
    "print(\"phiM shape = \", phiM.shape)\n",
    "print(\"cosM shape = \", cosM.shape)"
   ]
  },
  {
   "cell_type": "code",
   "execution_count": null,
   "metadata": {},
   "outputs": [],
   "source": [
    "fig, axes = plt.subplots(6,12, figsize=(25, 12), dpi=40, sharex='col', sharey='row')\n",
    "#NOTE for cos ordered the scannig order of axis has to be np.flip(axes.T,axis=1).ravel()\n",
    "for i,ax in enumerate(axes.ravel()):\n",
    "    cs,ax=fugi.plot_interpolation(phiM,cosM,MFPAD_SCL_norm[i].T, ax=ax, kind=\"linear\", xstep=5, ystep=0.05, n=15)\n",
    "    ax.tick_params(labelsize=12)\n",
    "    # ax.text(0, 0, cosphi_adj_phi[i].T, ha=\"center\", va=\"center\", color=\"red\",fontsize=12)\n",
    "fugi.overlaygraph(fig)"
   ]
  },
  {
   "cell_type": "code",
   "execution_count": null,
   "metadata": {},
   "outputs": [],
   "source": [
    "fig, axes = plt.subplots(6,12, figsize=(25, 12), dpi=40, sharex='col', sharey='row')\n",
    "#NOTE for cos ordered the scannig order of axis has to be np.flip(axes.T,axis=1).ravel()\n",
    "for i,ax in enumerate(axes.ravel()):\n",
    "    cs,ax=fugi.plot_interpolation(phiM,cosM,MFPAD_SCR_norm[i].T, ax=ax, kind=\"linear\", xstep=5, ystep=0.05, n=15)\n",
    "    ax.tick_params(labelsize=12)\n",
    "    # ax.text(0, 0, cosphi_adj_phi[i].T, ha=\"center\", va=\"center\", color=\"red\",fontsize=12)\n",
    "fugi.overlaygraph(fig)"
   ]
  },
  {
   "cell_type": "markdown",
   "metadata": {},
   "source": [
    "a=np.ones([6,4])\n",
    "new=[]\n",
    "for i,el in enumerate(a):\n",
    "    for j,el2 in enumerate(el):\n",
    "        new.append(el2*(i+1)*(j+1))\n",
    "\n",
    "a_new=np.array(new).reshape(6,4)\n",
    "print(a_new)\n",
    "print(a_new.reshape(4,6))"
   ]
  },
  {
   "cell_type": "markdown",
   "metadata": {},
   "source": [
    "a=np.array([[[1],[2],[3],[4],[5],[6]],[[7],[8],[9],[10],[11],[12]]])\n",
    "a_test=np.array([[1],[2],[3],[4],[5],[6],[7],[8],[9],[10],[11],[12]])\n",
    "a_test_1=a_test+0.1\n",
    "print(a_test.shape)\n",
    "fig, axes = plt.subplots(6,2)\n",
    "for i,ax in zip(range(72),np.flip(axes.T,axis=1).ravel()):\n",
    "    ax.scatter(a_test[i],i+1,s=100)\n",
    "    # ax.scatter(a_test_1[i],i+1,s=100, c=\"r\")\n"
   ]
  },
  {
   "cell_type": "code",
   "execution_count": null,
   "metadata": {},
   "outputs": [],
   "source": [
    "#smart flipping for the single 72 MFPAD image. Has to be in phi because of the structure of reshape, do the cos just as a check\n",
    "temp_RCLCR_phi=np.empty([12,6,648])\n",
    "temp_SCLCR_phi=np.empty([12,6,648])\n",
    "temp_totordered_phi=np.empty([12,6,648])\n",
    "temp_totordered_phi1=np.empty([12,6,648])\n",
    "# temp_totordered_phi2=np.empty([12,6,648])\n",
    "# temp_totordered_phi3=np.empty([12,6,648])\n",
    "\n",
    "nphi=MFPAD_RCL.shape[1];ncos=MFPAD_RCL.shape[2]\n",
    "\n",
    "#sum helicities: -cos(theta), phi+180 in photon coordiantes\n",
    "for j in range(12):\n",
    "    for i in range(6):\n",
    "        if j>5:\n",
    "            temp_RCLCR_phi[j,i]=np.add(MFPAD_RCL_phi.reshape(12,6,-1)[j,i],MFPAD_RCR_phi.reshape(12,6,-1)[j-6,5-i])\n",
    "            temp_SCLCR_phi[j,i]=np.add(MFPAD_SCL_phi.reshape(12,6,-1)[j,i],MFPAD_SCR_phi.reshape(12,6,-1)[j-6,5-i])\n",
    "\n",
    "        else:\n",
    "            temp_RCLCR_phi[j,i]=np.add(MFPAD_RCL_phi.reshape(12,6,-1)[j,i],MFPAD_RCR_phi.reshape(12,6,-1)[6+j,5-i])\n",
    "            temp_SCLCR_phi[j,i]=np.add(MFPAD_SCL_phi.reshape(12,6,-1)[j,i],MFPAD_SCR_phi.reshape(12,6,-1)[6+j,5-i])\n",
    "\n",
    "#now they are scanned along phi\n",
    "MFPAD_RCLCR_phi=np.array(temp_RCLCR_phi).reshape(72,nphi,ncos)\n",
    "MFPAD_SCLCR_phi=np.array(temp_SCLCR_phi).reshape(72,nphi,ncos)\n",
    "MFPAD_RCLCR_phi_norm=fugi.normalise_with_err(MFPAD_RCLCR_phi,normtype=3)\n",
    "MFPAD_SCLCR_phi_norm=fugi.normalise_with_err(MFPAD_SCLCR_phi,normtype=3)\n",
    "\n",
    "MFPAD_SCLCR_phi=fugi.normalise_with_err(MFPAD_SCLCR_phi,normtype=3)\n",
    "\n",
    "MFPAD_RCLCR_sum_phi=np.sum(MFPAD_RCLCR_phi, axis=0)\n",
    "MFPAD_SCLCR_sum_phi=np.sum(MFPAD_SCLCR_phi, axis=0)\n",
    "\n",
    "#sorting\n",
    "# MFPAD_RCLCR_cos=fugi.sorting_array(MFPAD_RCLCR, theory=False, a=1)\n",
    "# MFPAD_RCLCR_phi=fugi.sorting_array(MFPAD_RCLCR, theory=False, a=2) #equal to the original!\n",
    "# MFPAD_SCLCR_cos=fugi.sorting_array(MFPAD_SCLCR, theory=False, a=1)\n",
    "# MFPAD_SCLCR_phi=fugi.sorting_array(MFPAD_SCLCR, theory=False, a=2) #equal to the original!\n",
    "    \n",
    "temp1=[]\n",
    "for el in MFPAD_RCLCR_phi:\n",
    "    temp1.append(np.flip(el,axis=1))\n",
    "MFPAD_RCLCR_phi_flip=np.array(temp1).reshape(72,nphi,ncos)\n",
    "\n",
    "tempf=[]\n",
    "for el in temp_RCLCR_phi:\n",
    "    tempf.append(np.flip(el,axis=1))\n",
    "temp_RCLCR_phi_flip=np.array(tempf).reshape(12,6,-1)\n",
    "\n",
    "#sum enantiomer: -cos(theta) fliped axis=1 cos!, -cos(theta) photon coordinates\n",
    "for j in range(12):\n",
    "    for i in range(6):\n",
    "        temp_totordered_phi1[j,i]=np.add(temp_SCLCR_phi[j,i],temp_RCLCR_phi_flip[j,5-i])\n",
    "        temp_totordered_phi[j,i]=np.add(temp_SCLCR_phi[j,i],temp_RCLCR_phi_flip[j,i])\n",
    "        #temp_totordered_phi2.append(np.add(MFPAD_SCLCR_phi.reshape(6,12,nphi,ncos)[i,j],MFPAD_RCLCR_phi.reshape(6,12,nphi,ncos)[5-i,j]))\n",
    "        #temp_totordered_phi3.append(np.add(MFPAD_SCLCR_phi.reshape(6,12,nphi,ncos)[i,j],MFPAD_RCLCR_phi.reshape(6,12,nphi,ncos)[i,j]))\n",
    "\n",
    "MFPAD_totordered_phi=np.array(temp_totordered_phi).reshape(72,nphi,ncos)\n",
    "MFPAD_totordered_phi1=np.array(temp_totordered_phi1).reshape(72,nphi,ncos)\n",
    "# MFPAD_totordered_phi2=np.array(temp_totordered_phi2).reshape(72,nphi,ncos)\n",
    "# MFPAD_totordered_phi3=np.array(temp_totordered_phi3).reshape(72,nphi,ncos)\n",
    "\n",
    "MFPAD_totordered_phi_norm=fugi.normalise_with_err(MFPAD_totordered_phi,normtype=3)\n",
    "MFPAD_totordered_phi_norm1=fugi.normalise_with_err(MFPAD_totordered_phi1,normtype=3)\n",
    "# MFPAD_totordered_phi_norm2=fugi.normalise_with_err(MFPAD_totordered_phi2,normtype=3)\n",
    "# MFPAD_totordered_phi_norm3=fugi.normalise_with_err(MFPAD_totordered_phi3,normtype=3)\n",
    "\n",
    "#sorting\n",
    "# MFPAD_totordered_cos=fugi.sorting_array(MFPAD_totordered, theory=False, a=1)\n",
    "# MFPAD_totordered_phi=fugi.sorting_array(MFPAD_totordered, theory=False, a=2) #equal to the original!"
   ]
  },
  {
   "cell_type": "markdown",
   "metadata": {},
   "source": [
    "fig, axes = plt.subplots(6,12, figsize=(25, 12), dpi=40, sharex='col', sharey='row')\n",
    "#NOTE for cos ordered the scannig order of axis has to be np.flip(axes.T,axis=1).ravel()\n",
    "for i,ax in enumerate(np.flip(axes.T,axis=1).ravel()):\n",
    "    cs,ax=fugi.plot_interpolation(phiM,cosM,MFPAD_SCLCR_phi[i].T, ax=ax, kind=\"linear\", xstep=5, ystep=0.05, n=15)\n",
    "    ax.tick_params(labelsize=12)\n",
    "    # ax.text(0, 0, cosphi_adj_phi[i].T, ha=\"center\", va=\"center\", color=\"red\",fontsize=12)\n",
    "fugi.overlaygraph(fig)"
   ]
  },
  {
   "cell_type": "markdown",
   "metadata": {},
   "source": [
    "fig, axes = plt.subplots(6,12, figsize=(25, 12), dpi=40, sharex='col', sharey='row')\n",
    "#NOTE for cos ordered the scannig order of axis has to be np.flip(axes.T,axis=1).ravel()\n",
    "for i,ax in enumerate(np.flip(axes.T,axis=1).ravel()):\n",
    "    cs,ax=fugi.plot_interpolation(phiM,cosM,MFPAD_RCLCR_phi[i].T, ax=ax, kind=\"linear\", xstep=5, ystep=0.05, n=15)\n",
    "    ax.tick_params(labelsize=12)\n",
    "    # ax.text(0, 0, cosphi_adj_phi[i].T, ha=\"center\", va=\"center\", color=\"red\",fontsize=12)\n",
    "fugi.overlaygraph(fig)"
   ]
  },
  {
   "cell_type": "code",
   "execution_count": null,
   "metadata": {},
   "outputs": [],
   "source": [
    "#SUM of S enantiomers two different helicities EXPERIMENTAL\n",
    "fig, axes = plt.subplots(6,12, figsize=(25, 12), dpi=40, sharex='col', sharey='row')\n",
    "#NOTE for cos ordered the scannig order of axis has to be np.flip(axes.T,axis=1).ravel()\n",
    "for i,ax in enumerate(np.flip(axes.T,axis=1).ravel()):\n",
    "    cs,ax=fugi.plot_interpolation(phiM,cosM,MFPAD_totordered_phi[i].T, ax=ax, kind=\"linear\", xstep=5, ystep=0.05, n=15)\n",
    "    ax.tick_params(labelsize=12)\n",
    "    # ax.text(0, 0, cosphi_adj_phi[i].T, ha=\"center\", va=\"center\", color=\"red\",fontsize=12)\n",
    "fugi.overlaygraph(fig)"
   ]
  },
  {
   "cell_type": "code",
   "execution_count": null,
   "metadata": {},
   "outputs": [],
   "source": [
    "#pick the right theoretical MFPAD and inver the cos(theta)_el axis\n",
    "#NOTE here the cos(theta)_el is sorted in the range [-1:-1]\n",
    "\n",
    "counts_temp_cosord=[]\n",
    "for group in frame_srt:\n",
    "    counts_temp_cosord.append(frame_srt.get_group(group[0]).sort_values(by=[\"phi\",\"cos(theta)\"])[\"value\"].values)\n",
    "    if group[0] == \"1_1\":\n",
    "        phi_full_sorted=np.array(frame_srt.get_group(group[0]).sort_values(by=[\"phi\",\"cos(theta)\"])[\"phi\"].values)\n",
    "        ctheta_full_sorted=np.array(frame_srt.get_group(group[0]).sort_values(by=[\"phi\",\"cos(theta)\"])[\"cos(theta)\"].values)\n",
    "\n",
    "counts_temp_cosord=np.array(counts_temp_cosord).reshape(72,200,100)\n",
    "\n",
    "#NOTE these will be sorted according to cos(theta)_el [-1:1]\n",
    "phiM_th=np.unique(phi_full_sorted)\n",
    "cosM_th=np.unique(ctheta_full_sorted)\n",
    "xgo_phi,ygo_phi,cosphi_adj_phi = fugi.create_gocoords(a=0, reduced=False, source=True)\n",
    "\n",
    "\n",
    "xgo_cos_flip,ygo_cos_flip,cosphi_adj_cos_flip = fugi.create_gocoords(a=2, reduced=False, source=True)\n",
    "dfind=pd.DataFrame(cosphi_adj_cos_flip, columns=[\"ctheta\",\"phi\"])\n",
    "dfind[\"item\"]=allnames\n",
    "cosphi_th_std=(dfind.sort_values(by=[\"ctheta\", \"phi\"], ascending=[False,True]))[\"item\"].values\n",
    "\n",
    "#NOTE these will be sorted according to cos(theta) or phi PHOTON\n",
    "# MFPAD_Sth_cos=fugi.sorting_array(counts_temp_cosord, theory=True, items=allnames, a=1)\n",
    "\n",
    "#MFPAD_S_phi: in photon_coordiantes as allnames \n",
    "# OUTPUT a=2 : 6_1', '5_1', '4_1', '3_1', '2_1', '1_1', '6_2', '5_2'\n",
    "MFPAD_Sth_phi=fugi.sorting_array(counts_temp_cosord, theory=True, items=allnames, a=2)\n",
    "\n",
    "print(\"MFPAD th shape \", MFPAD_Sth_phi.shape)\n",
    "print(\"phi_full_sorted shape \", phi_full_sorted.shape)\n"
   ]
  },
  {
   "cell_type": "code",
   "execution_count": null,
   "metadata": {},
   "outputs": [],
   "source": [
    "#SUM of S enantiomers two different helicities THEORETICAL\n",
    "fig, axes = plt.subplots(6,12, figsize=(25, 12), dpi=40, sharex='col', sharey='row')\n",
    "for i,ax in enumerate(np.flip(axes.T,axis=1).ravel()):\n",
    "    cs,ax=fugi.plot_interpolation(phiM_th,cosM_th,MFPAD_Sth_phi[i].T, ax=ax, kind=\"linear\", xstep=5, ystep=0.05, n=15)\n",
    "    ax.tick_params(labelsize=12)\n",
    "    # ax.text(0, 0, cosphi_adj_phi[i].T, ha=\"center\", va=\"center\", color=\"red\",fontsize=12)\n",
    "fugi.overlaygraph(fig)"
   ]
  },
  {
   "cell_type": "markdown",
   "metadata": {},
   "source": [
    "fig, axes = plt.subplots(6,12, figsize=(25, 12), dpi=40, sharex='col', sharey='row')\n",
    "#NOTE for cos ordered the scannig order of axis has to be np.flip(axes.T,axis=1).ravel()\n",
    "for i,ax in enumerate(axes.ravel()):\n",
    "    cs,ax=fugi.plot_interpolation(phiM_th,cosM_th,MFPAD_Sth_cos[i].T, ax=ax, kind=\"linear\", xstep=5, ystep=0.05, n=15)\n",
    "    ax.tick_params(labelsize=12)\n",
    "    # ax.text(0, 0, cosphi_adj_phi[i].T, ha=\"center\", va=\"center\", color=\"red\",fontsize=12)\n",
    "fugi.overlaygraph(fig)"
   ]
  },
  {
   "cell_type": "code",
   "execution_count": null,
   "metadata": {},
   "outputs": [],
   "source": [
    "#down sample theoretical MFPAD to 18 36\n",
    "from scipy.interpolate import griddata\n",
    "\n",
    "temp=[]\n",
    "for el in MFPAD_Sth_phi:\n",
    "    temp.append(griddata(list(zip(phi_full_sorted.reshape(-1),ctheta_full_sorted.reshape(-1))), el.reshape(-1), (phiMM.T, cosMM.T), method=\"linear\"))\n",
    "\n",
    "MFPAD_Sth_phi_red=np.array(temp).reshape(72,36,18)"
   ]
  },
  {
   "cell_type": "code",
   "execution_count": null,
   "metadata": {},
   "outputs": [],
   "source": [
    "#SUM of S enantiomers two different helicities THEORETICAL red\n",
    "fig, axes = plt.subplots(6,12, figsize=(25, 12), dpi=40, sharex='col', sharey='row')\n",
    "#NOTE for cos ordered the scannig order of axis has to be np.flip(axes.T,axis=1).ravel()\n",
    "for i,ax in enumerate(np.flip(axes.T,axis=1).ravel()):\n",
    "    cs,ax=fugi.plot_interpolation(phiM,cosM,MFPAD_Sth_phi_red[i].T, ax=ax, kind=\"linear\", xstep=5, ystep=0.05, n=15)\n",
    "    ax.tick_params(labelsize=12)\n",
    "    # ax.text(0, 0, cosphi_adj_phi[i].T, ha=\"center\", va=\"center\", color=\"red\",fontsize=12)\n",
    "fugi.overlaygraph(fig)"
   ]
  },
  {
   "cell_type": "code",
   "execution_count": null,
   "metadata": {},
   "outputs": [],
   "source": [
    "MFPAD_check=71\n",
    "plt.imshow(MFPAD_Sth_phi_red[MFPAD_check].T, cmap=\"viridis\")"
   ]
  },
  {
   "cell_type": "code",
   "execution_count": null,
   "metadata": {},
   "outputs": [],
   "source": [
    "plt.imshow(MFPAD_SCR_norm[MFPAD_check].T, cmap=\"viridis\")\n"
   ]
  },
  {
   "cell_type": "code",
   "execution_count": null,
   "metadata": {},
   "outputs": [],
   "source": [
    "plt.imshow(MFPAD_RCLCR_phi[MFPAD_check].T, cmap=\"viridis\")"
   ]
  },
  {
   "cell_type": "code",
   "execution_count": null,
   "metadata": {},
   "outputs": [],
   "source": [
    "plt.imshow(MFPAD_SCLCR_phi[MFPAD_check].T, cmap=\"viridis\")"
   ]
  },
  {
   "cell_type": "code",
   "execution_count": null,
   "metadata": {},
   "outputs": [],
   "source": [
    "plt.imshow(MFPAD_totordered_phi[MFPAD_check].T, cmap=\"viridis\")"
   ]
  },
  {
   "cell_type": "code",
   "execution_count": null,
   "metadata": {},
   "outputs": [],
   "source": [
    "plt.imshow(MFPAD_totordered_phi1[MFPAD_check].T, cmap=\"viridis\")"
   ]
  },
  {
   "cell_type": "code",
   "execution_count": null,
   "metadata": {},
   "outputs": [],
   "source": [
    "#describe a set of alpha, beta, gamma angles to rotate the theoretical distribution (would be better to rotate before downsampling)\n",
    "arr=np.arange(-30,30,4)\n",
    "#alpha, beta, gamma for 3D rotation\n",
    "abg=list(product(arr, arr, arr))\n",
    "\n",
    "a = np.array([el[0] for el in abg])\n",
    "b = np.array([el[1] for el in abg])\n",
    "g = np.array([el[2] for el in abg])"
   ]
  },
  {
   "cell_type": "code",
   "execution_count": null,
   "metadata": {
    "tags": []
   },
   "outputs": [],
   "source": [
    "# rotate the theoretical distribution\n",
    "#for 72 MFPADS the calculation can last for 6-10 minutes for (-30,30,5)\n",
    "r_temp=[]\n",
    "n_temp=[]\n",
    "\n",
    "# these ae now 72 x 1728 MFPAD (36,18)\n",
    "for el in MFPAD_Sth_phi_red:\n",
    "    r_temp.append(fugi.rot3d_MFPAD_dist(el,theta_rad,phi_rad,abg,phiMM,cosMM))\n",
    "\n",
    "MFPAD_Sth_phi_rotated=np.array(r_temp).reshape(72,len(abg),-1)\n",
    "\n",
    "for el in MFPAD_Sth_phi_rotated:\n",
    "    n_temp.append(fugi.normalise_with_err(el,normtype=3))\n",
    "\n",
    "MFPAD_Sth_phi_rotated_norm=np.array(r_temp).reshape(72,len(abg),-1)"
   ]
  },
  {
   "cell_type": "markdown",
   "metadata": {},
   "source": [
    "new=[]\n",
    "for el in MFPAD_rotated_norm:\n",
    "    for el1 in el:\n",
    "        new.append(np.nan_to_num(el1.reshape(-1),nan=np.average(np.nan_to_num(el1.reshape(-1)))))\n",
    "\n",
    "MFPAD_rotated_norm=new"
   ]
  },
  {
   "cell_type": "code",
   "execution_count": null,
   "metadata": {},
   "outputs": [],
   "source": [
    "#the min should return the average of the MFPAD, not zero!\n",
    "print(MFPAD_Sth_phi_rotated_norm[50,MFPAD_check].min())\n",
    "print(MFPAD_SCLCR_phi_norm[MFPAD_check].max())"
   ]
  },
  {
   "cell_type": "markdown",
   "metadata": {},
   "source": [
    "#it works but it takes HOURS!!\n",
    "import matplotlib.animation as ani\n",
    "fig = plt.figure()\n",
    "\n",
    "def animate(i=int):\n",
    "    p=plt.imshow(MFPAD_rotated_norm[20,i].T, cmap=\"viridis\")\n",
    "    return p\n",
    "\n",
    "animator = ani.FuncAnimation(fig, animate, frames = len(abg))\n",
    "animator.save(\"OUTPUTS/test.mp4\", fps =30, writer=\"ffmpeg\")\n",
    "plt.show()"
   ]
  },
  {
   "cell_type": "code",
   "execution_count": null,
   "metadata": {},
   "outputs": [],
   "source": [
    "#difference square looping along all coordiantes: NOTE they should have filled int he same way\n",
    "#l2 norm\n",
    "#to be normalized before \n",
    "s_temp=[]\n",
    "# for i,el_exp in enumerate(MFPAD_SCL_norm): #one enantiomer, one helicity\n",
    "for i,el_exp in enumerate(MFPAD_totordered_phi_norm): #all together\n",
    "    d_temp=[]\n",
    "    for el_th in MFPAD_Sth_phi_rotated_norm[i]:\n",
    "        # d_temp.append(np.sum((el_exp.reshape(-1) - el_th.reshape(-1)))**2)\n",
    "        d_temp.append(np.sum((el_exp.reshape(-1)-el_th.reshape(-1))**2)) #len(d_temp) = len(abg)\n",
    "    s_temp.append(np.sqrt(d_temp)) #len(s_temp) =len(d_temp)*72\n",
    "\n",
    "d_all=np.array(s_temp).reshape(72,len(abg))\n",
    "d_sum=np.sum(d_all, axis=0)\n",
    "d_norm=fugi.normalise_with_err(np.array(d_sum),normtype=3)\n",
    "\n",
    "print(\"d_temp length = \", len(d_temp))\n",
    "print(\"s_temp shaoe = \", np.array(s_temp).shape)\n",
    "print(\"d_all shape = \", d_all.shape)\n",
    "print(\"d_sum shape = \", d_sum.shape)"
   ]
  },
  {
   "cell_type": "code",
   "execution_count": null,
   "metadata": {
    "tags": []
   },
   "outputs": [],
   "source": [
    "d_tot=np.column_stack((a,b,g,d_norm)).reshape(-1,4)\n",
    "d_min=d_norm.min()\n",
    "output=[]\n",
    "for el in d_tot:\n",
    "    if el[3] <= d_min*1.0002:\n",
    "        output.append(el)\n",
    "print(\"For the collective 72 MFPADs\")\n",
    "sorted(output, key = lambda x:x[3])"
   ]
  },
  {
   "cell_type": "code",
   "execution_count": null,
   "metadata": {},
   "outputs": [],
   "source": [
    "d_temp_s=[]\n",
    "for el_th in MFPAD_Sth_phi_rotated_norm[71]:\n",
    "    d_temp_s.append(np.sum((MFPAD_SCL_norm[71].reshape(-1)-el_th.reshape(-1))**2)) #len(d_temp) = len(abg)\n",
    "    # d_temp_s.append(np.sum((MFPAD_totordered_phi_norm[71].reshape(-1)-el_th.reshape(-1))**2)) #len(d_temp) = len(abg)\n",
    "\n",
    "d_all_s=np.sqrt(np.array(d_temp_s))\n",
    "d_norm_s=fugi.normalise_with_err(np.array(d_all_s),normtype=3)\n",
    "\n",
    "print(\"d_temp_s length = \", len(d_temp_s))\n",
    "print(\"d_norm_s shape = \", d_norm_s.shape)"
   ]
  },
  {
   "cell_type": "code",
   "execution_count": null,
   "metadata": {},
   "outputs": [],
   "source": [
    "print(\"For the S enantiomer MFPADs\")\n",
    "d_tot_s=np.column_stack((a,b,g,d_norm_s)).reshape(-1,4)\n",
    "d_min_s=d_norm_s.min()\n",
    "output_s=[]\n",
    "for el in d_tot_s:\n",
    "    if el[3] <= d_min_s*1.0002:\n",
    "        output_s.append(el)\n",
    "sorted(output_s, key = lambda x:x[3])"
   ]
  },
  {
   "cell_type": "code",
   "execution_count": null,
   "metadata": {},
   "outputs": [],
   "source": [
    "fig = plt.figure(figsize=(20,20))\n",
    "ax = fig.add_subplot(111, projection='3d')\n",
    "\n",
    "delta=d_norm.max()-d_norm.min()\n",
    "\n",
    "d_masked = np.ma.masked_array(d_norm, d_norm>=d_norm.min()+delta*0.5)\n",
    "ax.scatter(a, b, g, c=d_masked, alpha=0.2, s=10, cmap=plt.hot())\n",
    "\n",
    "d_masked = np.ma.masked_array(d_norm, d_norm>=d_norm.min()+delta*0.3)\n",
    "img = ax.scatter(a, b, g, c=d_masked, alpha=0.5, s=50, cmap=plt.hot())\n",
    "\n",
    "d_masked = np.ma.masked_array(d_norm, d_norm>=d_norm.min()+delta*0.05)\n",
    "ax.scatter(a, b, g, c=d_masked, alpha=0.8, s=250, cmap=plt.hot())\n",
    "# ax.scatter(a, b, c=d_masked, zs=-90, zdir='z', s=60, cmap=plt.hot())\n",
    "# ax.scatter(a, g, c=d_masked, zs=-70, zdir='y', s=60, cmap=plt.hot())\n",
    "# ax.scatter(b, g, c=d_masked, zs=70,  zdir='x', s=60, cmap=plt.hot())\n",
    "\n",
    "ax.set_xlabel('x alpha [DEG]', labelpad=25)\n",
    "ax.set_ylabel('y beta [DEG]', labelpad=25)\n",
    "ax.set_zlabel('z gamma [DEG]', labelpad=25)\n",
    "\n",
    "ax.view_init(elev=30., azim=180.)\n",
    "\n",
    "fig.colorbar(img)\n",
    "plt.show()"
   ]
  },
  {
   "cell_type": "code",
   "execution_count": null,
   "metadata": {},
   "outputs": [],
   "source": [
    "fig1 = go.Figure(data=[go.Scatter3d(x=a, y=b, z=g, mode='markers',\n",
    "                    marker=dict( size=5,color=d_norm, colorscale='temps', opacity=1., showscale=True)\n",
    "                    # color set colours to an array/list of desired values  \n",
    "                    # show scale to show the legend according to the color\n",
    "                    )])\n",
    "\n",
    "# fig1.update_layout(title=\"TFMeOx MFPADs EXP\", width=500, height=500, margin=dict(l=65, r=50, b=65, t=90)) #margin=dict(l=0, r=0, b=0, t=0))\n",
    "fig1.show()"
   ]
  },
  {
   "cell_type": "code",
   "execution_count": null,
   "metadata": {},
   "outputs": [],
   "source": [
    "fig1 = go.Figure(data=[go.Scatter3d(x=a, y=b, z=g, mode='markers',\n",
    "                    marker=dict( size=5,color=d_norm_s, colorscale='temps', opacity=1., showscale=True)\n",
    "                    # color set colours to an array/list of desired values  \n",
    "                    # show scale to show the legend according to the color\n",
    "                    )])\n",
    "\n",
    "# fig1.update_layout(title=\"TFMeOx MFPADs EXP\", width=500, height=500, margin=dict(l=65, r=50, b=65, t=90)) #margin=dict(l=0, r=0, b=0, t=0))\n",
    "fig1.show()"
   ]
  },
  {
   "cell_type": "code",
   "execution_count": null,
   "metadata": {},
   "outputs": [],
   "source": [
    "def get_the_slice(x,y,z, surfacecolor):\n",
    "    return go.Surface(x=x,\n",
    "                      y=y,\n",
    "                      z=z,\n",
    "                      surfacecolor=surfacecolor,\n",
    "                      coloraxis='coloraxis')\n",
    "\n",
    "\n",
    "\n",
    "def get_lims_colors(surfacecolor):# color limits for a slice\n",
    "    return np.min(surfacecolor), np.max(surfacecolor)\n",
    "\n",
    "sminz, smaxz = get_lims_colors(d_norm_s)\n",
    "slice_z = get_the_slice(a, b, g, d_norm_s)\n",
    "\n",
    "fig1 = go.Figure(data=[slice_z])\n",
    "fig1.update_layout(\n",
    "         title_text='Slices in volumetric data', \n",
    "         title_x=0.5,\n",
    "         width=700,\n",
    "         height=700,\n",
    "         scene_zaxis_range=[-2,2], \n",
    "         coloraxis=dict(colorscale='BrBG',\n",
    "                        colorbar_thickness=25,\n",
    "                        colorbar_len=0.75)) "
   ]
  },
  {
   "cell_type": "code",
   "execution_count": null,
   "metadata": {},
   "outputs": [],
   "source": []
  }
 ],
 "metadata": {
  "kernelspec": {
   "display_name": "Python 3.8.8 64-bit ('base': conda)",
   "name": "python388jvsc74a57bd00314860021bfd1d6d5065173ecf1d472a069bf5b92310f1daa2ee9c3af705d8c"
  },
  "language_info": {
   "codemirror_mode": {
    "name": "ipython",
    "version": 3
   },
   "file_extension": ".py",
   "mimetype": "text/x-python",
   "name": "python",
   "nbconvert_exporter": "python",
   "pygments_lexer": "ipython3",
   "version": "3.8.8"
  },
  "metadata": {
   "interpreter": {
    "hash": "0314860021bfd1d6d5065173ecf1d472a069bf5b92310f1daa2ee9c3af705d8c"
   }
  }
 },
 "nbformat": 4,
 "nbformat_minor": 2
}
