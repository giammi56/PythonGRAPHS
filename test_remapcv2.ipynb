{
 "cells": [
  {
   "cell_type": "code",
   "execution_count": null,
   "metadata": {},
   "outputs": [],
   "source": [
    "# https://linuxize.com/post/how-to-install-opencv-on-ubuntu-20-04/\n",
    "# https://answers.opencv.org/question/209088/how-to-completely-remove-opencv3/\n",
    "\n",
    "import math\n",
    "import cv2\n",
    "import numpy as np\n",
    "import matplotlib.pyplot as plt\n",
    "\n",
    "img = np.random.random((400,600))\n",
    "img = cv2.imread('../PYTHON_graphs/OUTPUTS/b1matrix_R-S_cos.png')\n",
    "# img = cv2.imread(a)\n",
    "xmap = np.zeros((img.shape[0], img.shape[1]), np.float32)\n",
    "ymap = np.zeros((img.shape[0], img.shape[1]), np.float32)\n",
    "\n",
    "for y in range(img.shape[0]):\n",
    "    for x in range(img.shape[1]):\n",
    "        if x-300 < img.shape[1]\n",
    "            xmap[y,x] = x-300\n",
    "            \n",
    "        ymap[y,x] = y \n",
    "\n",
    "# remapped_img = cv2.remap(img, xmap, ymap, cv2.INTER_LINEAR, None, cv2.BORDER_REPLICATE)\n",
    "remapped_img = cv2.remap(img, xmap, ymap, cv2.INTER_LINEAR)\n",
    "plt.figure()\n",
    "plt.axis('off')\n",
    "# plt.imshow(remapped_img[:,:,[2,1,0]])\n",
    "plt.imshow(remapped_img)\n",
    "plt.show()"
   ]
  },
  {
   "cell_type": "code",
   "execution_count": null,
   "metadata": {},
   "outputs": [],
   "source": [
    "len(xmap.shape)"
   ]
  },
  {
   "cell_type": "code",
   "execution_count": null,
   "metadata": {},
   "outputs": [],
   "source": [
    "img.shape"
   ]
  },
  {
   "cell_type": "code",
   "execution_count": null,
   "metadata": {},
   "outputs": [],
   "source": [
    "img"
   ]
  },
  {
   "cell_type": "code",
   "execution_count": null,
   "metadata": {},
   "outputs": [],
   "source": []
  }
 ],
 "metadata": {
  "kernelspec": {
   "display_name": "Python 3",
   "language": "python",
   "name": "python3"
  },
  "language_info": {
   "codemirror_mode": {
    "name": "ipython",
    "version": 3
   },
   "file_extension": ".py",
   "mimetype": "text/x-python",
   "name": "python",
   "nbconvert_exporter": "python",
   "pygments_lexer": "ipython3",
   "version": "3.8.5-final"
  }
 },
 "nbformat": 4,
 "nbformat_minor": 2
}
