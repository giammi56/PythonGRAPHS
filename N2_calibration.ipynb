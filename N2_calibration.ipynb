{
 "cells": [
  {
   "cell_type": "code",
   "execution_count": null,
   "metadata": {},
   "outputs": [],
   "source": [
    "import pandas as pd\n",
    "import uproot\n",
    "import uproot_methods\n",
    "import matplotlib as mpl\n",
    "import matplotlib.pyplot as plt\n",
    "from matplotlib.colors import LightSource\n",
    "%matplotlib inline\n",
    "import mplhep as hep\n",
    "from mpl_toolkits.mplot3d import Axes3D\n",
    "from mpl_toolkits.mplot3d.art3d import Poly3DCollection\n",
    "plt.style.use(hep.style.ROOT) # For now ROOT defaults to CMS\n",
    "\n",
    "import numpy as np\n",
    "\n",
    "import functions_giammi as fugi\n",
    "cmap_temp, cmap_temp_go, Magma_r, Seismic_r = fugi.customcmaps()\n",
    "\n",
    "dir = r\"../PYTHON_graphs/OUTPUTS/Ar_calibration/\"\n",
    "cmap_viridis = mpl.cm.get_cmap('viridis')\n",
    "\n"
   ]
  },
  {
   "cell_type": "code",
   "execution_count": null,
   "metadata": {},
   "outputs": [],
   "source": [
    "N2 = uproot.open(r\"../PYTHON_graphs/DATA/Experiments/Ar_FULL_analysis.root\")\n",
    "# N2[\"all_toghether/\"].keys()\n",
    "# N2[\"all_toghether/\"].classnames()\n",
    "# N2[\"all_toghether/fish filet y\"].all_members\n",
    "# N2[\"all_toghether/fish filet y\"].get_values()\n",
    "# type(N2[\"all_toghether/fish filet y\"])\n",
    "# N2[\"all_toghether/tof\"].values()\n"
   ]
  }
 ],
 "metadata": {
  "kernelspec": {
   "display_name": "Python 3.8.8 64-bit ('base': conda)",
   "name": "python388jvsc74a57bd00314860021bfd1d6d5065173ecf1d472a069bf5b92310f1daa2ee9c3af705d8c"
  },
  "language_info": {
   "name": "python",
   "version": ""
  }
 },
 "nbformat": 4,
 "nbformat_minor": 2
}
