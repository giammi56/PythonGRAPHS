{
 "cells": [
  {
   "cell_type": "code",
   "execution_count": null,
   "metadata": {},
   "outputs": [],
   "source": [
    "import glob\n",
    "import math\n",
    "import uproot\n",
    "import numpy as np\n",
    "import pandas as pd\n",
    "import pkgutil\n",
    "import uproot_methods\n",
    "\n",
    "import functions_giammi as fugi\n",
    "from importlib import reload\n",
    "\n",
    "import matplotlib as mpl\n",
    "import matplotlib.pyplot as plt\n",
    "from matplotlib.colors import LightSource\n",
    "%matplotlib inline\n",
    "\n",
    "import re\n",
    "\n",
    "import mplhep as hep\n",
    "from mpl_toolkits.mplot3d import Axes3D\n",
    "from mpl_toolkits.mplot3d.art3d import Poly3DCollection\n",
    "\n",
    "import plotly.graph_objects as go\n",
    "from plotly.subplots import make_subplots\n",
    "import itertools\n",
    "\n",
    "from __future__ import division\n",
    "\n",
    "plt.style.use(hep.style.ROOT) # For now ROOT defaults to CMS\n",
    "\n",
    "#loads the temperaure cmap like Philipp for both matpplotlib and plotly\n",
    "cmap_temp, cmap_temp_go, Magma_r, Seismic_r = fugi.customcmaps()\n",
    "\n",
    "#to see which classes have been defined so far\n",
    "[modname for importer, modname, ispkg in pkgutil.walk_packages(uproot_methods.classes.__path__)]\n",
    "\n",
    "fileR = uproot.open(r\"../PYTHON_graphs/DATA/Experiments/R_enant_scan25step.root\")\n",
    "fileS = uproot.open(r\"../PYTHON_graphs/DATA/Experiments/S_enant_scan25step.root\")\n",
    "\n",
    "PATH_CH = [\"angular_distr_el/CH11-2-3_m2x-m29/\",\"angular_distr_el/CH9-10_m1x-m42/\"]\n",
    "DIR = [\"map_AVG_ph_En/\",\"map_ScanEn_SHORT/\",\"map_ScanEn_LONG/\"]\n",
    "EN = [\"NO_gate/\",\"700/\",\"350/\",\"20/\"]\n",
    "# L or R\n",
    "ID_AVG=[\"PECD_el(theta)\",\"PECD_el(theta)_redPHI\"]\n",
    "ID_SHORT=[\"cos(theta)_vs_pEn\",\"cos(theta)_vs_pEn_pol\",\"cos(theta)_vs_pEn_redPHI\",\"cos(theta)_vs_pEn_pol_redPHI\"]\n",
    "ID_PECD=[\"PECD_el(theta)_@534.5eV_MINUS\",\"PECD_el(theta)_@535.5eV_PLUS\",\"PECD_el(theta)_@534.5eV_MINUS_redPHI\",\"PECD_el(theta)_@535.5eV_PLUS_redPHI\"]\n",
    "\n",
    "loc_avg=PATH_CH[0]+DIR[0]+EN[0]\n",
    "loc_short=PATH_CH[0]+DIR[1]+EN[0]\n",
    "loc_long=PATH_CH[0]+DIR[2]+EN[0]"
   ]
  },
  {
   "cell_type": "code",
   "execution_count": null,
   "metadata": {},
   "outputs": [],
   "source": [
    "fileR[loc_short+\"R/\"+ID_SHORT[0]].all_members\n",
    "# fileR[loc_short+\"R/\"+ID_SHORT[0]].member(\"fXaxis\") #just the object\n",
    "fileR[loc_short+\"R/\"+ID_SHORT[0]].axis(\"x\").centers() #N\n",
    "# fileR[loc_short+\"R/\"+ID_SHORT[0]].axis(\"x\").edges() #N+1\n",
    "# fileR[loc_short+\"R/\"+ID_SHORT[0]].to_numpy()"
   ]
  },
  {
   "cell_type": "code",
   "execution_count": null,
   "metadata": {},
   "outputs": [],
   "source": [
    "#load single graphs\n",
    "en=fileR[loc_short+\"R/\"+ID_SHORT[0]].axis(\"x\").centers() #N\n",
    "ctheta=fileR[loc_short+\"R/\"+ID_SHORT[0]].axis(\"y\").centers() #N\n",
    "\n",
    "cthetaEN_R=fileR[loc_short+\"R/\"+ID_SHORT[0]].to_numpy()[0]\n",
    "cthetaEN_R_err=fileR[loc_short+\"R/\"+ID_SHORT[0]].errors() #to be normalised too\n",
    "cthetaEN_R_norm,cthetaEN_R_err_norm=fugi.normalise_with_err(cthetaEN_R,cthetaEN_R_err,normtype=0)\n",
    "\n",
    "cthetaEN_L=fileR[loc_short+\"L/\"+ID_SHORT[0]].to_numpy()[0]\n",
    "cthetaEN_L_err=fileR[loc_short+\"L/\"+ID_SHORT[0]].errors() #to be normalised too\n",
    "cthetaEN_L_norm,cthetaEN_L_err_norm=fugi.normalise_with_err(cthetaEN_L,cthetaEN_L_err,normtype=0)\n",
    "\n",
    "print(cthetaEN_R.shape)"
   ]
  },
  {
   "cell_type": "code",
   "execution_count": null,
   "metadata": {},
   "outputs": [],
   "source": [
    "#PECD between two diffrent helicities\n",
    "cPECD_en =  np.divide(np.subtract(cthetaEN_R_norm[3:],cthetaEN_L_norm[3:]),np.add(cthetaEN_R_norm[3:],cthetaEN_L_norm[3:]))\n",
    "errPECD_en = fugi.error_calc(cthetaEN_R_norm[3:],cthetaEN_L_norm[3:],cthetaEN_R_err_norm[3:],cthetaEN_L_err_norm[3:])"
   ]
  },
  {
   "cell_type": "code",
   "execution_count": null,
   "metadata": {},
   "outputs": [],
   "source": [
    "fig,(ax1,ax2)= plt.subplots(1,2, figsize=(25, 10), sharey=True)\n",
    "cs1=ax1.contourf(en[3:],ctheta,cthetaEN_R_norm[3:].T, cmap=cmap_temp, levels=15)\n",
    "ax1.set_title(\"ctehta vs EN R\")\n",
    "ax1.set_xlabel('en [eV]')\n",
    "ax1.set_ylabel('cos(theta) [adm]')\n",
    "# ax1.set_aspect(aspect)\n",
    "cbar1=fig.colorbar(cs1,extend='both', shrink=0.9, ax=ax1)\n",
    "cbar1.set_ticklabels([\"min\",\"max\"])\n",
    "cbar1.set_ticks([cthetaEN_R_norm[3:].min(),cthetaEN_R_norm[3:].max()])\n",
    "\n",
    "\n",
    "cs2=ax2.contourf(en[3:],ctheta,cthetaEN_L_norm[3:].T, cmap=cmap_temp, levels=15)\n",
    "ax2.set_title(\"ctehta vs EN L\")\n",
    "ax2.set_xlabel('en [eV]')\n",
    "ax2.set_ylabel('cos(theta) [adm]')\n",
    "# ax2.set_aspect(aspect)\n",
    "cbar2=fig.colorbar(cs2,extend='both', shrink=0.9, ax=ax2)\n",
    "cbar2.set_ticklabels([\"min\",\"max\"])\n",
    "cbar2.set_ticks([cthetaEN_L_norm[3:].min(),cthetaEN_L_norm[3:].max()])\n",
    "\n",
    "# fig.savefig(\"../PYTHON_graphs/OUTPUTS/RCX_MFPAD_norm0_comparison_\"+CH+\"_\"+en+\"_exp.png\", figsize=(50, 24), dpi=144, transparent=False)\n",
    "# plt.show()"
   ]
  },
  {
   "cell_type": "code",
   "execution_count": null,
   "metadata": {},
   "outputs": [],
   "source": []
  },
  {
   "cell_type": "code",
   "execution_count": null,
   "metadata": {},
   "outputs": [],
   "source": [
    "fig,ax= plt.subplots(1, figsize=(12, 10))\n",
    "cs=ax.contourf(en[3:],ctheta,cPECD_en.T, cmap=cmap_temp, levels=20)\n",
    "ax.set_title(\"PECD vs energy\")\n",
    "# aspect=(phiM.max()/cosM.max())\n",
    "ax.set_xlabel('phi [DEG]')\n",
    "ax.set_ylabel('cos(theta) [adm]')\n",
    "cbar = fig.colorbar(cs,extend='both',shrink=0.9, ax=ax)\n",
    "# cbar.set_ticklabels([\"min\",\"max\"])\n",
    "# cbar.set_ticks([cPECD_en.min(),cPECD_en.max()])\n",
    "cbar.ax.set_ylabel('% of asymmetry')\n",
    "# ax.set_aspect(aspect)\n",
    "# fig.savefig(\"../PYTHON_graphs/OUTPUTS/SCR_MFPAD_singleNONORM_\"+CH+\"_\"+en+\"_exp.png\", figsize=(50, 24), dpi=144, transparent=False)"
   ]
  },
  {
   "cell_type": "code",
   "execution_count": null,
   "metadata": {},
   "outputs": [],
   "source": [
    "import functions_minuit as fumi\n",
    "# param_matrix=np.zeros((6,72)) # alternative nparray initialization\n",
    "param_matrix_cos = [[0 for i in range(6)] for j in range(21)] #i col, j row\n",
    "\n",
    "# fig, axes = plt.subplots(3,7, figsize=(50, 24), constrained_layout=True, sharex=True , sharey=True)\n",
    "fig, axes = plt.subplots(3,7, figsize=(25, 12), constrained_layout=True, sharex=True , sharey=True)\n",
    "custom_xlim = (-1, 1)\n",
    "custom_ylim = (-0.1,0.1) #custom_ylim = (-1,1)\n",
    "\n",
    "# limits=[(-1, 1), (-1, 1), (-1, 1), (-1, 1), (-1, 1), (-1, 1)]\n",
    "limits=[(-1, 1), (-1, 2), (None, None), (None, None), (None, None), (None, None)]\n",
    "\n",
    "for i,el,el_err,ax in zip(range(21),cPECD_en,errPECD_en,axes.flatten()): #fixe because of the photon directions, equal to range(len(cosphi))\n",
    "    \n",
    "    x_data = ctheta;y_data = el;y_err = el_err\n",
    "    #non sorted as test\n",
    "    # x_data = ctheta_axis_red;y_data = cPECD_std[i];y_err = errPECD_std[i]\n",
    "    \n",
    "    m=fumi.iminuit_err(x_data,y_data,y_err,limits)\n",
    "    fumi.plotminuit(x_data,y_data,y_err,m,ax,custom_xlim,custom_ylim)\n",
    "\n",
    "    for counter,el in enumerate(m.parameters): # len = 6\n",
    "        param_matrix_cos[i][counter]=((m.values[el], m.errors[el]))\n",
    "\n",
    "param_matrix_cos=np.array(param_matrix_cos) #numpy tranformation!!!\n",
    "\n",
    "fugi.overlaygraph(fig,wspace=0.08, hspace=0.08)\n",
    "# fig.savefig(\"../PYTHON_graphs/OUTPUTS/b1matrix_S_CR-CL_cos_\"+CH+\"_\"+en+\"_exp.png\", figsize=(50, 24), dpi=144, transparent=False)\n",
    "plt.show() "
   ]
  },
  {
   "cell_type": "code",
   "execution_count": null,
   "metadata": {},
   "outputs": [],
   "source": [
    "plt.scatter(en[3:],param_matrix_cos[:,0,0])\n"
   ]
  },
  {
   "cell_type": "code",
   "execution_count": null,
   "metadata": {},
   "outputs": [],
   "source": [
    "fig,(ax1,ax2)= plt.subplots(1,2, figsize=(25, 10), sharey=True)\n",
    "cs1=ax1.scatter(en[3:],ctheta,param_matrix_cos[:,0,0], cmap=cmap_temp, levels=15)\n",
    "ax1.set_title(\"ctehta vs EN R\")\n",
    "ax1.set_xlabel('en [eV]')\n",
    "ax1.set_ylabel('cos(theta) [adm]')\n",
    "# ax1.set_aspect(aspect)\n",
    "cbar1=fig.colorbar(cs1,extend='both', shrink=0.9, ax=ax1)\n",
    "cbar1.set_ticklabels([\"min\",\"max\"])\n",
    "cbar1.set_ticks([cthetaEN_R_norm[3:].min(),cthetaEN_R_norm[3:].max()])\n",
    "\n",
    "\n",
    "cs2=ax2.contourf(en[3:],ctheta,cthetaEN_L_norm[3:].T, cmap=cmap_temp, levels=15)\n",
    "ax2.set_title(\"ctehta vs EN L\")\n",
    "ax2.set_xlabel('en [eV]')\n",
    "ax2.set_ylabel('cos(theta) [adm]')\n",
    "# ax2.set_aspect(aspect)\n",
    "cbar2=fig.colorbar(cs2,extend='both', shrink=0.9, ax=ax2)\n",
    "cbar2.set_ticklabels([\"min\",\"max\"])\n",
    "cbar2.set_ticks([cthetaEN_L_norm[3:].min(),cthetaEN_L_norm[3:].max()])\n",
    "\n",
    "# fig.savefig(\"../PYTHON_graphs/OUTPUTS/RCX_MFPAD_norm0_comparison_\"+CH+\"_\"+en+\"_exp.png\", figsize=(50, 24), dpi=144, transparent=False)\n",
    "# plt.show()"
   ]
  },
  {
   "cell_type": "code",
   "execution_count": null,
   "metadata": {},
   "outputs": [],
   "source": []
  }
 ],
 "metadata": {
  "kernelspec": {
   "display_name": "Python 3",
   "language": "python",
   "name": "python3"
  },
  "language_info": {
   "codemirror_mode": {
    "name": "ipython",
    "version": 3
   },
   "file_extension": ".py",
   "mimetype": "text/x-python",
   "name": "python",
   "nbconvert_exporter": "python",
   "pygments_lexer": "ipython3",
   "version": "3.8.8-final"
  }
 },
 "nbformat": 4,
 "nbformat_minor": 2
}
