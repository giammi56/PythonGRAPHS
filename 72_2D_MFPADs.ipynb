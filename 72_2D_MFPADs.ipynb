{
 "cells": [
  {
   "cell_type": "code",
   "execution_count": null,
   "metadata": {},
   "outputs": [],
   "source": [
    "import glob\r\n",
    "import math\r\n",
    "import uproot\r\n",
    "import numpy as np\r\n",
    "import pandas as pd\r\n",
    "import pkgutil\r\n",
    "import uproot_methods\r\n",
    "\r\n",
    "import matplotlib as mpl\r\n",
    "import matplotlib.pyplot as plt\r\n",
    "from matplotlib.colors import LightSource\r\n",
    "%matplotlib inline\r\n",
    "\r\n",
    "import mplhep as hep\r\n",
    "from mpl_toolkits.mplot3d import Axes3D\r\n",
    "from mpl_toolkits.mplot3d.art3d import Poly3DCollection\r\n",
    "\r\n",
    "import max_functions as mf\r\n",
    "\r\n",
    "plt.style.use(hep.style.ROOT) # For now ROOT defaults to CMS\r\n",
    "\r\n",
    "path = r'D:\\UniFRK\\SEXTANT_sept2018\\S-TFMoX\\enant=S_hel=+1_KE=3.0eV' # use your path\r\n",
    "all_files = glob.glob(path + \"/*.dat\")\r\n",
    "\r\n",
    "li = []\r\n",
    "colnames=[\"phi\",\"cos(theta)\",\"value\"] \r\n",
    "\r\n",
    "# how to load multiple files http://jonathansoma.com/lede/foundations-2017/classes/working-with-many-files/class/\r\n",
    "for filename in all_files:\r\n",
    "    df = pd.read_csv(filename, delimiter=r\"\\s+\", names=colnames, header=None) \r\n",
    "    # or delim_whitespace=True, it is faste\r\n",
    "    # r\"\\s+\" is a regex (regular expression)\r\n",
    "    df[\"filename\"]=filename.split(\"\\\\\")[-1].split(\".\")[0] # adding a column with the file name\r\n",
    "    df[\"filename\"]=df[\"filename\"].str.replace(\" \",\"\") # corrects for spaces\r\n",
    "    df[\"filename\"]=df[\"filename\"].astype(\"category\")\r\n",
    "    li.append(df) # a unique DataFrame\r\n",
    "\r\n",
    "frame = pd.concat(li, axis=0)\r\n",
    "frame_srt=frame.groupby(\"filename\")\r\n"
   ]
  },
  {
   "cell_type": "code",
   "execution_count": null,
   "metadata": {},
   "outputs": [],
   "source": [
    "frame.loc[frame[\"filename\"] == \"1_1\"] # first way of selecting the right file\n",
    "frame_set = frame.set_index(\"filename\") # build a multiindex using the categories of filename"
   ]
  },
  {
   "cell_type": "code",
   "execution_count": null,
   "metadata": {},
   "outputs": [],
   "source": [
    "# Single 2D maps from pandas without tranforming into numpy\n",
    "frame.loc[frame[\"filename\"] == \"1_1\"].plot.hexbin(x=\"phi\", y=\"cos(theta)\", C=\"value\", sharex=False, gridsize=50)"
   ]
  },
  {
   "cell_type": "code",
   "execution_count": null,
   "metadata": {
    "tags": []
   },
   "outputs": [],
   "source": [
    "# converting to numpy arrays to plot\n",
    "phi = frame.loc[frame[\"filename\"] == \"1_1\"].iloc[:,0].unique() # phi\n",
    "ctheta = frame.loc[frame[\"filename\"] == \"1_1\"].iloc[:,1].unique() # cos(theta)\n",
    "counts = frame.loc[frame[\"filename\"] == \"1_1\"].iloc[:,2].to_numpy() # values\n",
    "\n",
    "print(phi.shape, ctheta.shape, counts.shape)\n",
    "print(type(phi), type(ctheta), type(counts))\n",
    "counts_matrix = counts.reshape(200,100) # reshape(rows=x,columns=y)\n",
    "\n",
    "print(\"number of ROWS (x) = \", len(counts_matrix[:,1]), \"number of COLUMNS (y for reshaping) = \", len(counts_matrix[1,:]))"
   ]
  },
  {
   "cell_type": "code",
   "execution_count": null,
   "metadata": {},
   "outputs": [],
   "source": [
    "# plt.imshow(z_matrix)\n",
    "plt.imshow(counts_matrix.T,extent=[phi[0],phi[-1],ctheta[0],ctheta[-1]], aspect=180)\n",
    "ax = plt.axes()\n",
    "ax.set_xlabel('phi [DEG]')\n",
    "ax.set_ylabel('cos(theta) [adm]')\n",
    "plt.colorbar()"
   ]
  },
  {
   "cell_type": "code",
   "execution_count": null,
   "metadata": {},
   "outputs": [],
   "source": [
    "# countour plot\n",
    "cmap = mpl.cm.viridis\n",
    "cmap.set_under('w')\n",
    "\n",
    "\n",
    "fig1, ax = plt.subplots(constrained_layout=True)\n",
    "\n",
    "CS = ax.contourf(phi,ctheta,counts_matrix.T, levels=20, extent=[phi[0],phi[-1],ctheta[0],ctheta[-1]], vmin=0.0001)\n",
    "ax.set_xlabel('phi [DEG]')\n",
    "ax.set_ylabel('cos(theta) [adm]')\n",
    "fig1.colorbar(CS)"
   ]
  },
  {
   "cell_type": "markdown",
   "metadata": {},
   "source": [
    "# OLD WAY OF PROCEDING!! Note unique values and extent, all the 72 plots\n",
    "phi = frame.loc[frame[\"filename\"] == \"1_1\"].iloc[:,0].unique() # phi\n",
    "ctheta = frame.loc[frame[\"filename\"] == \"1_1\"].iloc[:,1].unique() # cos(theta)\n",
    "\n",
    "fig = plt.figure(figsize=(50, 24),dpi=80) # figsize in inche by defauls: 1 in = 2.8 cm\n",
    "for filename,group,i in zip(frame_srt,frame_srt,range(1,73)) :\n",
    "    counts_str = group[1][\"value\"].to_numpy()\n",
    "    counts_matrix = counts_str.reshape(200,100)\n",
    "    ax = fig.add_subplot(6, 12, i)\n",
    "    ax.contourf(phi,ctheta,counts_matrix, levels=20, extent=[phi[0],phi[-1],ctheta[0],ctheta[-1]], vmin=0.0001)\n",
    "    ax.text(i, 1+i//12, i, ha=\"center\", va=\"center\", color=\"red\")\n",
    "\n",
    "fig.tight_layout()\n",
    "# plt.show()"
   ]
  },
  {
   "cell_type": "code",
   "execution_count": null,
   "metadata": {
    "tags": []
   },
   "outputs": [],
   "source": [
    "# all the 72 plots\n",
    "# the theoretical MFPAD has the form 1_1 ... 1_12, 2_1 ... 2_12 therefore it is ok the (6,12) subplot\n",
    "# 6 levels of cos(theta) (y), 12 levels of phi (x)\n",
    "phi = frame.loc[frame[\"filename\"] == \"1_1\"].iloc[:,0].to_numpy() # phi\n",
    "ctheta = frame.loc[frame[\"filename\"] == \"1_1\"].iloc[:,1].to_numpy() # cos(theta)\n",
    "\n",
    "fig = plt.figure(figsize=(50, 24),dpi=80) # figsize in inche by defauls: 1 in = 2.8 cm\n",
    "for filename,group,i in zip(frame_srt,frame_srt,range(1,73)) :\n",
    "    counts_str = group[1][\"value\"].to_numpy()\n",
    "    ax = fig.add_subplot(6, 12, i)\n",
    "    ax.contourf(phi.reshape(200,100),ctheta.reshape(200,100),counts_str.reshape(200,100), levels=20, vmin=0.0001)\n",
    "    ax.text(i, 1+i//12, i, ha=\"center\", va=\"center\", color=\"red\")\n",
    "\n",
    "fig.tight_layout()\n",
    "# plt.show()"
   ]
  },
  {
   "cell_type": "markdown",
   "metadata": {},
   "source": [
    "# alterative methods for subplots: not working well, lets marks\n",
    "\n",
    "fig, axs = plt.subplots(2,5, figsize=(50, 24), sharex=True, sharey=True)\n",
    "axs = axs.ravel()\n",
    "\n",
    "# all the 72 plots\n",
    "phi = frame.loc[frame[\"filename\"] == \"1_1\"].iloc[:,0].unique() # phi\n",
    "ctetha = frame.loc[frame[\"filename\"] == \"1_1\"].iloc[:,1].unique() # cos(theta)\n",
    "\n",
    "for filename,group,i in zip(frame_srt,frame_srt,range(1,73)) :\n",
    "    counts_str = group[1][\"value\"].to_numpy()\n",
    "    counts_matrix = counts_str.reshape(200,100)\n",
    "    ax = fig.add_subplot(6, 12, i)\n",
    "    ax.contourf(phi,ctheta,counts_matrix.T, levels=20, extent=[phi[0],phi[-1],ctheta[0],ctheta[-1]], vmin=0.0001)\n",
    "\n",
    "fig.tight_layout()\n",
    "plt.show()"
   ]
  },
  {
   "cell_type": "code",
   "execution_count": null,
   "metadata": {
    "tags": []
   },
   "outputs": [],
   "source": [
    "# all the 72 plots: no borders & sharing axis\n",
    "\n",
    "\n",
    "phi = frame.loc[frame[\"filename\"] == \"1_1\"].iloc[:,0].to_numpy() # phi\n",
    "ctheta = frame.loc[frame[\"filename\"] == \"1_1\"].iloc[:,1].to_numpy() # cos(theta)\n",
    "\n",
    "fig, axes = plt.subplots(6,12, figsize=(50, 24), sharex='col', sharey='row')\n",
    "fig.subplots_adjust(hspace = .5, wspace=.5)\n",
    "\n",
    "for filename,group,ax in zip(frame_srt,frame_srt,axes.flatten()) :\n",
    "    counts_str = group[1][\"value\"].to_numpy()\n",
    "    counts_matrix = counts_str.reshape(200,100)\n",
    "    ax.contourf(phi.reshape(200,100),ctheta.reshape(200,100),counts_str.reshape(200,100), levels=20, vmin=0.0001)\n",
    "    \n",
    "fig.tight_layout()\n",
    "plt.show()"
   ]
  },
  {
   "cell_type": "code",
   "execution_count": null,
   "metadata": {
    "tags": []
   },
   "outputs": [],
   "source": [
    "# To convert in sphrerical coordinates!!\n",
    "\n",
    "phi = frame.loc[frame[\"filename\"] == \"1_1\"].iloc[:,0].to_numpy() # phi\n",
    "ctheta = frame.loc[frame[\"filename\"] == \"1_1\"].iloc[:,1].to_numpy() # cos(theta)\n",
    "counts_str = frame.loc[frame[\"filename\"] == \"1_1\"].iloc[:,2].to_numpy() # counts\n",
    "\n",
    "theta = np.arccos(ctheta)\n",
    "phi_rad = phi * 3.14159265359/180.\n",
    "\n",
    "# convertion to spherical coordinates 1D vectors of shape (2000,1)\n",
    "x = counts_str * np.sin(theta) * np.cos(phi_rad)\n",
    "y = counts_str * np.sin(theta) * np.sin(phi_rad)\n",
    "z_str = counts_str * ctheta\n",
    "\n",
    "# distance from the origin for the cmap\n",
    "# remember do not use math, but np for fast operations on vectors\n",
    "d_str = np.sqrt(x**2+y**2+z_str**2)\n",
    "\n",
    "X,Y = np.meshgrid(x, y, sparse=True)\n",
    "\n",
    "fig = plt.figure()\n",
    "fig, ax = plt.subplots(1,2,subplot_kw={\"projection\": \"3d\"})\n",
    "# alternative sintax\n",
    "# fig = plt.figure()\n",
    "# ax = fig.gca(projection='3d')\n",
    "\n",
    "ax = fig.add_subplot(1, 2, 1, projection='3d')\n",
    "ax.scatter(x, y, z_str, c=d_str, cmap='viridis', alpha=0.75) # X,Y,Z 1D vectors -> everything ok\n",
    "\n",
    "# Z should be 2D\n",
    "# ax = fig.add_subplot(1, 3, 2, projection='3d')\n",
    "# ax.plot_wireframe(X,Y,Z)\n",
    "\n",
    "ax = fig.add_subplot(1, 2, 2, projection='3d')\n",
    "ax.plot_trisurf(x, y, z_str, antialiased=True)\n",
    "\n",
    "fig.tight_layout()\n",
    "plt.show()"
   ]
  },
  {
   "cell_type": "code",
   "execution_count": null,
   "metadata": {},
   "outputs": [],
   "source": [
    "\n",
    "phi = frame.loc[frame[\"filename\"] == \"1_1\"].iloc[:,0].to_numpy() # phi\n",
    "ctheta = frame.loc[frame[\"filename\"] == \"1_1\"].iloc[:,1].to_numpy() # cos(theta)\n",
    "counts_str = frame.loc[frame[\"filename\"] == \"1_1\"].iloc[:,2].to_numpy() # counts\n",
    "\n",
    "theta = np.arccos(ctheta)\n",
    "phi_rad = phi * 3.14159265359/180.\n",
    "\n",
    "# convertion to spherical coordinates 1D vectors of shape (2000,1)\n",
    "x = counts_str * np.sin(theta) * np.cos(phi_rad)\n",
    "y = counts_str * np.sin(theta) * np.sin(phi_rad)\n",
    "z_str = counts_str * ctheta\n",
    "\n",
    "# subsampling with slicing to reduce the computational effort\n",
    "X,Y = np.meshgrid(x[0:-1:3], y[0:-1:3], sparse=True)\n",
    "Z_1, Z_2 = np.meshgrid(x[0:-1:3], y[0:-1:3], sparse=True)\n",
    "\n",
    "fig = plt.figure()\n",
    "fig, ax = plt.subplots(1,2, subplot_kw={\"projection\": \"3d\"}, figsize=(20,10))\n",
    "\n",
    "ax = fig.add_subplot(1, 2, 1, projection='3d')\n",
    "ax.plot_surface(X,Y,Z_1)\n",
    "\n",
    "ax = fig.add_subplot(1, 2, 2, projection='3d')\n",
    "ax.plot_surface(X,Y,Z_2)\n",
    "\n",
    "plt.show()"
   ]
  },
  {
   "cell_type": "code",
   "execution_count": null,
   "metadata": {
    "tags": []
   },
   "outputs": [],
   "source": [
    "# To convert in sphrerical coordinates!!\n",
    "from mpl_toolkits.mplot3d.art3d import Poly3DCollection\n",
    "from matplotlib.colors import LightSource\n",
    "\n",
    "phi = frame.loc[frame[\"filename\"] == \"1_1\"].iloc[:,0].to_numpy() # phi\n",
    "ctheta = frame.loc[frame[\"filename\"] == \"1_1\"].iloc[:,1].to_numpy() # cos(theta)\n",
    "counts_str = frame.loc[frame[\"filename\"] == \"1_1\"].iloc[:,2].to_numpy() # counts\n",
    "\n",
    "theta_rad = np.arccos(ctheta)\n",
    "phi_rad = phi*np.pi/180.\n",
    "\n",
    "# convertion to cartesian coordinates 1D vectors of shape (20000,1)\n",
    "x = counts_str * np.sin(theta_rad) * np.cos(phi_rad)\n",
    "y = counts_str * np.sin(theta_rad) * np.sin(phi_rad)\n",
    "z_str = counts_str * ctheta\n",
    "\n",
    "verts = [list(zip(x, y, z_str))]\n",
    "\n",
    "fig = plt.figure()\n",
    "ax = Axes3D(fig)\n",
    "\n",
    "# facecolor='g'\n",
    "ax.add_collection3d(Poly3DCollection(verts, cmap=\"hot\", alpha=0.9))\n",
    "ls = LightSource(azdeg=225.0, altdeg=45.0)\n",
    "# ax.auto_scale_xyz(verts[:,0], verts[:,1], verts[:,2])\n",
    "ax.set_xlim3d(x.min(), x.max())\n",
    "ax.set_ylim3d(y.min(), y.max())\n",
    "ax.set_zlim3d(z_str.min(), z_str.max())\n",
    "\n",
    "plt.show()"
   ]
  },
  {
   "cell_type": "code",
   "execution_count": null,
   "metadata": {},
   "outputs": [],
   "source": []
  }
 ],
 "metadata": {
  "kernelspec": {
   "display_name": "Python 3.8.5 64-bit ('base': conda)",
   "metadata": {
    "interpreter": {
     "hash": "14199186261275788dfea1c403a51d6f79ce13d90df2e64b59dbb79af406f697"
    }
   },
   "name": "Python 3.8.5 64-bit ('base': conda)"
  },
  "language_info": {
   "codemirror_mode": {
    "name": "ipython",
    "version": 3
   },
   "file_extension": ".py",
   "mimetype": "text/x-python",
   "name": "python",
   "nbconvert_exporter": "python",
   "pygments_lexer": "ipython3",
   "version": "3.8.5-final"
  }
 },
 "nbformat": 4,
 "nbformat_minor": 2
}
