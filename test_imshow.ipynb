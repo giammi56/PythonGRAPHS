{
 "cells": [
  {
   "cell_type": "code",
   "execution_count": null,
   "metadata": {},
   "outputs": [],
   "source": [
    "extent[] make the same as having x and y\n",
    "Both imshoe and contourf fill the graph from the minimum x and y, increasing first a and then ywhen extent is called, the "
   ]
  },
  {
   "cell_type": "code",
   "execution_count": null,
   "metadata": {},
   "outputs": [],
   "source": [
    "import numpy as np\n",
    "import matplotlib as mpl\n",
    "import matplotlib.pyplot as plt \n",
    "\n",
    "z=np.array([1, 2 ,3 ,4 ,5 ,6 ,7 ,8 ,9])\n",
    "z_matrix = z.reshape(3,3)\n",
    "z_matrix\n",
    "\n",
    "fig1, ax1 = plt.subplots()\n",
    "im1 = ax1.imshow(z_matrix)\n",
    "\n",
    "for i in range(z_matrix.shape[0]): # rows\n",
    "    for j in range(z_matrix.shape[1]): # columns\n",
    "        text1 = ax1.text(i, j, z_matrix.T[i, j],\n",
    "                ha=\"center\", va=\"center\", color=\"black\")\n",
    "plt.colorbar(im1)"
   ]
  },
  {
   "cell_type": "code",
   "execution_count": null,
   "metadata": {
    "tags": []
   },
   "outputs": [],
   "source": [
    "fig2, ax2 = plt.subplots()\n",
    "im2 = ax2.imshow(z_matrix, extent=[-0.5,2.5,-0.5,2.5])\n",
    "\n",
    "for i in range(z_matrix.shape[0]-1,-1,-1): # rows\n",
    "    for j in range(z_matrix.shape[1]-1,-1,-1): # columns\n",
    "        print(i,j)\n",
    "        text2 = ax2.text(i, j, z_matrix.T[j, i],\n",
    "                ha=\"center\", va=\"center\", color=\"black\")\n",
    "plt.colorbar(im2)"
   ]
  },
  {
   "cell_type": "code",
   "execution_count": null,
   "metadata": {
    "tags": []
   },
   "outputs": [],
   "source": [
    "fig3, ax3 = plt.subplots()\n",
    "im3 = ax3.contourf(z_matrix.T, extent=[-0.5,2.5,-0.5,2.5])\n",
    "\n",
    "for i in range(z_matrix.shape[0]-1,-1,-1): # rows\n",
    "    for j in range(z_matrix.shape[1]-1,-1,-1): # columns\n",
    "        print(i,j)\n",
    "        text3 = ax3.text(i, j, z_matrix.T[j, i],\n",
    "                ha=\"center\", va=\"center\", color=\"black\")\n",
    "plt.colorbar(im3)"
   ]
  },
  {
   "cell_type": "code",
   "execution_count": null,
   "metadata": {},
   "outputs": [],
   "source": []
  }
 ],
 "metadata": {
  "kernelspec": {
   "display_name": "Python 3.8.5 64-bit ('base': conda)",
   "metadata": {
    "interpreter": {
     "hash": "14199186261275788dfea1c403a51d6f79ce13d90df2e64b59dbb79af406f697"
    }
   },
   "name": "Python 3.8.5 64-bit ('base': conda)"
  },
  "language_info": {
   "codemirror_mode": {
    "name": "ipython",
    "version": 3
   },
   "file_extension": ".py",
   "mimetype": "text/x-python",
   "name": "python",
   "nbconvert_exporter": "python",
   "pygments_lexer": "ipython3",
   "version": "3.8.5-final"
  }
 },
 "nbformat": 4,
 "nbformat_minor": 2
}
